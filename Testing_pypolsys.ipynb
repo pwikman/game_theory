{
 "cells": [
  {
   "cell_type": "code",
   "execution_count": 1,
   "id": "d2209d17-7c99-46ff-b84c-004b922d1568",
   "metadata": {},
   "outputs": [
    {
     "name": "stdout",
     "output_type": "stream",
     "text": [
      " Polynomial system with,           3 equations and variables.\n",
      " P           1 , with            4  terms.\n",
      "               (1.0000000000000000,0.0000000000000000)  x**(           2           0           0 )\n",
      "               (1.0000000000000000,0.0000000000000000)  x**(           0           1           0 )\n",
      "               (1.0000000000000000,0.0000000000000000)  x**(           0           0           1 )\n",
      "              (-1.0000000000000000,0.0000000000000000)  x**(           0           0           0 )\n",
      " P           2 , with            4  terms.\n",
      "               (1.0000000000000000,0.0000000000000000)  x**(           1           0           0 )\n",
      "               (1.0000000000000000,0.0000000000000000)  x**(           0           2           0 )\n",
      "               (1.0000000000000000,0.0000000000000000)  x**(           0           0           1 )\n",
      "              (-1.0000000000000000,0.0000000000000000)  x**(           0           0           0 )\n",
      " P           3 , with            4  terms.\n",
      "               (1.0000000000000000,0.0000000000000000)  x**(           1           0           0 )\n",
      "               (1.0000000000000000,0.0000000000000000)  x**(           0           1           0 )\n",
      "               (1.0000000000000000,0.0000000000000000)  x**(           0           0           2 )\n",
      "              (-1.0000000000000000,0.0000000000000000)  x**(           0           0           0 )\n",
      " Solve report :\n",
      " --------------\n",
      "   Normal return.\n",
      "   All paths were normally tracked.\n"
     ]
    },
    {
     "data": {
      "text/plain": [
       "0"
      ]
     },
     "execution_count": 1,
     "metadata": {},
     "output_type": "execute_result"
    }
   ],
   "source": [
    "import numpy as np\n",
    "import pypolsys\n",
    "# Declare the number of equation of the polynomial system\n",
    "N = 3\n",
    "# and the number of monoms of each equation (here 4 monoms for each equation).\n",
    "n_coef_per_eq = np.array([4, 4, 4], dtype=np.int32)\n",
    "# Provide the coefficients as 1D array\n",
    "all_coef = np.array([1, 1,  1, -1,\n",
    "                     1, 1,  1, -1,\n",
    "                     1, 1,  1, -1], dtype=complex)\n",
    "# then the degree of each monom\n",
    "all_deg = np.zeros((np.sum(n_coef_per_eq), N), dtype=np.int32)\n",
    "all_deg[0, 0] = 2\n",
    "all_deg[1, 1] = 1\n",
    "all_deg[2, 2] = 1\n",
    "all_deg[4, 0] = 1\n",
    "all_deg[5, 1] = 2\n",
    "all_deg[6, 2] = 1\n",
    "all_deg[8, 0] = 1\n",
    "all_deg[9, 1] = 1\n",
    "all_deg[10, 2] = 2\n",
    "# Pass it to POLSYS_PLP\n",
    "pypolsys.polsys.init_poly(N, n_coef_per_eq, all_coef, all_deg)\n",
    "# Create homogeneous partition\n",
    "# (N.B. Partitions are important to limit the number of paths\n",
    "# to track associated to solutions at infinity)\n",
    "part = pypolsys.utils.make_h_part(3)\n",
    "# Pass it to POLSYS_PLP\n",
    "pypolsys.polsys.init_partition(*part)\n",
    "# Show coef\n",
    "pypolsys.polsys.show_coef()\n",
    "# Found 8 solutions, and track 8 paths; some solutions appear twice\n",
    "bplp = pypolsys.polsys.solve(1e-8, 1e-14, 0.0)\n",
    "# Get the roots, array of size (N+1) x bplp\n",
    "r = pypolsys.polsys.myroots\n",
    "# Get status of the solving process\n",
    "pypolsys.polsys.report()"
   ]
  },
  {
   "cell_type": "code",
   "execution_count": 2,
   "id": "aef2a653-df2f-43bf-924e-18ea619b313f",
   "metadata": {},
   "outputs": [
    {
     "name": "stdout",
     "output_type": "stream",
     "text": [
      "> Running tests...\n",
      "test_3vars_homogeneous_partition (__main__.TestBasic.test_3vars_homogeneous_partition)\n",
      "Consider the following example ... ok\n",
      "test_Cox_refine (__main__.TestBasic.test_Cox_refine)\n",
      "Use 1-homogeneous partition and refine computation. ...  Solve report :\n",
      " --------------\n",
      "   Normal return.\n",
      "   All paths were normally tracked.\n",
      "ok\n",
      "test_POLSYS_PLP1 (__main__.TestBasic.test_POLSYS_PLP1)\n",
      "Test example #1 of original `POLSYS_PLP` test suite. ... ok\n",
      "test_horner_dense (__main__.TestBasic.test_horner_dense)\n",
      "Test horner, dense and standard approach on a simple test case, ...   > 225.0 % more coefs after conversion to dense.\n",
      "ok\n",
      "test_univariate (__main__.TestBasic.test_univariate)\n",
      "Test univariate polynomial solve build from sympy. ...   > 100.0 % more coefs after conversion to dense.\n",
      "ok\n",
      "test_1homogeneous (__main__.TestToyModel.test_1homogeneous)\n",
      "Use 1-homogeneous partition. ... ok\n",
      "test_3_homogeneous (__main__.TestToyModel.test_3_homogeneous)\n",
      "Use 3-homogeneous partition. Not optimal, but must find all solution. ...  Solve report :\n",
      " --------------\n",
      "   Normal return.\n",
      "   All paths were normally tracked.\n",
      "ok\n",
      "test_3_homogeneousH (__main__.TestToyModel.test_3_homogeneousH)\n",
      "Use 3-homogeneous partition. Not optimal, but must find all solution. ...   > 156.52173913043478 % more coefs after conversion to dense.\n",
      "ok\n",
      "test_bezout (__main__.TestToyModel.test_bezout)\n",
      "Use 1-homogeneous partition and compare with `bezout`. ... ok\n",
      "test_plp_homogeneous (__main__.TestToyModel.test_plp_homogeneous)\n",
      "Use PLP partition. Not optimal, but must find all solution. ... ok\n",
      "di (pypolsys.utils)\n",
      "Doctest: pypolsys.utils.di ... ok\n",
      "from1Darray (pypolsys.utils)\n",
      "Doctest: pypolsys.utils.from1Darray ... ok\n",
      "fromSympy (pypolsys.utils)\n",
      "Doctest: pypolsys.utils.fromSympy ... ok\n",
      "make_mh_part (pypolsys.utils)\n",
      "Doctest: pypolsys.utils.make_mh_part ... ok\n",
      "solve_univar (pypolsys.utils)\n",
      "Doctest: pypolsys.utils.solve_univar ... ok\n",
      "toDense (pypolsys.utils)\n",
      "Doctest: pypolsys.utils.toDense ... ok\n",
      "\n",
      "----------------------------------------------------------------------\n",
      "Ran 16 tests in 0.285s\n",
      "\n",
      "OK\n"
     ]
    }
   ],
   "source": [
    "!python -m pypolsys.test"
   ]
  },
  {
   "cell_type": "code",
   "execution_count": 3,
   "id": "e183463b-0d11-4443-8076-9a0fb86acb2b",
   "metadata": {},
   "outputs": [
    {
     "name": "stdout",
     "output_type": "stream",
     "text": [
      " Solve report :\n",
      " --------------\n",
      "   Normal return.\n",
      "   All paths were normally tracked.\n"
     ]
    },
    {
     "data": {
      "text/plain": [
       "0"
      ]
     },
     "execution_count": 3,
     "metadata": {},
     "output_type": "execute_result"
    }
   ],
   "source": [
    "import numpy as np\n",
    "import pypolsys\n",
    "import sympy as sym\n",
    "\n",
    "x, y, z = sym.symbols('x, y, z')\n",
    "pol = pypolsys.utils.fromSympy([sym.poly(x**2 + y + z - 1, (x, y, z)),\n",
    "                                sym.poly(x + y**2 + z - 1, (x, y, z)),\n",
    "                                sym.poly(x + y + z**2 - 1, (x, y, z))])\n",
    "# Pass it to POLSYS_PLP\n",
    "pypolsys.polsys.init_poly(*pol)\n",
    "# Create homogeneous partition\n",
    "part = pypolsys.utils.make_h_part(3)\n",
    "# Pass it to POLSYS_PLP\n",
    "pypolsys.polsys.init_partition(*part)\n",
    "# Solve\n",
    "bplp = pypolsys.polsys.solve(1e-10, 1e-10, 0.0)\n",
    "# Get the roots, array of size (N+1) x bplp\n",
    "r = pypolsys.polsys.myroots\n",
    "# Get status of the solving process\n",
    "pypolsys.polsys.report()"
   ]
  },
  {
   "cell_type": "code",
   "execution_count": 4,
   "id": "ea8a24fb-c340-4aac-9b36-b8c28b6cf912",
   "metadata": {},
   "outputs": [
    {
     "data": {
      "text/plain": [
       "array([[-0.        +0.j, -2.41421356+0.j, -0.        +0.j,\n",
       "         1.        -0.j,  0.41421356-0.j,  0.        -0.j],\n",
       "       [ 1.        +0.j, -2.41421356-0.j, -0.        +0.j,\n",
       "        -0.        +0.j,  0.41421356-0.j,  0.        -0.j],\n",
       "       [-0.        -0.j, -2.41421356-0.j,  1.        -0.j,\n",
       "        -0.        +0.j,  0.41421356+0.j,  1.        +0.j]])"
      ]
     },
     "execution_count": 4,
     "metadata": {},
     "output_type": "execute_result"
    }
   ],
   "source": [
    "np.round(pypolsys.polsys.myroots[:-1,:-2],9)\n",
    "#np.sqrt(2)-1"
   ]
  },
  {
   "cell_type": "code",
   "execution_count": 18,
   "id": "7820600c-c7e9-4e1c-aa70-5260fd4906ff",
   "metadata": {},
   "outputs": [
    {
     "name": "stdout",
     "output_type": "stream",
     "text": [
      " Solve report :\n",
      " --------------\n",
      "   Normal return.\n",
      "   All paths were normally tracked.\n"
     ]
    },
    {
     "data": {
      "text/plain": [
       "0"
      ]
     },
     "execution_count": 18,
     "metadata": {},
     "output_type": "execute_result"
    }
   ],
   "source": [
    "import numpy as np\n",
    "import pypolsys\n",
    "import sympy as sym\n",
    "\n",
    "x = sym.symbols('x')\n",
    "pol = pypolsys.utils.fromSympy([sym.poly(x**3+10*x**2+169*x, (x))])\n",
    "# Pass it to POLSYS_PLP\n",
    "pypolsys.polsys.init_poly(*pol)\n",
    "# Create homogeneous partition\n",
    "part = pypolsys.utils.make_h_part(1)\n",
    "# Pass it to POLSYS_PLP\n",
    "pypolsys.polsys.init_partition(*part)\n",
    "# Solve\n",
    "bplp = pypolsys.polsys.solve(1e-8, 1e-14, 0.0)\n",
    "# Get the roots, array of size (N+1) x bplp\n",
    "r2 = pypolsys.polsys.myroots\n",
    "# Get status of the solving process\n",
    "pypolsys.polsys.report()\n",
    "\n"
   ]
  },
  {
   "cell_type": "code",
   "execution_count": 20,
   "id": "10446688-d332-44c4-8516-585eabfc648d",
   "metadata": {},
   "outputs": [
    {
     "data": {
      "text/plain": [
       "array([[-5. +12.j , -5. -12.j ,  0.  +0.j ],\n",
       "       [ 0.1 -0.1j,  0.1 +0.1j,  0.2 +0.j ]])"
      ]
     },
     "execution_count": 20,
     "metadata": {},
     "output_type": "execute_result"
    }
   ],
   "source": [
    "np.round(r2[:,:],1)"
   ]
  }
 ],
 "metadata": {
  "kernelspec": {
   "display_name": "Python 3 (ipykernel)",
   "language": "python",
   "name": "python3"
  },
  "language_info": {
   "codemirror_mode": {
    "name": "ipython",
    "version": 3
   },
   "file_extension": ".py",
   "mimetype": "text/x-python",
   "name": "python",
   "nbconvert_exporter": "python",
   "pygments_lexer": "ipython3",
   "version": "3.11.2"
  }
 },
 "nbformat": 4,
 "nbformat_minor": 5
}
