{
 "cells": [
  {
   "cell_type": "code",
   "execution_count": 3,
   "id": "19b05418-edd0-41c8-8f7d-f8177029d446",
   "metadata": {},
   "outputs": [],
   "source": [
    "class Game:\n",
    "    def __init__(self, num_players, num_strategies, payoffs, probability_combinations, indices_combinations):\n",
    "        self.num_players = num_players\n",
    "        self.num_strategies = num_strategies\n",
    "        self.payoffs = payoffs\n",
    "        self.probability_combinations = probability_combinations\n",
    "        self.indices_combinations = indices_combinations\n",
    "\n",
    "\n",
    "def create_n_player_game(payoffs):\n",
    "    num_strategies = [len(payoffs[0]) for _ in range(len(payoffs))]\n",
    "\n",
    "    probability_combinations = list(itertools.product(*[[i for i in range(s)] for s in num_strategies]))\n",
    "    indices_combinations = list(itertools.product(*[range(num_players)] * len(num_strategies)))\n",
    "\n",
    "    return Game(num_players, num_strategies, payoffs, probability_combinations, indices_combinations)"
   ]
  },
  {
   "cell_type": "code",
   "execution_count": 31,
   "id": "05a7cac3-130b-40ca-bf8c-04877519991a",
   "metadata": {},
   "outputs": [
    {
     "data": {
      "text/plain": [
       "[(0, 0, 0),\n",
       " (0, 0, 1),\n",
       " (0, 0, 2),\n",
       " (0, 1, 0),\n",
       " (0, 1, 1),\n",
       " (0, 1, 2),\n",
       " (0, 2, 0),\n",
       " (0, 2, 1),\n",
       " (0, 2, 2),\n",
       " (1, 0, 0),\n",
       " (1, 0, 1),\n",
       " (1, 0, 2),\n",
       " (1, 1, 0),\n",
       " (1, 1, 1),\n",
       " (1, 1, 2),\n",
       " (1, 2, 0),\n",
       " (1, 2, 1),\n",
       " (1, 2, 2),\n",
       " (2, 0, 0),\n",
       " (2, 0, 1),\n",
       " (2, 0, 2),\n",
       " (2, 1, 0),\n",
       " (2, 1, 1),\n",
       " (2, 1, 2),\n",
       " (2, 2, 0),\n",
       " (2, 2, 1),\n",
       " (2, 2, 2)]"
      ]
     },
     "execution_count": 31,
     "metadata": {},
     "output_type": "execute_result"
    }
   ],
   "source": [
    "payoffs = [\n",
    "    [\n",
    "        [[1, 2, 3], [4, 5, 6]],\n",
    "        [[7, 8, 9], [10, 11, 12]]\n",
    "    ],\n",
    "    [\n",
    "        [[13, 14, 15], [16, 17, 18]],\n",
    "        [[19, 20, 21], [22, 23, 24]]\n",
    "    ],\n",
    "    [\n",
    "        [[25, 26, 27], [28, 29, 30]],\n",
    "        [[31, 32, 33], [34, 35, 36]]\n",
    "    ]\n",
    "]\n",
    "create_n_player_game(payoffs).indices_combinations"
   ]
  },
  {
   "cell_type": "code",
   "execution_count": 6,
   "id": "31649c5c-e914-486b-94a5-e3e174b0b011",
   "metadata": {},
   "outputs": [],
   "source": [
    "import sympy as sp\n",
    "import itertools\n",
    "\n",
    "def calculate_expected_payoffs(game, n, s):\n",
    "    probabilities = [[sp.Symbol(f'p{i+1}{j+1}') for j in range(s)] for i in range(n)] # list of probabilities, one for every strategy and player\n",
    "\n",
    "    def get_probability_combination(indices):\n",
    "        return [probabilities[player][indices[player]] for player in range(n)]\n",
    "\n",
    "    def expected_payoff(player, strategy):\n",
    "        payoff = 0\n",
    "        for indices in itertools.product(range(s), repeat=n):\n",
    "            probability_combination = get_probability_combination(indices)  \n",
    "            payoff_value = game.payoffs[player][strategy]\n",
    "            for i, index in enumerate(indices):\n",
    "                if i != player:\n",
    "                    payoff_value = payoff_value[index]\n",
    "            payoff_term = payoff_value * sp.prod(probability_combination)\n",
    "\n",
    "\n",
    "            payoff += payoff_term\n",
    "        return payoff\n",
    "\n",
    "    expected_payoffs = [[expected_payoff(player, strategy) for strategy in range(s)] for player in range(n)]\n",
    "    return expected_payoffs"
   ]
  },
  {
   "cell_type": "code",
   "execution_count": null,
   "id": "8344276e-dbda-4005-8cc9-c80611b9684a",
   "metadata": {},
   "outputs": [],
   "source": [
    "def best_response_conditions(game, n, s):\n",
    "    variables = [sp.Symbol(f'p{i+1}{j+1}') for i in range(n) for j in range(s)]"
   ]
  },
  {
   "cell_type": "code",
   "execution_count": 5,
   "id": "decf4962-4154-438f-94f0-da91b0164360",
   "metadata": {},
   "outputs": [],
   "source": [
    "def expected_payoff(player, strategy):\n",
    "    payoff = 0\n",
    "    for probability_combination, indices in zip(game.probability_combinations, game.indices_combinations):\n",
    "        payoff_term = game.payoffs[player][strategy]\n",
    "        for i, index in enumerate(indices):\n",
    "            if i != player:\n",
    "                payoff_term = payoff_term[i][index]\n",
    "        payoff_term = payoff_term * sp.prod([variables[i] for i in probability_combination if variables[i] != variables[player * num_strategies + strategy]])\n",
    "        payoff += payoff_term\n",
    "    return payoff\n",
    "\n",
    "\n",
    "    payoffs = [[expected_payoff(player, strategy) for strategy in range(s)] for player in range(n)]\n",
    "    first_order_conditions = []\n",
    "\n",
    "    for player in range(n):\n",
    "        for strategy in range(s - 1):\n",
    "            condition = payoffs[player][strategy] - payoffs[player][s - 1]\n",
    "            first_order_conditions.append(condition.subs(zip(game.probability_combinations[0], variables)))\n",
    "\n",
    "    return first_order_conditions"
   ]
  },
  {
   "cell_type": "code",
   "execution_count": 18,
   "id": "5b9be294-7f38-4120-a7db-6f8edf8e985f",
   "metadata": {},
   "outputs": [
    {
     "name": "stdout",
     "output_type": "stream",
     "text": [
      "7*p11*p21*p31 + 8*p11*p21*p32 + 10*p11*p22*p31 + 11*p11*p22*p32 + 7*p12*p21*p31 + 8*p12*p21*p32 + 10*p12*p22*p31 + 11*p12*p22*p32\n"
     ]
    }
   ],
   "source": [
    "# Example usage:\n",
    "import numpy as np\n",
    "num_players = 3\n",
    "num_strategies = 2\n",
    "\n",
    "payoffs = [\n",
    "    [\n",
    "        [[1, 2, 3], [4, 5, 6]],\n",
    "        [[7, 8, 9], [10, 11, 12]]\n",
    "    ],\n",
    "    [\n",
    "        [[13, 14, 15], [16, 17, 18]],\n",
    "        [[19, 20, 21], [22, 23, 24]]\n",
    "    ],\n",
    "    [\n",
    "        [[25, 26, 27], [28, 29, 30]],\n",
    "        [[31, 32, 33], [34, 35, 36]]\n",
    "    ]\n",
    "]\n",
    "\n",
    "game = create_n_player_game(payoffs)\n",
    "#conditions = best_response_conditions(game, num_players, num_strategies)\n",
    "conditions = calculate_expected_payoffs(game, num_players, num_strategies)\n",
    "print(conditions[0][1])"
   ]
  },
  {
   "cell_type": "code",
   "execution_count": null,
   "id": "8df05678-c2ea-42af-a990-dc7c306f61bd",
   "metadata": {},
   "outputs": [],
   "source": [
    "from phcpy import solver\n",
    "from phcpy.solutions import strsol2dict\n",
    "from phcpy.factor import solve as factor_solve\n",
    "\n",
    "def check_probability_conditions(solution, n, s):\n",
    "    for i in range(n):\n",
    "        prob_sum = 0\n",
    "        for j in range(s):\n",
    "            prob = f'p{i+1}{j+1}'\n",
    "            if prob in solution:\n",
    "                prob_value = solution[prob]\n",
    "                if prob_value < 0 or prob_value > 1:\n",
    "                    return False\n",
    "                prob_sum += prob_value\n",
    "        if abs(prob_sum - 1) > 1e-6:\n",
    "            return False\n",
    "    return True\n",
    "\n",
    "def find_nash_equilibria(conditions, n, s):\n",
    "    variables = [f'p{i+1}{j+1}' for i in range(n) for j in range(s)]\n",
    "    system = [f'({condition}) * {var} * (1 - {var})' for condition, var in zip(conditions, variables)] + [f'p{i+1}{s} - (1 - p{i+1}1 - p{i+1}2)' for i in range(n)]\n",
    "\n",
    "    # Convert conditions to string format\n",
    "    string_conditions = [str(c) for c in conditions]\n",
    "\n",
    "    # Concatenate the variables with the conditions\n",
    "    wrapped_system = string_conditions + variables\n",
    "\n",
    "    # Solve the system\n",
    "    solutions = solver.solve(wrapped_system, verbose=False)\n",
    "    dict_solutions = [strsol2dict(sol) for sol in solutions]\n",
    "\n",
    "    nash_equilibria = []\n",
    "    for sol in dict_solutions:\n",
    "        if check_probability_conditions(sol, n, s):\n",
    "            nash_equilibria.append(sol)\n",
    "\n",
    "    return nash_equilibria\n",
    "\n",
    "\n",
    "\n",
    "\n",
    "# Example usage:\n",
    "num_players = 3\n",
    "num_strategies = 2\n",
    "\n",
    "payoffs = [\n",
    "    [\n",
    "        [[1, 2, 3], [4, 5, 6]],\n",
    "        [[7, 8, 9], [10, 11, 12]]\n",
    "    ],\n",
    "    [\n",
    "        [[13, 14, 15], [16, 17, 18]],\n",
    "        [[19, 20, 21], [22, 23, 24]]\n",
    "    ],\n",
    "    [\n",
    "        [[25, 26, 27], [28, 29, 30]],\n",
    "        [[31, 32, 33], [34, 35, 36]]\n",
    "    ]\n",
    "]\n",
    "\n",
    "game = create_n_player_game(num_players, payoffs)\n",
    "conditions = best_response_conditions(game, num_players, num_strategies)\n",
    "nash_equilibria = find_nash_equilibria(conditions, num_players, num_strategies)\n",
    "print(\"Nash Equilibria:\")\n",
    "print(nash_equilibria)\n"
   ]
  },
  {
   "cell_type": "code",
   "execution_count": 23,
   "id": "769b9c98-9266-4b84-b2a7-d32f31a0d49a",
   "metadata": {},
   "outputs": [
    {
     "name": "stdout",
     "output_type": "stream",
     "text": [
      "[-6*p11*p21*p31 - 6*p11*p21*p32 - 6*p11*p22*p31 - 6*p11*p22*p32 - 6*p12*p21*p31 - 6*p12*p21*p32 - 6*p12*p22*p31 - 6*p12*p22*p32, -6*p11*p21*p31 - 6*p11*p21*p32 - 6*p11*p22*p31 - 6*p11*p22*p32 - 6*p12*p21*p31 - 6*p12*p21*p32 - 6*p12*p22*p31 - 6*p12*p22*p32, -6*p11*p21*p31 - 6*p11*p21*p32 - 6*p11*p22*p31 - 6*p11*p22*p32 - 6*p12*p21*p31 - 6*p12*p21*p32 - 6*p12*p22*p31 - 6*p12*p22*p32]\n"
     ]
    }
   ],
   "source": [
    "import sympy as sp\n",
    "import itertools\n",
    "\n",
    "def create_n_player_game(num_players, payoffs):\n",
    "    num_strategies = [len(payoffs[0]) for _ in range(num_players)]\n",
    "\n",
    "    probability_combinations = list(itertools.product(*[[i for i in range(s)] for s in num_strategies]))\n",
    "    indices_combinations = list(itertools.product(*[range(num_players)] * len(num_strategies)))\n",
    "\n",
    "    return Game(num_players, num_strategies, payoffs, probability_combinations, indices_combinations)\n",
    "\n",
    "def best_response_conditions(game, n, s):\n",
    "    probabilities = [[sp.Symbol(f'p{i+1}{j+1}') for j in range(s)] for i in range(n)]\n",
    "\n",
    "    def get_probability_combination(indices):\n",
    "        return [probabilities[player][indices[player]] for player in range(n)]\n",
    "\n",
    "    def expected_payoff(player, strategy):\n",
    "        payoff = 0\n",
    "        for indices in itertools.product(range(s), repeat=n):\n",
    "            probability_combination = get_probability_combination(indices)\n",
    "            payoff_value = game.payoffs[player][strategy]\n",
    "            for i, index in enumerate(indices):\n",
    "                if i != player:\n",
    "                    payoff_value = payoff_value[index]\n",
    "            payoff_term = payoff_value * sp.prod(probability_combination)\n",
    "\n",
    "            payoff += payoff_term\n",
    "        return payoff\n",
    "\n",
    "    payoffs = [[expected_payoff(player, strategy) for strategy in range(s)] for player in range(n)]\n",
    "    first_order_conditions = []\n",
    "\n",
    "    for player in range(n):\n",
    "        for strategy in range(s - 1):\n",
    "            condition = payoffs[player][strategy] - payoffs[player][s - 1]\n",
    "            first_order_conditions.append(condition)\n",
    "\n",
    "    return first_order_conditions\n",
    "\n",
    "# Example usage:\n",
    "num_players = 3\n",
    "num_strategies = 2\n",
    "\n",
    "payoffs = [\n",
    "    [\n",
    "        [[1, 2, 3], [4, 5, 6]],\n",
    "        [[7, 8, 9], [10, 11, 12]]\n",
    "    ],\n",
    "    [\n",
    "        [[13, 14, 15], [16, 17, 18]],\n",
    "        [[19, 20, 21], [22, 23, 24]]\n",
    "    ],\n",
    "    [\n",
    "        [[25, 26, 27], [28, 29, 30]],\n",
    "        [[31, 32, 33], [34, 35, 36]]\n",
    "    ]\n",
    "]\n",
    "\n",
    "game = create_n_player_game(num_players, payoffs)\n",
    "conditions = best_response_conditions(game, num_players, num_strategies)\n",
    "print(conditions)"
   ]
  },
  {
   "cell_type": "code",
   "execution_count": 8,
   "id": "811bcef1-4920-4172-b089-3e7a91b306d0",
   "metadata": {},
   "outputs": [],
   "source": [
    "import sympy as sp\n",
    "from phcpy import solver\n",
    "from phcpy.solutions import strsol2dict\n",
    "from phcpy.factor import solve as factor_solve\n",
    "from sympy.matrices import Matrix\n",
    "from random import uniform as u\n",
    "from sympy import var"
   ]
  },
  {
   "cell_type": "code",
   "execution_count": 5,
   "id": "783f93ce-381d-48ba-bf3b-7f118e265b89",
   "metadata": {},
   "outputs": [
    {
     "data": {
      "text/plain": [
       "(Matrix([\n",
       " [ -0.01837265956027],\n",
       " [0.0871324719805326]]),\n",
       " Matrix([[-0.01837265956027, 0.0871324719805326]]))"
      ]
     },
     "execution_count": 5,
     "metadata": {},
     "output_type": "execute_result"
    }
   ],
   "source": [
    "d0 = Matrix(2, 1, lambda i,j: u(-1,+1))\n",
    "d1 = Matrix(2, 1, lambda i,j: u(-1,+1))\n",
    "d1,d1.transpose()"
   ]
  },
  {
   "cell_type": "code",
   "execution_count": 9,
   "id": "07036f0c-bcd9-4d5b-b772-d3e805977576",
   "metadata": {},
   "outputs": [],
   "source": [
    "c1, s1 = var('c1, s1')\n",
    "c2, s2 = var('c2, s2')\n",
    "R1 = Matrix([[c1, -s1], [s1, c1]])\n",
    "R2 = Matrix([[c2, -s2], [s2, c2]])"
   ]
  },
  {
   "cell_type": "code",
   "execution_count": 12,
   "id": "0d0fe4c9-4522-4f43-889e-90538c6bd7d6",
   "metadata": {},
   "outputs": [
    {
     "data": {
      "text/latex": [
       "$\\displaystyle - 0.01837265956027 c_{1} + 0.0871324719805326 s_{1}$"
      ],
      "text/plain": [
       "-0.01837265956027*c1 + 0.0871324719805326*s1"
      ]
     },
     "execution_count": 12,
     "metadata": {},
     "output_type": "execute_result"
    }
   ],
   "source": [
    "(d1.transpose()*R1)[0]"
   ]
  },
  {
   "cell_type": "code",
   "execution_count": 64,
   "id": "7b643d20-1e41-4fa1-9a8e-0bd840278b6e",
   "metadata": {},
   "outputs": [],
   "source": [
    "def calculate_expected_payoff_diff(game, mixed_strategy_profile):\n",
    "    n = game.num_players\n",
    "\n",
    "    def expected_payoff(player, strategy, mixed_strategy_profile):\n",
    "        s = game.num_strategies[player]\n",
    "        payoff = 0\n",
    "\n",
    "        # Create a modified list of strategy ranges, replacing the player's strategy range with [strategy]\n",
    "        strategy_ranges = [range(game.num_strategies[p]) if p != player else [strategy] for p in range(n)]\n",
    "\n",
    "        for indices in itertools.product(*strategy_ranges):\n",
    "            probability_combination = [mixed_strategy_profile[p][indices[p]] if p != player else 1 for p in range(n)]\n",
    "            payoff_value = game.payoffs[player][strategy]\n",
    "            for i, index in enumerate(indices):\n",
    "                if i != player:\n",
    "                    payoff_value = payoff_value[index]\n",
    "            payoff_term = payoff_value * sp.prod(probability_combination)\n",
    "\n",
    "            payoff += payoff_term\n",
    "        return payoff\n",
    "\n",
    "\n",
    "    def expected_payoff_from_mixed_strategy(player, mixed_strategy_profile):\n",
    "        s = game.num_strategies[player]\n",
    "        total_payoff = 0\n",
    "        for strategy in range(s):\n",
    "            total_payoff += mixed_strategy_profile[player][strategy] * expected_payoff(player, strategy, mixed_strategy_profile)\n",
    "        return total_payoff\n",
    "\n",
    "    payoff_differences = []\n",
    "    for player in range(n):\n",
    "        player_payoff_diff = []\n",
    "        for strategy in range(game.num_strategies[player]):\n",
    "            diff = expected_payoff(player, strategy, mixed_strategy_profile) - \\\n",
    "                   expected_payoff_from_mixed_strategy(player, mixed_strategy_profile)\n",
    "            player_payoff_diff.append(diff)\n",
    "        payoff_differences.append(player_payoff_diff)\n",
    "\n",
    "    return payoff_differences\n"
   ]
  },
  {
   "cell_type": "code",
   "execution_count": 67,
   "id": "bd7b1f19-0de6-4f45-a68d-c4681136abde",
   "metadata": {},
   "outputs": [],
   "source": []
  },
  {
   "cell_type": "code",
   "execution_count": 72,
   "id": "d5bbe3c7-ec90-4365-af47-0186ef5da5cd",
   "metadata": {},
   "outputs": [],
   "source": [
    "payoffs = [\n",
    "    [\n",
    "        [[3, 0], [0, 0]],\n",
    "        [[3, 0], [0, 0]]\n",
    "    ],\n",
    "    [\n",
    "        [[9, 10], [11, 12]],\n",
    "        [[13, 14], [15, 16]]\n",
    "    ],\n",
    "    [\n",
    "        [[17, 18], [19, 20]],\n",
    "        [[21, 22], [23, 24]]\n",
    "    ]\n",
    "]\n",
    "mixed_strategy_profile = [\n",
    "    [0.5, 0.5],\n",
    "    [1, 0],\n",
    "    [1, 0]\n",
    "]\n",
    "game = create_n_player_game(payoffs)"
   ]
  },
  {
   "cell_type": "code",
   "execution_count": 73,
   "id": "720ccad0-9aa6-4fef-8dea-0a2b59e05349",
   "metadata": {},
   "outputs": [
    {
     "name": "stdout",
     "output_type": "stream",
     "text": [
      "Payoff differences:\n",
      "[[0.0, 0.0], [0.0, 4.0], [0.0, 4.0]]\n"
     ]
    }
   ],
   "source": [
    "payoff_differences = calculate_expected_payoff_diff(game, mixed_strategy_profile)\n",
    "print(\"Payoff differences:\")\n",
    "print(payoff_differences)"
   ]
  },
  {
   "cell_type": "code",
   "execution_count": 53,
   "id": "cf34364e-7e51-4d63-a81f-4f5238118495",
   "metadata": {},
   "outputs": [],
   "source": [
    "def expected_payoff_from_mixed_strategy(player, mixed_strategy_profile):\n",
    "    s = game.num_strategies[player]\n",
    "    total_payoff = 0\n",
    "    for strategy in range(s):\n",
    "        total_payoff += mixed_strategy_profile[player][strategy] * expected_payoff(player, strategy, mixed_strategy_profile)\n",
    "    return total_payoff"
   ]
  },
  {
   "cell_type": "code",
   "execution_count": 59,
   "id": "709fec58-3451-453c-9073-1fb2e1aa15eb",
   "metadata": {},
   "outputs": [],
   "source": [
    "n = game.num_players\n",
    "def expected_payoff(player, strategy, mixed_strategy_profile):\n",
    "    s = game.num_strategies[player]\n",
    "    payoff = 0\n",
    "    for indices in itertools.product(*(range(game.num_strategies[p]) for p in range(n))):\n",
    "        probability_combination = [mixed_strategy_profile[p][indices[p]] for p in range(n) if p != player]\n",
    "        payoff_value = game.payoffs[player][strategy]\n",
    "        for i, index in enumerate(indices):\n",
    "            if i != player:\n",
    "                payoff_value = payoff_value[index]\n",
    "        payoff_term = payoff_value * sp.prod(probability_combination)\n",
    "\n",
    "        payoff += payoff_term\n",
    "    return payoff"
   ]
  },
  {
   "cell_type": "code",
   "execution_count": 60,
   "id": "e6a761fa-5992-4ad9-a48d-b34ec17a0b44",
   "metadata": {},
   "outputs": [
    {
     "data": {
      "text/plain": [
       "4"
      ]
     },
     "execution_count": 60,
     "metadata": {},
     "output_type": "execute_result"
    }
   ],
   "source": [
    "expected_payoff_from_mixed_strategy(0, mixed_strategy_profile)"
   ]
  },
  {
   "cell_type": "code",
   "execution_count": 74,
   "id": "4408125f-bade-417a-804c-8ad572c59ce0",
   "metadata": {},
   "outputs": [],
   "source": [
    "import sympy as sp\n",
    "\n",
    "def calculate_expected_payoff_diff_equations(game):\n",
    "    n = game.num_players\n",
    "\n",
    "    # Create symbolic probability variables\n",
    "    probabilities = [[sp.Symbol(f'p{i+1}{j+1}') for j in range(game.num_strategies[i])] for i in range(n)]\n",
    "\n",
    "    def expected_payoff(player, strategy):\n",
    "        s = game.num_strategies[player]\n",
    "        payoff = 0\n",
    "\n",
    "        # Create a modified list of strategy ranges, replacing the player's strategy range with [strategy]\n",
    "        strategy_ranges = [range(game.num_strategies[p]) if p != player else [strategy] for p in range(n)]\n",
    "\n",
    "        for indices in itertools.product(*strategy_ranges):\n",
    "            probability_combination = [probabilities[p][indices[p]] if p != player else 1 for p in range(n)]\n",
    "            payoff_value = game.payoffs[player][strategy]\n",
    "            for i, index in enumerate(indices):\n",
    "                if i != player:\n",
    "                    payoff_value = payoff_value[index]\n",
    "            payoff_term = payoff_value * sp.prod(probability_combination)\n",
    "\n",
    "            payoff += payoff_term\n",
    "        return payoff\n",
    "\n",
    "    def expected_payoff_from_mixed_strategy(player):\n",
    "        s = game.num_strategies[player]\n",
    "        total_payoff = 0\n",
    "        for strategy in range(s):\n",
    "            total_payoff += probabilities[player][strategy] * expected_payoff(player, strategy)\n",
    "        return total_payoff\n",
    "\n",
    "    payoff_differences_equations = []\n",
    "    for player in range(n):\n",
    "        player_payoff_diff = []\n",
    "        for strategy in range(game.num_strategies[player]):\n",
    "            diff = expected_payoff(player, strategy) - expected_payoff_from_mixed_strategy(player)\n",
    "            player_payoff_diff.append(diff)\n",
    "        payoff_differences_equations.append(player_payoff_diff)\n",
    "\n",
    "    return payoff_differences_equations\n"
   ]
  }
 ],
 "metadata": {
  "kernelspec": {
   "display_name": "Python 3 (ipykernel)",
   "language": "python",
   "name": "python3"
  },
  "language_info": {
   "codemirror_mode": {
    "name": "ipython",
    "version": 3
   },
   "file_extension": ".py",
   "mimetype": "text/x-python",
   "name": "python",
   "nbconvert_exporter": "python",
   "pygments_lexer": "ipython3",
   "version": "3.11.2"
  }
 },
 "nbformat": 4,
 "nbformat_minor": 5
}
