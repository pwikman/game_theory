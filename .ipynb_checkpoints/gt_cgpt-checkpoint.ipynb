{
 "cells": [
  {
   "cell_type": "markdown",
   "id": "fb53fae2-7af6-4244-9f8c-f7cb57c81e0b",
   "metadata": {
    "tags": []
   },
   "source": [
    "# Imported functions"
   ]
  },
  {
   "cell_type": "code",
   "execution_count": 1,
   "id": "1b508d2d-a7b1-4864-aabf-1b3e139b4565",
   "metadata": {},
   "outputs": [],
   "source": [
    "import sympy as sp\n",
    "import itertools\n",
    "import pypolsys\n",
    "import numpy as np\n",
    "from itertools import chain, combinations, product\n",
    "from typing import List, Iterator, Tuple, Any, Generator\n",
    "import time"
   ]
  },
  {
   "cell_type": "markdown",
   "id": "58a632cc-4c85-4e2f-bac5-65679da8596c",
   "metadata": {
    "tags": []
   },
   "source": [
    "# Defining the game class and a function for creating a game"
   ]
  },
  {
   "cell_type": "code",
   "execution_count": 2,
   "id": "19b05418-edd0-41c8-8f7d-f8177029d446",
   "metadata": {},
   "outputs": [],
   "source": [
    "class Game:\n",
    "    def __init__(self, num_players, num_strategies, payoffs, indices):\n",
    "        self.num_players = num_players\n",
    "        self.num_strategies = num_strategies\n",
    "        self.payoffs = payoffs\n",
    "        self.index = indices\n",
    "        #self.indices_combinations = indices_combinations\n",
    "\n",
    "\n",
    "def create_n_player_game(payoffs):\n",
    "    num_players = len(payoffs)\n",
    "    num_strategies = [len(payoffs[i]) for i in range(num_players)]\n",
    "    indices = get_strategy_indices(payoffs)\n",
    "    #indices_combinations = list(itertools.product(*[range(num_players)] * len(num_strategies)))\n",
    "\n",
    "    return Game(num_players, num_strategies, payoffs, indices)\n",
    "\n",
    "def get_strategy_indices(payoffs):\n",
    "    strategy_indices = []\n",
    "\n",
    "    for player_payoffs in payoffs:\n",
    "        player_strategy_indices = []\n",
    "        for i, strategy in enumerate(player_payoffs):\n",
    "            player_strategy_indices.append(i)\n",
    "        strategy_indices.append(tuple(player_strategy_indices))\n",
    "\n",
    "    return tuple(strategy_indices)\n",
    "        \n",
    "\n",
    "# def is_valid_game_payoffs(payoffs,num_players,num_strategies):\n",
    "#    if not payoffs or not all(isinstance(p, list) and p for p in payoffs):\n",
    "#        raise TypeError(\"Only nested list structures are allowed\")\n",
    "   \n",
    "#    payoffs_flattened = flatten_list(payoffs)\n",
    "#    for payoff in payoffs_flattened:\n",
    "#        if not isinstance(payoff, (int, float)):\n",
    "#            raise TypeError(\"Only integers are allowed\")\n",
    "   \n",
    "#    def deep(payoffs, count):\n",
    "#         if count < p:\n",
    "#             count += 1\n",
    "#             payoff, count = deep(payoffs, player, count)\n",
    "#         else:\n",
    "#             if min(payoff, key=len)!=max(payoff, key=len):\n",
    "#                 raise TypeError(\"Input not corresponding to payoffs of a game\")\n",
    "#             payoff = len(min(payoff, key=len))\n",
    "#         return payoff, count\n",
    "        \n",
    "    \n",
    "#     for p in range(num_players):\n",
    "#         temp = []\n",
    "#         for strategies in num_strategies[p]:\n",
    "#             temp.append(len(strategies))\n",
    "#         return False        \n",
    "    \n",
    "#     return True\n",
    "\n",
    "# def flatten_list(nested_list):\n",
    "#     flat_list = []\n",
    "#     for item in nested_list:\n",
    "#         if isinstance(item, list):\n",
    "#             flat_list.extend(flatten_list(item))\n",
    "#         else:\n",
    "#             flat_list.append(item)\n",
    "#     return flat_list"
   ]
  },
  {
   "cell_type": "markdown",
   "id": "8d339723-b775-4ae7-80d0-d34b5df3b3ee",
   "metadata": {
    "tags": []
   },
   "source": [
    "# Different games"
   ]
  },
  {
   "cell_type": "code",
   "execution_count": 3,
   "id": "05a7cac3-130b-40ca-bf8c-04877519991a",
   "metadata": {},
   "outputs": [
    {
     "data": {
      "text/plain": [
       "(3, [2, 2, 2])"
      ]
     },
     "execution_count": 3,
     "metadata": {},
     "output_type": "execute_result"
    }
   ],
   "source": [
    "payoffs = [\n",
    "    [\n",
    "        [\n",
    "            [9, 0],\n",
    "            [0, 3]\n",
    "        ],\n",
    "        [\n",
    "            [0, 3],\n",
    "            [9, 0]\n",
    "        ]\n",
    "    ],\n",
    "    [\n",
    "        [\n",
    "            [8, 0],\n",
    "            [0, 4]\n",
    "        ],\n",
    "        [\n",
    "            [0, 4],\n",
    "            [8, 0]\n",
    "        ]\n",
    "    ],\n",
    "    [\n",
    "        [\n",
    "            [12, 0],\n",
    "            [0, 2]\n",
    "        ],\n",
    "        [\n",
    "            [0, 6],\n",
    "            [6, 0]\n",
    "        ]\n",
    "    ]\n",
    "    ]\n",
    "\n",
    "game = create_n_player_game(payoffs)\n",
    "game.num_players, game.num_strategies#, game.payoffs"
   ]
  },
  {
   "cell_type": "code",
   "execution_count": 4,
   "id": "5f978568-065e-489f-8567-37e77e9758c5",
   "metadata": {},
   "outputs": [],
   "source": [
    "payoffs_test = [\n",
    "    [\n",
    "        [\n",
    "            [9, 0],\n",
    "            [0, 3]\n",
    "        ],\n",
    "        [\n",
    "            [-10, -3],\n",
    "            [-9, -10]\n",
    "        ]\n",
    "    ],\n",
    "    [\n",
    "        [\n",
    "            [8, 0],\n",
    "            [0, 4]\n",
    "        ],\n",
    "        [\n",
    "            [0, 4],\n",
    "            [8, 0]\n",
    "        ]\n",
    "    ],\n",
    "    [\n",
    "        [\n",
    "            [12, 0],\n",
    "            [0, 2]\n",
    "        ],\n",
    "        [\n",
    "            [0, 6],\n",
    "            [6, 0]\n",
    "        ]\n",
    "    ]\n",
    "    ]\n",
    "\n",
    "game_t = create_n_player_game(payoffs_test)"
   ]
  },
  {
   "cell_type": "code",
   "execution_count": 5,
   "id": "0f875b42-3bc7-4447-8ec8-9e63ad521f8e",
   "metadata": {},
   "outputs": [],
   "source": [
    "payoffs21 = [\n",
    "    [\n",
    "        [1,0],\n",
    "        [0,1]\n",
    "    ],\n",
    "    [\n",
    "        [1,0],\n",
    "        [0,1]\n",
    "    ]\n",
    "]\n",
    "\n",
    "game21 = create_n_player_game(payoffs21)"
   ]
  },
  {
   "cell_type": "code",
   "execution_count": 6,
   "id": "589fa140-4165-4243-93e6-586df2a402d7",
   "metadata": {},
   "outputs": [],
   "source": [
    "payoffs22 = [\n",
    "    [\n",
    "        [1,0],\n",
    "        [0,1],\n",
    "        [-1,-1]\n",
    "    ],\n",
    "    [\n",
    "        [1,0,4],\n",
    "        [0,1,3]\n",
    "    ]\n",
    "]\n",
    "\n",
    "game22 = create_n_player_game(payoffs22)"
   ]
  },
  {
   "cell_type": "code",
   "execution_count": 7,
   "id": "42ec05f6-1ac7-4778-be84-11199105a403",
   "metadata": {},
   "outputs": [
    {
     "data": {
      "text/plain": [
       "(2, [3, 3])"
      ]
     },
     "execution_count": 7,
     "metadata": {},
     "output_type": "execute_result"
    }
   ],
   "source": [
    "payoffs2 = [\n",
    "    [\n",
    "        [\n",
    "            1,\n",
    "            -1,\n",
    "            -2\n",
    "        ],\n",
    "        [\n",
    "            -3,\n",
    "            1,\n",
    "            -4\n",
    "        ],\n",
    "        [\n",
    "            -2,\n",
    "            0,\n",
    "            1\n",
    "        ]\n",
    "    ],\n",
    "    [\n",
    "        [\n",
    "            1,\n",
    "            0,\n",
    "            -1\n",
    "        ],\n",
    "        [\n",
    "            -1,\n",
    "            1,\n",
    "            0\n",
    "        ],\n",
    "        [\n",
    "            0,\n",
    "            -1,\n",
    "            1\n",
    "        ]\n",
    "    ]\n",
    "]\n",
    "\n",
    "game2 = create_n_player_game(payoffs2)\n",
    "game2.num_players, game2.num_strategies#, game2.payoffs"
   ]
  },
  {
   "cell_type": "code",
   "execution_count": 8,
   "id": "22df4bcc-30ef-4112-9305-a1721469777f",
   "metadata": {},
   "outputs": [
    {
     "data": {
      "text/plain": [
       "(3, [3, 2, 2])"
      ]
     },
     "execution_count": 8,
     "metadata": {},
     "output_type": "execute_result"
    }
   ],
   "source": [
    "payoffs3 = [\n",
    "    [\n",
    "        [\n",
    "            [9, 0],\n",
    "            [0, 3]\n",
    "        ],\n",
    "        [\n",
    "            [0, 3],\n",
    "            [9, 0]\n",
    "        ]\n",
    "        ,\n",
    "        [\n",
    "            [-1, 1],\n",
    "            [2, 4]\n",
    "        ]\n",
    "    ],\n",
    "    [\n",
    "        [\n",
    "            [8, 0],\n",
    "            [0, 4],\n",
    "            [2, 3]\n",
    "        ],\n",
    "        [\n",
    "            [0, 4],\n",
    "            [8, 0],\n",
    "            [5, 7]\n",
    "        ]\n",
    "    ],\n",
    "    [\n",
    "        [\n",
    "            [12, 0],\n",
    "            [0, 2],\n",
    "            [1, 1]\n",
    "        ],\n",
    "        [\n",
    "            [0, 6],\n",
    "            [6, 0],\n",
    "            [2, 3]\n",
    "        ]\n",
    "    ]\n",
    "]\n",
    "\n",
    "game3 = create_n_player_game(payoffs3)\n",
    "game3.num_players, game3.num_strategies#, game3.payoffs"
   ]
  },
  {
   "cell_type": "code",
   "execution_count": 9,
   "id": "3c3c0842-ab14-4f2b-90a1-352416cb43ce",
   "metadata": {},
   "outputs": [
    {
     "data": {
      "text/plain": [
       "(4, [2, 2, 2, 2])"
      ]
     },
     "execution_count": 9,
     "metadata": {},
     "output_type": "execute_result"
    }
   ],
   "source": [
    "payoffs4 = [\n",
    "    np.array([\n",
    "        [[[1, 2], [3, 4]], [[5, 6], [7, 8]]],\n",
    "        [[[9, 10], [11, 12]], [[13, 14], [15, 16]]]\n",
    "    ]),\n",
    "    np.array([\n",
    "        [[[17, 18], [19, 20]], [[21, 22], [23, 24]]],\n",
    "        [[[25, 26], [27, 28]], [[29, 30], [31, 32]]]\n",
    "    ]),\n",
    "    np.array([\n",
    "        [[[33, 34], [35, 36]], [[37, 38], [39, 40]]],\n",
    "        [[[41, 42], [43, 44]], [[45, 46], [47, 48]]]\n",
    "    ]),\n",
    "    np.array([\n",
    "        [[[49, 50], [51, 52]], [[53, 54], [55, 56]]],\n",
    "        [[[57, 58], [59, 60]], [[61, 62], [63, 64]]]\n",
    "    ])\n",
    "]\n",
    "game4 = create_n_player_game(payoffs4)\n",
    "game4.num_players, game4.num_strategies#, game4.payoffs"
   ]
  },
  {
   "cell_type": "markdown",
   "id": "1e48b768-6b19-433e-8716-a82fa213b231",
   "metadata": {
    "tags": []
   },
   "source": [
    "# Functions for finidng all Nash equilibria with full support in a game"
   ]
  },
  {
   "cell_type": "code",
   "execution_count": 10,
   "id": "4408125f-bade-417a-804c-8ad572c59ce0",
   "metadata": {},
   "outputs": [],
   "source": [
    "def calculate_expected_payoff_diff_equations(game, probabilities):\n",
    "    n = game.num_players\n",
    "\n",
    "    def expected_payoff(player, strategy):\n",
    "        s = game.num_strategies[player]\n",
    "        payoff = 0\n",
    "\n",
    "        # Create a modified list of strategy ranges, replacing the player's strategy range with [strategy]\n",
    "        strategy_ranges = [range(game.num_strategies[p]) if p != player else [strategy] for p in range(n)]\n",
    "        for indices in itertools.product(*strategy_ranges):\n",
    "            probability_combination = [probabilities[p][indices[p]] if p != player else 1 for p in range(n)]\n",
    "            payoff_value = game.payoffs[player][strategy]\n",
    "            for i, index in enumerate(indices):\n",
    "                if i != player:\n",
    "                    payoff_value = payoff_value[index]\n",
    "            payoff_term = payoff_value * sp.prod(probability_combination)\n",
    "\n",
    "            payoff += payoff_term\n",
    "        return payoff\n",
    "\n",
    "    payoff_differences_equations = []\n",
    "    for player in range(n):\n",
    "        player_payoff_diff = []\n",
    "        for strategy in range(game.num_strategies[player]-1):\n",
    "            diff = expected_payoff(player, strategy) - expected_payoff(player, game.num_strategies[player]-1)\n",
    "            player_payoff_diff.append(diff)\n",
    "        payoff_differences_equations.append(player_payoff_diff)\n",
    "\n",
    "    # Flatten the list of lists\n",
    "    flat_payoff_differences_equations = [diff for sublist in payoff_differences_equations for diff in sublist]\n",
    "\n",
    "    return flat_payoff_differences_equations"
   ]
  },
  {
   "cell_type": "code",
   "execution_count": 11,
   "id": "74c68527-2ad4-4f69-a135-dee98e2e856c",
   "metadata": {},
   "outputs": [],
   "source": [
    "def calculate_payoff_diff_and_prob_sum_equations(game):\n",
    "    n = game.num_players\n",
    "    # Create symbolic probability variables\n",
    "    probabilities = [[sp.Symbol(f'p{i+1}{j+1}') for j in range(game.num_strategies[i])] for i in range(n)]\n",
    "\n",
    "    # Collect the equations in a list\n",
    "    equations = []\n",
    "    for player_payoff_diff in calculate_expected_payoff_diff_equations(game, probabilities):\n",
    "        equations.append(sp.poly(player_payoff_diff , *[p for player_probs in probabilities for p in player_probs]))\n",
    "\n",
    "    for player_probs in probabilities:\n",
    "        prob_sum_eq = sum(player_probs) - 1\n",
    "        equations.append(sp.poly(prob_sum_eq, *[p for player_probs in probabilities for p in player_probs]))\n",
    "\n",
    "\n",
    "    return equations"
   ]
  },
  {
   "cell_type": "code",
   "execution_count": 12,
   "id": "2016c5c2-e0eb-41aa-a5b6-220828c8322a",
   "metadata": {},
   "outputs": [],
   "source": [
    "def nash_solver(game, tol):\n",
    "    D = sum(game.num_strategies)\n",
    "    pol = pypolsys.utils.fromSympy(calculate_payoff_diff_and_prob_sum_equations(game))\n",
    "    pypolsys.polsys.init_poly(*pol)\n",
    "    part = pypolsys.utils.make_h_part(D)\n",
    "    pypolsys.polsys.init_partition(*part)\n",
    "    bplp = pypolsys.polsys.solve(1e-8, 1e-15, 0.0)\n",
    "    r = pypolsys.polsys.myroots\n",
    "    def remove_near_zero_complex(array, tol):\n",
    "        # Check if the imaginary or real part of any element in a row is close to zero\n",
    "        is_complex_close_to_zero = lambda row: any(x.real < tol or abs(x.imag) > tol for x in row)\n",
    "    \n",
    "        # Create a mask to filter out rows with complex elements close to zero\n",
    "        mask = np.array([not is_complex_close_to_zero(row) for row in array])\n",
    "    \n",
    "        # Return the real parts of the filtered array\n",
    "        return np.real(array[mask])\n",
    "    \n",
    "    def subset_list(input_list, lengths):\n",
    "        sublists = []\n",
    "        start = 0\n",
    "\n",
    "        for length in lengths:\n",
    "            sublists.append(input_list[start:start + length])\n",
    "            start += length\n",
    "\n",
    "        return sublists\n",
    "    \n",
    "    ok_sol = remove_near_zero_complex(r[:D,:].transpose(), tol)\n",
    "    output = []\n",
    "    for sol in ok_sol:\n",
    "        output.append(subset_list(sol, game.num_strategies))        \n",
    "    \n",
    "    return output"
   ]
  },
  {
   "cell_type": "markdown",
   "id": "762b325e-2a82-4ec4-9080-11f27a49e577",
   "metadata": {
    "tags": []
   },
   "source": [
    "# Functions for generating block games in right order"
   ]
  },
  {
   "cell_type": "code",
   "execution_count": 13,
   "id": "59e11b46-fb0f-4840-be31-13583f0f5c4b",
   "metadata": {},
   "outputs": [],
   "source": [
    "def powerset(iterable):\n",
    "    s = list(iterable)\n",
    "    return chain.from_iterable(combinations(s, r) for r in range(1, len(s) + 1))"
   ]
  },
  {
   "cell_type": "code",
   "execution_count": 14,
   "id": "d749d2e0-5b8a-4c24-bd21-9e942315860d",
   "metadata": {},
   "outputs": [],
   "source": [
    "def potential_support_pairs(game):\n",
    "    num_strategies = game.num_strategies\n",
    "    support_sets = [sorted(list(powerset(range(num))), key=lambda x: (len(x), x)) for num in num_strategies]\n",
    "\n",
    "    combined_supports_list = list(product(*support_sets))\n",
    "    sorted_combined_supports_list = sorted(combined_supports_list, key=lambda x: (sum(len(y) for y in x), max(len(y) for y in x) - min(len(y) for y in x), x))\n",
    "\n",
    "    for sorted_combined_supports in sorted_combined_supports_list:\n",
    "        yield sorted_combined_supports"
   ]
  },
  {
   "cell_type": "code",
   "execution_count": 45,
   "id": "71f0dc9e-d646-4eaa-b33e-b12dab2eb245",
   "metadata": {},
   "outputs": [
    {
     "name": "stdout",
     "output_type": "stream",
     "text": [
      "0\n",
      "200\n",
      "400\n",
      "600\n",
      "800\n",
      "1000\n",
      "1200\n",
      "1400\n",
      "1600\n",
      "1800\n",
      "2000\n",
      "2200\n",
      "2400\n",
      "2600\n",
      "2800\n",
      "3000\n",
      "3200\n",
      "3400\n",
      "3600\n",
      "3800\n",
      "4000\n",
      "4200\n",
      "4400\n",
      "4600\n",
      "4800\n",
      "5000\n",
      "5200\n",
      "5400\n",
      "5600\n",
      "5800\n",
      "6000\n",
      "6200\n",
      "6400\n",
      "6600\n",
      "6800\n",
      "7000\n",
      "7200\n",
      "7400\n",
      "7600\n",
      "7800\n",
      "8000\n",
      "8200\n",
      "8400\n",
      "8600\n",
      "8800\n",
      "9000\n",
      "9200\n",
      "9400\n",
      "9600\n",
      "9800\n",
      "10000\n",
      "10200\n",
      "10400\n",
      "10600\n",
      "10800\n",
      "11000\n",
      "11200\n",
      "11400\n",
      "11600\n",
      "11800\n",
      "12000\n",
      "12200\n",
      "12400\n",
      "12600\n",
      "12800\n",
      "13000\n",
      "13200\n",
      "13400\n",
      "13600\n",
      "13800\n",
      "14000\n",
      "14200\n",
      "14400\n",
      "14600\n",
      "14800\n",
      "15000\n",
      "15200\n",
      "15400\n",
      "15600\n",
      "15800\n",
      "16000\n",
      "16200\n",
      "16400\n",
      "16600\n",
      "16800\n",
      "16807\n"
     ]
    }
   ],
   "source": [
    "random_payoffs= generate_payoffs([3,3,3,3,3])\n",
    "random_game = create_n_player_game(random_payoffs)\n",
    "j =0\n",
    "for i,t in enumerate(potential_support_pairs(random_game)):\n",
    "    j+=1\n",
    "    if i%200==0:\n",
    "        print(i)\n",
    "print(j)"
   ]
  },
  {
   "cell_type": "code",
   "execution_count": 15,
   "id": "86ac44ea-977f-46d0-a74b-9a6906244d2d",
   "metadata": {},
   "outputs": [],
   "source": [
    "def payoff_player(payoff, indices):\n",
    "    #print(\"Payoffs:\", payoff, \"Indices:\", indices)\n",
    "    indices = list(indices)\n",
    "    index = indices.pop(0)\n",
    "    t_payoff = [payoff[i] for i in index]\n",
    "    for i, pay in enumerate(t_payoff):\n",
    "        if len(indices)>0:\n",
    "            pay_1 = payoff_player(pay, indices)\n",
    "            t_payoff[i] = pay_1\n",
    "        else:\n",
    "            t_payoff[i] = pay\n",
    "    return t_payoff"
   ]
  },
  {
   "cell_type": "code",
   "execution_count": 16,
   "id": "27395a4b-81cb-4481-9001-67756cf90daf",
   "metadata": {},
   "outputs": [],
   "source": [
    "def block_game(payoffs, indices):\n",
    "    block = []\n",
    "    for p, payoff in enumerate(payoffs):\n",
    "        index =  [*indices]\n",
    "        index.pop(p)\n",
    "        indexes = tuple([indices[p], *index])\n",
    "        block_n = payoff_player(payoff, indexes)\n",
    "        block.append(block_n)\n",
    "    return block"
   ]
  },
  {
   "cell_type": "markdown",
   "id": "ff4db596-12e4-4f74-a6c0-cb685c9cd948",
   "metadata": {
    "tags": []
   },
   "source": [
    "# Functions for determing whether a pure strategy is conditionally dominated"
   ]
  },
  {
   "cell_type": "code",
   "execution_count": 17,
   "id": "6f86c422-7bef-4681-aa37-849485b12647",
   "metadata": {
    "tags": []
   },
   "outputs": [],
   "source": [
    "def is_strategy_strictly_dominated(payoffs, player, strategy):\n",
    "    num_players = len(payoffs)\n",
    "    num_strategies = [len(payoffs[i]) for i in range(num_players)]\n",
    "    other_strategies = [i for i in range(num_strategies[player]) if i != strategy]\n",
    "\n",
    "    def get_payoff(payoffs, indices, player, strategy):\n",
    "        payoff = payoffs[player][strategy]\n",
    "        for i, index in enumerate(indices):\n",
    "            if i != player:\n",
    "                payoff = payoff[index]\n",
    "        return payoff\n",
    "    \n",
    "    for other_strategy in other_strategies:\n",
    "        temp = 0\n",
    "        temp2 = 0\n",
    "        for indices in itertools.product(*[range(num_strategies[p]) if p != player else other_strategies for p in range(num_players)]):\n",
    "            temp2 += 1\n",
    "            payoff_current_strategy = get_payoff(payoffs, indices, player, strategy)\n",
    "\n",
    "            payoff_other_strategy = get_payoff(payoffs, indices, player, other_strategy)\n",
    "            \n",
    "            if payoff_current_strategy > payoff_other_strategy:\n",
    "                break\n",
    "            else:\n",
    "                temp += 1\n",
    "        if temp == temp2: return True\n",
    "            \n",
    "    return False\n"
   ]
  },
  {
   "cell_type": "code",
   "execution_count": 18,
   "id": "a1369409-d4ec-4e28-9a04-af9b54b59c7f",
   "metadata": {},
   "outputs": [],
   "source": [
    "def admissible_block(payoffs):\n",
    "    num_players = len(payoffs)\n",
    "    num_strategies = [len(payoffs[i]) for i in range(num_players)]\n",
    "    for p in range(num_players):\n",
    "        for s in range(num_strategies[p]):\n",
    "            if is_strategy_strictly_dominated(payoffs, p, s):\n",
    "                return False\n",
    "    return True"
   ]
  },
  {
   "cell_type": "markdown",
   "id": "8271a8cb-2861-4fa0-9ee7-008cd32aa18b",
   "metadata": {
    "tags": []
   },
   "source": [
    "# Functions to check whether a completely mixed Nash equilibrium of block game is Nash in lager game"
   ]
  },
  {
   "cell_type": "code",
   "execution_count": 19,
   "id": "74f0d2a8-094c-481b-82e4-61007843713f",
   "metadata": {},
   "outputs": [],
   "source": [
    "num_players = len(payoffs21)\n",
    "num_strategies = [len(payoffs21[i]) for i in range(num_players)]\n",
    "probabilities = [[sp.Symbol(f'p{i+1}{j+1}') for j in range(num_strategies[i])] for i in range(num_players)]\n",
    "\n",
    "def expected_payoff(player, strategy):\n",
    "\n",
    "    payoff = 0\n",
    "\n",
    "    # Create a modified list of strategy ranges, replacing the player's strategy range with [strategy]\n",
    "    strategy_ranges = [range(num_strategies[p]) if p != player else [strategy] for p in range(num_players)]\n",
    "    for indices in itertools.product(*strategy_ranges):\n",
    "        probability_combination = [probabilities[p][indices[p]] if p != player else 1 for p in range(num_players)]\n",
    "        payoff_value = payoffs21[player][strategy]\n",
    "\n",
    "        for i, index in enumerate(indices):\n",
    "            if i != player:\n",
    "                payoff_value = payoff_value[index]     \n",
    "        payoff_term = payoff_value * sp.prod(probability_combination)\n",
    "\n",
    "        payoff += payoff_term\n",
    "    return payoff"
   ]
  },
  {
   "cell_type": "code",
   "execution_count": 20,
   "id": "0b3f4882-88b2-4cdd-8e87-f2911fc72c9d",
   "metadata": {},
   "outputs": [],
   "source": [
    "def is_strategy_better(payoffs, mixed_strategy_profile, player, new_strategy):\n",
    "    num_players = len(payoffs)\n",
    "    num_strategies = [len(payoffs[i]) for i in range(num_players)]\n",
    "    # Create symbolic probability variables\n",
    "    probabilities = [[sp.Symbol(f'p{i+1}{j+1}') for j in range(num_strategies[i])] for i in range(num_players)]\n",
    "    \n",
    "    def expected_payoff(player, strategy):\n",
    "\n",
    "        payoff = 0\n",
    "\n",
    "        # Create a modified list of strategy ranges, replacing the player's strategy range with [strategy]\n",
    "        strategy_ranges = [range(num_strategies[p]) if p != player else [strategy] for p in range(num_players)]\n",
    "        for indices in itertools.product(*strategy_ranges):\n",
    "            probability_combination = [probabilities[p][indices[p]] if p != player else 1 for p in range(num_players)]\n",
    "            payoff_value = payoffs[player][strategy]\n",
    "            for i, index in enumerate(indices):\n",
    "                if i != player:\n",
    "                    payoff_value = payoff_value[index]\n",
    "            payoff_term = payoff_value * sp.prod(probability_combination)\n",
    "\n",
    "            payoff += payoff_term\n",
    "        return payoff\n",
    "\n",
    "    def expected_payoff_from_mixed_strategy(player):\n",
    "        total_payoff = 0\n",
    "        for strategy in range(num_strategies[player]):\n",
    "            total_payoff += probabilities[player][strategy] * expected_payoff(player, strategy)\n",
    "        return total_payoff\n",
    "\n",
    "    # Calculate the current expected payoff\n",
    "    current_expected_payoff = expected_payoff_from_mixed_strategy(player)\n",
    "    potential_expected_payoff = expected_payoff(player, new_strategy)\n",
    "    for p in range(num_players):\n",
    "        current_expected_payoff = current_expected_payoff.subs([(probabilities[p][i], mixed_strategy_profile[p][i]) for i in range(num_strategies[p])])\n",
    "    # Calculate the expected payoff if the player switches to the new strategy\n",
    "        potential_expected_payoff = potential_expected_payoff.subs([(probabilities[p][i], mixed_strategy_profile[p][i]) for i in range(num_strategies[p])])\n",
    "    # Check if the new strategy is better\n",
    "    return potential_expected_payoff > current_expected_payoff"
   ]
  },
  {
   "cell_type": "code",
   "execution_count": 21,
   "id": "e303e387-c044-4814-aa13-5815a261ccd3",
   "metadata": {},
   "outputs": [],
   "source": [
    "def stra_em(ne_cand, block_index, index):\n",
    "    full_sp = [\n",
    "        [ne_cand[p][block_index[p].index(s)] if s in block_index[p] else 0 for s in index[p]]\n",
    "        for p in range(len(index))\n",
    "    ]\n",
    "    return full_sp"
   ]
  },
  {
   "cell_type": "markdown",
   "id": "844f459c-a5da-4a52-ae8f-a036e81e1c08",
   "metadata": {
    "tags": []
   },
   "source": [
    "# Nash equilibrium solver"
   ]
  },
  {
   "cell_type": "code",
   "execution_count": 22,
   "id": "dbc2aef4-1461-45ff-8446-ccc06b387b15",
   "metadata": {},
   "outputs": [],
   "source": [
    "def ne_solver(game): #, index = False\n",
    "    result = []\n",
    "\n",
    "    for indices in potential_support_pairs(game):\n",
    "        block = block_game(game.payoffs, indices)\n",
    "        bg = create_n_player_game(block)\n",
    "\n",
    "        skip_indices = False\n",
    "        for p in range(game.num_players):\n",
    "            if skip_indices:\n",
    "                break\n",
    "            for s in range(bg.num_strategies[p]):\n",
    "                if is_strategy_strictly_dominated(bg.payoffs, p, s):\n",
    "                    skip_indices = True\n",
    "                    break\n",
    "                    \n",
    "        skip_eq = False\n",
    "        pot_sol = nash_solver(bg, 1e-6)\n",
    "        \n",
    "        for sol in pot_sol:\n",
    "            m_sp = stra_em(sol, indices, game.index)           \n",
    "            for p in range(game.num_players):\n",
    "                if skip_eq:\n",
    "                    break\n",
    "                for s in set(game.index[p]).difference(set(indices[p])):\n",
    "                    if is_strategy_better(game.payoffs, m_sp, p ,s):\n",
    "                        skip_eq = True\n",
    "                        break\n",
    "            if skip_eq:\n",
    "                break\n",
    "            result.append(m_sp)\n",
    "\n",
    "    return result"
   ]
  },
  {
   "cell_type": "markdown",
   "id": "e5ba1142-efee-4e27-b532-5ee568ef2f05",
   "metadata": {
    "tags": []
   },
   "source": [
    "# Functions for calculating index of Nash equilibria in generic game"
   ]
  },
  {
   "cell_type": "code",
   "execution_count": 23,
   "id": "b6dd5012-712a-4731-9fc3-16e4eed5d117",
   "metadata": {},
   "outputs": [],
   "source": [
    "def calculate_expected_payoff_diff_equations_fj(game):\n",
    "    n = game.num_players\n",
    "    # Create symbolic probability variables\n",
    "    probabilities = [[sp.Symbol(f'p{i+1}{j+1}') for j in range(game.num_strategies[i])] for i in range(n)]\n",
    "\n",
    "    def expected_payoff(player, strategy):\n",
    "        s = game.num_strategies[player]\n",
    "        payoff = 0\n",
    "\n",
    "        # Create a modified list of strategy ranges, replacing the player's strategy range with [strategy]\n",
    "        strategy_ranges = [range(game.num_strategies[p]) if p != player else [strategy] for p in range(n)]\n",
    "        for indices in itertools.product(*strategy_ranges):\n",
    "            probability_combination = [probabilities[p][indices[p]] if p != player else 1 for p in range(n)]\n",
    "            payoff_value = game.payoffs[player][strategy]\n",
    "            for i, index in enumerate(indices):\n",
    "                if i != player:\n",
    "                    payoff_value = payoff_value[index]\n",
    "            payoff_term = payoff_value * sp.prod(probability_combination)\n",
    "\n",
    "            payoff += payoff_term\n",
    "        return payoff\n",
    "\n",
    "    def expected_payoff_from_mixed_strategy(player):\n",
    "        s = game.num_strategies[player]\n",
    "        total_payoff = 0\n",
    "        for strategy in range(s):\n",
    "            total_payoff += probabilities[player][strategy] * expected_payoff(player, strategy)\n",
    "        return total_payoff\n",
    "\n",
    "    payoff_differences_equations = []\n",
    "    for player in range(n):\n",
    "        player_payoff_diff = []\n",
    "        for strategy in range(game.num_strategies[player]):\n",
    "            diff = probabilities[player][strategy] * (expected_payoff(player, strategy) - expected_payoff_from_mixed_strategy(player))\n",
    "            player_payoff_diff.append(diff)\n",
    "        payoff_differences_equations.append(player_payoff_diff)\n",
    "\n",
    "    # Flatten the list of lists\n",
    "    flat_payoff_differences_equations = [diff for sublist in payoff_differences_equations for diff in sublist]\n",
    "\n",
    "    return flat_payoff_differences_equations"
   ]
  },
  {
   "cell_type": "code",
   "execution_count": 24,
   "id": "820a1290-0885-4669-a3fe-e6c1ba86d8c1",
   "metadata": {},
   "outputs": [],
   "source": [
    "def calculate_index(game, mix_sp):\n",
    "    # Get the flattened payoff difference equations\n",
    "    payoff_differences_equations = calculate_expected_payoff_diff_equations_fj(game)\n",
    "    \n",
    "    n = game.num_players\n",
    "    probabilities = [[sp.Symbol(f'p{i+1}{j+1}') for j in range(game.num_strategies[i])] for i in range(n)]\n",
    "\n",
    "    # Flatten the list of probability variables\n",
    "    flat_probabilities = [p for sublist in probabilities for p in sublist]\n",
    "\n",
    "    # Calculate the Jacobian\n",
    "    jacobian_matrix = sp.Matrix(payoff_differences_equations).jacobian(flat_probabilities)\n",
    "    for p in range(n):\n",
    "        jacobian_matrix = jacobian_matrix.subs([(probabilities[p][i], mix_sp[p][i]) for i in range(game.num_strategies[p])])\n",
    "    output = np.array(jacobian_matrix).astype(np.float64)\n",
    "    return np.sign((-1)**(sum(game.num_strategies))) * np.sign(np.linalg.det(output))"
   ]
  },
  {
   "cell_type": "code",
   "execution_count": 25,
   "id": "6bbaf977-c8a6-4bad-b5b6-a53f75048dae",
   "metadata": {},
   "outputs": [],
   "source": [
    "def rounder(sol, digit):\n",
    "    return [np.round(np.array(sublist).astype(np.float64), digit) for sublist in sol]"
   ]
  },
  {
   "cell_type": "code",
   "execution_count": 26,
   "id": "e719a236-6203-4af9-bf77-657cd9e63082",
   "metadata": {},
   "outputs": [
    {
     "name": "stdout",
     "output_type": "stream",
     "text": [
      "NE: [array([1., 0., 0.]), array([1., 0.])] Index: 1.0\n",
      "NE: [array([0., 1., 0.]), array([0., 1.])] Index: 1.0\n",
      "NE: [array([0.5, 0.5, 0. ]), array([0.5, 0.5])] Index: -1.0\n"
     ]
    }
   ],
   "source": [
    "for sol in ne_solver(game22):\n",
    "    index = calculate_index(game22, sol)\n",
    "    print(\"NE:\", rounder(sol,3), \"Index:\", index)"
   ]
  },
  {
   "cell_type": "markdown",
   "id": "1a095d42-7d59-4469-97be-2ca504f29cca",
   "metadata": {
    "tags": []
   },
   "source": [
    "# Functions for finding minimal game blocks"
   ]
  },
  {
   "cell_type": "code",
   "execution_count": 27,
   "id": "8da37290-d8f5-47bd-ab64-6b56491e2efc",
   "metadata": {},
   "outputs": [],
   "source": [
    "def are_nested_indices(index_set1, index_set2):\n",
    "    for set1, set2 in zip(index_set1, index_set2):\n",
    "        if not set(set1).issubset(set2):\n",
    "            return False\n",
    "    return True"
   ]
  },
  {
   "cell_type": "code",
   "execution_count": 28,
   "id": "f50eb4f8-1f88-4e9b-a6c6-2f29bfeca518",
   "metadata": {},
   "outputs": [],
   "source": [
    "def min_game_blocks(game):\n",
    "    \n",
    "    min_gbs = []\n",
    "    \n",
    "    solid_outcomes = []\n",
    "    \n",
    "    bg_ne_index = []\n",
    "    \n",
    "    def ne_index(pot_sol):\n",
    "        \n",
    "        ne_and_index = []\n",
    "        skip_eq = False\n",
    "        \n",
    "        for sol in pot_sol:\n",
    "            m_sp = stra_em(sol, indices, game.index)           \n",
    "            for p in range(game.num_players):\n",
    "                if skip_eq:\n",
    "                    break\n",
    "                for s in set(game.index[p]).difference(set(indices[p])):\n",
    "                    if is_strategy_better(game.payoffs, m_sp, p ,s):\n",
    "                        skip_eq = True\n",
    "                        break\n",
    "            if skip_eq:\n",
    "                break\n",
    "            index = calculate_index(game,m_sp)\n",
    "            ne_and_index.append([rounder(m_sp,3), index])\n",
    "                \n",
    "        return ne_and_index\n",
    "        \n",
    "    for indices in potential_support_pairs(game):\n",
    "        \n",
    "        block = block_game(game.payoffs, indices)\n",
    "        bg = create_n_player_game(block)\n",
    "        \n",
    "        nmgb = False\n",
    "        \n",
    "        for mgb in min_gbs:\n",
    "            if are_nested_indices(mgb,indices):\n",
    "                nmgb = True\n",
    "                break\n",
    "        if nmgb:\n",
    "            continue\n",
    "            \n",
    "        skip_indices = False\n",
    "\n",
    "        for p in range(game.num_players):\n",
    "            if skip_indices:\n",
    "                break\n",
    "            for s in range(bg.num_strategies[p]):\n",
    "                if is_strategy_strictly_dominated(bg.payoffs, p, s):\n",
    "                    skip_indices = True\n",
    "                    break\n",
    "        if skip_indices:\n",
    "            continue\n",
    "            \n",
    "        pot_sol = nash_solver(bg, 1e-6)\n",
    "        nei = ne_index(pot_sol)\n",
    "        if nei:\n",
    "            bg_ne_index.append([indices, nei])\n",
    "        \n",
    "        index_counter = 0\n",
    "\n",
    "        block_list = [bg[1] for bg in bg_ne_index if are_nested_indices(bg[0], indices)]     \n",
    "        for i in block_list:\n",
    "            index_counter += sum([nei[1] for nei in i])\n",
    "        if index_counter == 1:\n",
    "            min_gbs.append(indices)\n",
    "            solid_outcomes.append(block_list)\n",
    "    return zip(min_gbs,solid_outcomes)"
   ]
  },
  {
   "cell_type": "code",
   "execution_count": 29,
   "id": "ba408534-2735-446c-aabf-d8f0852e328c",
   "metadata": {},
   "outputs": [
    {
     "name": "stdout",
     "output_type": "stream",
     "text": [
      "(((0,), (0,), (0,)), [[[[array([1., 0.]), array([1., 0.]), array([1., 0.])], 1.0]]])\n",
      "(((0,), (1,), (1,)), [[[[array([1., 0.]), array([0., 1.]), array([0., 1.])], 1.0]]])\n",
      "(((1,), (0,), (1,)), [[[[array([0., 1.]), array([1., 0.]), array([0., 1.])], 1.0]]])\n",
      "(((1,), (1,), (0,)), [[[[array([0., 1.]), array([0., 1.]), array([1., 0.])], 1.0]]])\n"
     ]
    }
   ],
   "source": [
    "for mgb in min_game_blocks(game):\n",
    "    print(mgb)"
   ]
  },
  {
   "cell_type": "code",
   "execution_count": 30,
   "id": "c04ecadd-8930-47a3-af2d-32429b2efd65",
   "metadata": {},
   "outputs": [],
   "source": [
    "def generate_payoffs(num_strategies):\n",
    "    payoffs = []\n",
    "    num_players = len(num_strategies)\n",
    "    # Generate payoffs for each player\n",
    "    for player in range(num_players):\n",
    "        player_payoffs = []\n",
    "\n",
    "        # Generate payoffs for each strategy combination\n",
    "        strategy_combinations = np.product(num_strategies)\n",
    "        player_payoffs = np.random.rand(strategy_combinations).reshape(*num_strategies).tolist()\n",
    "\n",
    "        # Assign payoffs to the player\n",
    "        payoffs.append(player_payoffs)\n",
    "\n",
    "    return payoffs"
   ]
  },
  {
   "cell_type": "code",
   "execution_count": 31,
   "id": "81df85ff-5178-4d8c-9372-9dc4a96df107",
   "metadata": {},
   "outputs": [
    {
     "data": {
      "text/plain": [
       "[[[[0.9107681808153074, 0.4564499006466689, 0.12414503005145128],\n",
       "   [0.6544203672064911, 0.9355289527329052, 0.9456957236630951],\n",
       "   [0.4862922296090211, 0.4463534895352317, 0.09944382197352486]],\n",
       "  [[0.5468233440712565, 0.6206917021684881, 0.9005412910237278],\n",
       "   [0.628990130086942, 0.4754794355270413, 0.7458087121096056],\n",
       "   [0.3328790120675882, 0.2852033579250649, 0.45336254088178796]],\n",
       "  [[0.017174052504637216, 0.46760347677928815, 0.7106504292415848],\n",
       "   [0.05806195329538599, 0.10855816059956203, 0.5616938053492619],\n",
       "   [0.5199955780151138, 0.9008265521489176, 0.8782703617647546]]],\n",
       " [[[0.3417464877873154, 0.923846923523848, 0.34162240438259417],\n",
       "   [0.718934092731771, 0.22408715823958925, 0.7681739277909102],\n",
       "   [0.040207028837651704, 0.9256518393090867, 0.32320207401777845]],\n",
       "  [[0.03151208348093448, 0.6130453110092434, 0.46108318489710887],\n",
       "   [0.6245621754766904, 0.007734782251331507, 0.7080422062490579],\n",
       "   [0.5696373939802657, 0.18830495892671562, 0.7605127658932005]],\n",
       "  [[0.9830297936018146, 0.18240728862446665, 0.9076018893410979],\n",
       "   [0.2648971508891076, 0.2522977250349745, 0.9461193247244982],\n",
       "   [0.34117725024308043, 0.17268206857599855, 0.015954820469211817]]],\n",
       " [[[0.5392206376715001, 0.6265876850542805, 0.5264613075847003],\n",
       "   [0.07154780297464691, 0.9960909343581937, 0.19050718797900923],\n",
       "   [0.6158221515171461, 0.056603733615188, 0.7554878917121477]],\n",
       "  [[0.9357402862055098, 0.32277560985137677, 0.922918497804052],\n",
       "   [0.3639388627449939, 0.06733794577757413, 0.5735305839064538],\n",
       "   [0.7690021061079754, 0.04479960763380586, 0.41547435675406064]],\n",
       "  [[0.3356626144418511, 0.10927388247035719, 0.7626850301080486],\n",
       "   [0.27920055129131394, 0.5444555144467139, 0.5002947787014637],\n",
       "   [0.7394270547190281, 0.6726899359181003, 0.13643850501066446]]]]"
      ]
     },
     "execution_count": 31,
     "metadata": {},
     "output_type": "execute_result"
    }
   ],
   "source": [
    "random_payoffs= generate_payoffs([3,3,3])\n",
    "random_payoffs"
   ]
  },
  {
   "cell_type": "code",
   "execution_count": 32,
   "id": "9044fe32-22f4-4a4b-beab-3be66e6329be",
   "metadata": {},
   "outputs": [
    {
     "name": "stdout",
     "output_type": "stream",
     "text": [
      "(((0, 2), (1, 2), (0,)), [[[[array([0.194, 0.   , 0.806]), array([0.   , 0.053, 0.947]), array([1., 0., 0.])], 1.0]]])\n",
      "(((1, 2), (0, 2), (1,)), [[[[array([0.   , 0.964, 0.036]), array([0.801, 0.   , 0.199]), array([0., 1., 0.])], 1.0]]])\n",
      "(((1, 2), (0, 1, 2), (0, 2)), [[[[array([0.  , 0.87, 0.13]), array([0.19, 0.38, 0.43]), array([0.244, 0.   , 0.756])], 1.0]]])\n"
     ]
    }
   ],
   "source": [
    "random_game = create_n_player_game(random_payoffs)\n",
    "for mgb in min_game_blocks(random_game):\n",
    "    print(mgb)"
   ]
  },
  {
   "cell_type": "code",
   "execution_count": 46,
   "id": "188a284e-030a-45d5-92ba-068cbe41e83a",
   "metadata": {},
   "outputs": [
    {
     "ename": "KeyboardInterrupt",
     "evalue": "",
     "output_type": "error",
     "traceback": [
      "\u001b[0;31m---------------------------------------------------------------------------\u001b[0m",
      "\u001b[0;31mKeyboardInterrupt\u001b[0m                         Traceback (most recent call last)",
      "Cell \u001b[0;32mIn[46], line 8\u001b[0m\n\u001b[1;32m      6\u001b[0m random_payoffs\u001b[38;5;241m=\u001b[39m generate_payoffs([\u001b[38;5;241m4\u001b[39m,\u001b[38;5;241m4\u001b[39m,\u001b[38;5;241m4\u001b[39m,\u001b[38;5;241m4\u001b[39m])\n\u001b[1;32m      7\u001b[0m random_game \u001b[38;5;241m=\u001b[39m create_n_player_game(random_payoffs)\n\u001b[0;32m----> 8\u001b[0m \u001b[38;5;28;01mfor\u001b[39;00m mgb \u001b[38;5;129;01min\u001b[39;00m \u001b[43mmin_game_blocks\u001b[49m\u001b[43m(\u001b[49m\u001b[43mrandom_game\u001b[49m\u001b[43m)\u001b[49m:\n\u001b[1;32m      9\u001b[0m     \u001b[38;5;28mprint\u001b[39m(mgb,\u001b[38;5;28mlen\u001b[39m(mgb[\u001b[38;5;241m1\u001b[39m]))\n\u001b[1;32m     10\u001b[0m     n_ne \u001b[38;5;241m+\u001b[39m\u001b[38;5;241m=\u001b[39m  \u001b[38;5;28mlen\u001b[39m(mgb[\u001b[38;5;241m1\u001b[39m])\n",
      "Cell \u001b[0;32mIn[28], line 57\u001b[0m, in \u001b[0;36mmin_game_blocks\u001b[0;34m(game)\u001b[0m\n\u001b[1;32m     54\u001b[0m     \u001b[38;5;28;01mcontinue\u001b[39;00m\n\u001b[1;32m     56\u001b[0m pot_sol \u001b[38;5;241m=\u001b[39m nash_solver(bg, \u001b[38;5;241m1e-6\u001b[39m)\n\u001b[0;32m---> 57\u001b[0m nei \u001b[38;5;241m=\u001b[39m \u001b[43mne_index\u001b[49m\u001b[43m(\u001b[49m\u001b[43mpot_sol\u001b[49m\u001b[43m)\u001b[49m\n\u001b[1;32m     58\u001b[0m \u001b[38;5;28;01mif\u001b[39;00m nei:\n\u001b[1;32m     59\u001b[0m     bg_ne_index\u001b[38;5;241m.\u001b[39mappend([indices, nei])\n",
      "Cell \u001b[0;32mIn[28], line 20\u001b[0m, in \u001b[0;36mmin_game_blocks.<locals>.ne_index\u001b[0;34m(pot_sol)\u001b[0m\n\u001b[1;32m     18\u001b[0m     \u001b[38;5;28;01mbreak\u001b[39;00m\n\u001b[1;32m     19\u001b[0m \u001b[38;5;28;01mfor\u001b[39;00m s \u001b[38;5;129;01min\u001b[39;00m \u001b[38;5;28mset\u001b[39m(game\u001b[38;5;241m.\u001b[39mindex[p])\u001b[38;5;241m.\u001b[39mdifference(\u001b[38;5;28mset\u001b[39m(indices[p])):\n\u001b[0;32m---> 20\u001b[0m     \u001b[38;5;28;01mif\u001b[39;00m \u001b[43mis_strategy_better\u001b[49m\u001b[43m(\u001b[49m\u001b[43mgame\u001b[49m\u001b[38;5;241;43m.\u001b[39;49m\u001b[43mpayoffs\u001b[49m\u001b[43m,\u001b[49m\u001b[43m \u001b[49m\u001b[43mm_sp\u001b[49m\u001b[43m,\u001b[49m\u001b[43m \u001b[49m\u001b[43mp\u001b[49m\u001b[43m \u001b[49m\u001b[43m,\u001b[49m\u001b[43ms\u001b[49m\u001b[43m)\u001b[49m:\n\u001b[1;32m     21\u001b[0m         skip_eq \u001b[38;5;241m=\u001b[39m \u001b[38;5;28;01mTrue\u001b[39;00m\n\u001b[1;32m     22\u001b[0m         \u001b[38;5;28;01mbreak\u001b[39;00m\n",
      "Cell \u001b[0;32mIn[20], line 34\u001b[0m, in \u001b[0;36mis_strategy_better\u001b[0;34m(payoffs, mixed_strategy_profile, player, new_strategy)\u001b[0m\n\u001b[1;32m     32\u001b[0m potential_expected_payoff \u001b[38;5;241m=\u001b[39m expected_payoff(player, new_strategy)\n\u001b[1;32m     33\u001b[0m \u001b[38;5;28;01mfor\u001b[39;00m p \u001b[38;5;129;01min\u001b[39;00m \u001b[38;5;28mrange\u001b[39m(num_players):\n\u001b[0;32m---> 34\u001b[0m     current_expected_payoff \u001b[38;5;241m=\u001b[39m \u001b[43mcurrent_expected_payoff\u001b[49m\u001b[38;5;241;43m.\u001b[39;49m\u001b[43msubs\u001b[49m\u001b[43m(\u001b[49m\u001b[43m[\u001b[49m\u001b[43m(\u001b[49m\u001b[43mprobabilities\u001b[49m\u001b[43m[\u001b[49m\u001b[43mp\u001b[49m\u001b[43m]\u001b[49m\u001b[43m[\u001b[49m\u001b[43mi\u001b[49m\u001b[43m]\u001b[49m\u001b[43m,\u001b[49m\u001b[43m \u001b[49m\u001b[43mmixed_strategy_profile\u001b[49m\u001b[43m[\u001b[49m\u001b[43mp\u001b[49m\u001b[43m]\u001b[49m\u001b[43m[\u001b[49m\u001b[43mi\u001b[49m\u001b[43m]\u001b[49m\u001b[43m)\u001b[49m\u001b[43m \u001b[49m\u001b[38;5;28;43;01mfor\u001b[39;49;00m\u001b[43m \u001b[49m\u001b[43mi\u001b[49m\u001b[43m \u001b[49m\u001b[38;5;129;43;01min\u001b[39;49;00m\u001b[43m \u001b[49m\u001b[38;5;28;43mrange\u001b[39;49m\u001b[43m(\u001b[49m\u001b[43mnum_strategies\u001b[49m\u001b[43m[\u001b[49m\u001b[43mp\u001b[49m\u001b[43m]\u001b[49m\u001b[43m)\u001b[49m\u001b[43m]\u001b[49m\u001b[43m)\u001b[49m\n\u001b[1;32m     35\u001b[0m \u001b[38;5;66;03m# Calculate the expected payoff if the player switches to the new strategy\u001b[39;00m\n\u001b[1;32m     36\u001b[0m     potential_expected_payoff \u001b[38;5;241m=\u001b[39m potential_expected_payoff\u001b[38;5;241m.\u001b[39msubs([(probabilities[p][i], mixed_strategy_profile[p][i]) \u001b[38;5;28;01mfor\u001b[39;00m i \u001b[38;5;129;01min\u001b[39;00m \u001b[38;5;28mrange\u001b[39m(num_strategies[p])])\n",
      "File \u001b[0;32m~/miniconda3/envs/denv/lib/python3.11/site-packages/sympy/core/basic.py:997\u001b[0m, in \u001b[0;36mBasic.subs\u001b[0;34m(self, *args, **kwargs)\u001b[0m\n\u001b[1;32m    995\u001b[0m rv \u001b[38;5;241m=\u001b[39m \u001b[38;5;28mself\u001b[39m\n\u001b[1;32m    996\u001b[0m \u001b[38;5;28;01mfor\u001b[39;00m old, new \u001b[38;5;129;01min\u001b[39;00m sequence:\n\u001b[0;32m--> 997\u001b[0m     rv \u001b[38;5;241m=\u001b[39m \u001b[43mrv\u001b[49m\u001b[38;5;241;43m.\u001b[39;49m\u001b[43m_subs\u001b[49m\u001b[43m(\u001b[49m\u001b[43mold\u001b[49m\u001b[43m,\u001b[49m\u001b[43m \u001b[49m\u001b[43mnew\u001b[49m\u001b[43m,\u001b[49m\u001b[43m \u001b[49m\u001b[38;5;241;43m*\u001b[39;49m\u001b[38;5;241;43m*\u001b[39;49m\u001b[43mkwargs\u001b[49m\u001b[43m)\u001b[49m\n\u001b[1;32m    998\u001b[0m     \u001b[38;5;28;01mif\u001b[39;00m \u001b[38;5;129;01mnot\u001b[39;00m \u001b[38;5;28misinstance\u001b[39m(rv, Basic):\n\u001b[1;32m    999\u001b[0m         \u001b[38;5;28;01mbreak\u001b[39;00m\n",
      "File \u001b[0;32m~/miniconda3/envs/denv/lib/python3.11/site-packages/sympy/core/cache.py:70\u001b[0m, in \u001b[0;36m__cacheit.<locals>.func_wrapper.<locals>.wrapper\u001b[0;34m(*args, **kwargs)\u001b[0m\n\u001b[1;32m     67\u001b[0m \u001b[38;5;129m@wraps\u001b[39m(func)\n\u001b[1;32m     68\u001b[0m \u001b[38;5;28;01mdef\u001b[39;00m \u001b[38;5;21mwrapper\u001b[39m(\u001b[38;5;241m*\u001b[39margs, \u001b[38;5;241m*\u001b[39m\u001b[38;5;241m*\u001b[39mkwargs):\n\u001b[1;32m     69\u001b[0m     \u001b[38;5;28;01mtry\u001b[39;00m:\n\u001b[0;32m---> 70\u001b[0m         retval \u001b[38;5;241m=\u001b[39m \u001b[43mcfunc\u001b[49m\u001b[43m(\u001b[49m\u001b[38;5;241;43m*\u001b[39;49m\u001b[43margs\u001b[49m\u001b[43m,\u001b[49m\u001b[43m \u001b[49m\u001b[38;5;241;43m*\u001b[39;49m\u001b[38;5;241;43m*\u001b[39;49m\u001b[43mkwargs\u001b[49m\u001b[43m)\u001b[49m\n\u001b[1;32m     71\u001b[0m     \u001b[38;5;28;01mexcept\u001b[39;00m \u001b[38;5;167;01mTypeError\u001b[39;00m \u001b[38;5;28;01mas\u001b[39;00m e:\n\u001b[1;32m     72\u001b[0m         \u001b[38;5;28;01mif\u001b[39;00m \u001b[38;5;129;01mnot\u001b[39;00m e\u001b[38;5;241m.\u001b[39margs \u001b[38;5;129;01mor\u001b[39;00m \u001b[38;5;129;01mnot\u001b[39;00m e\u001b[38;5;241m.\u001b[39margs[\u001b[38;5;241m0\u001b[39m]\u001b[38;5;241m.\u001b[39mstartswith(\u001b[38;5;124m'\u001b[39m\u001b[38;5;124munhashable type:\u001b[39m\u001b[38;5;124m'\u001b[39m):\n",
      "File \u001b[0;32m~/miniconda3/envs/denv/lib/python3.11/site-packages/sympy/core/basic.py:1111\u001b[0m, in \u001b[0;36mBasic._subs\u001b[0;34m(self, old, new, **hints)\u001b[0m\n\u001b[1;32m   1109\u001b[0m rv \u001b[38;5;241m=\u001b[39m \u001b[38;5;28mself\u001b[39m\u001b[38;5;241m.\u001b[39m_eval_subs(old, new)\n\u001b[1;32m   1110\u001b[0m \u001b[38;5;28;01mif\u001b[39;00m rv \u001b[38;5;129;01mis\u001b[39;00m \u001b[38;5;28;01mNone\u001b[39;00m:\n\u001b[0;32m-> 1111\u001b[0m     rv \u001b[38;5;241m=\u001b[39m \u001b[43mfallback\u001b[49m\u001b[43m(\u001b[49m\u001b[38;5;28;43mself\u001b[39;49m\u001b[43m,\u001b[49m\u001b[43m \u001b[49m\u001b[43mold\u001b[49m\u001b[43m,\u001b[49m\u001b[43m \u001b[49m\u001b[43mnew\u001b[49m\u001b[43m)\u001b[49m\n\u001b[1;32m   1112\u001b[0m \u001b[38;5;28;01mreturn\u001b[39;00m rv\n",
      "File \u001b[0;32m~/miniconda3/envs/denv/lib/python3.11/site-packages/sympy/core/basic.py:1083\u001b[0m, in \u001b[0;36mBasic._subs.<locals>.fallback\u001b[0;34m(self, old, new)\u001b[0m\n\u001b[1;32m   1081\u001b[0m \u001b[38;5;28;01mif\u001b[39;00m \u001b[38;5;129;01mnot\u001b[39;00m \u001b[38;5;28mhasattr\u001b[39m(arg, \u001b[38;5;124m'\u001b[39m\u001b[38;5;124m_eval_subs\u001b[39m\u001b[38;5;124m'\u001b[39m):\n\u001b[1;32m   1082\u001b[0m     \u001b[38;5;28;01mcontinue\u001b[39;00m\n\u001b[0;32m-> 1083\u001b[0m arg \u001b[38;5;241m=\u001b[39m \u001b[43marg\u001b[49m\u001b[38;5;241;43m.\u001b[39;49m\u001b[43m_subs\u001b[49m\u001b[43m(\u001b[49m\u001b[43mold\u001b[49m\u001b[43m,\u001b[49m\u001b[43m \u001b[49m\u001b[43mnew\u001b[49m\u001b[43m,\u001b[49m\u001b[43m \u001b[49m\u001b[38;5;241;43m*\u001b[39;49m\u001b[38;5;241;43m*\u001b[39;49m\u001b[43mhints\u001b[49m\u001b[43m)\u001b[49m\n\u001b[1;32m   1084\u001b[0m \u001b[38;5;28;01mif\u001b[39;00m \u001b[38;5;129;01mnot\u001b[39;00m _aresame(arg, args[i]):\n\u001b[1;32m   1085\u001b[0m     hit \u001b[38;5;241m=\u001b[39m \u001b[38;5;28;01mTrue\u001b[39;00m\n",
      "File \u001b[0;32m~/miniconda3/envs/denv/lib/python3.11/site-packages/sympy/core/cache.py:70\u001b[0m, in \u001b[0;36m__cacheit.<locals>.func_wrapper.<locals>.wrapper\u001b[0;34m(*args, **kwargs)\u001b[0m\n\u001b[1;32m     67\u001b[0m \u001b[38;5;129m@wraps\u001b[39m(func)\n\u001b[1;32m     68\u001b[0m \u001b[38;5;28;01mdef\u001b[39;00m \u001b[38;5;21mwrapper\u001b[39m(\u001b[38;5;241m*\u001b[39margs, \u001b[38;5;241m*\u001b[39m\u001b[38;5;241m*\u001b[39mkwargs):\n\u001b[1;32m     69\u001b[0m     \u001b[38;5;28;01mtry\u001b[39;00m:\n\u001b[0;32m---> 70\u001b[0m         retval \u001b[38;5;241m=\u001b[39m \u001b[43mcfunc\u001b[49m\u001b[43m(\u001b[49m\u001b[38;5;241;43m*\u001b[39;49m\u001b[43margs\u001b[49m\u001b[43m,\u001b[49m\u001b[43m \u001b[49m\u001b[38;5;241;43m*\u001b[39;49m\u001b[38;5;241;43m*\u001b[39;49m\u001b[43mkwargs\u001b[49m\u001b[43m)\u001b[49m\n\u001b[1;32m     71\u001b[0m     \u001b[38;5;28;01mexcept\u001b[39;00m \u001b[38;5;167;01mTypeError\u001b[39;00m \u001b[38;5;28;01mas\u001b[39;00m e:\n\u001b[1;32m     72\u001b[0m         \u001b[38;5;28;01mif\u001b[39;00m \u001b[38;5;129;01mnot\u001b[39;00m e\u001b[38;5;241m.\u001b[39margs \u001b[38;5;129;01mor\u001b[39;00m \u001b[38;5;129;01mnot\u001b[39;00m e\u001b[38;5;241m.\u001b[39margs[\u001b[38;5;241m0\u001b[39m]\u001b[38;5;241m.\u001b[39mstartswith(\u001b[38;5;124m'\u001b[39m\u001b[38;5;124munhashable type:\u001b[39m\u001b[38;5;124m'\u001b[39m):\n",
      "File \u001b[0;32m~/miniconda3/envs/denv/lib/python3.11/site-packages/sympy/core/basic.py:1111\u001b[0m, in \u001b[0;36mBasic._subs\u001b[0;34m(self, old, new, **hints)\u001b[0m\n\u001b[1;32m   1109\u001b[0m rv \u001b[38;5;241m=\u001b[39m \u001b[38;5;28mself\u001b[39m\u001b[38;5;241m.\u001b[39m_eval_subs(old, new)\n\u001b[1;32m   1110\u001b[0m \u001b[38;5;28;01mif\u001b[39;00m rv \u001b[38;5;129;01mis\u001b[39;00m \u001b[38;5;28;01mNone\u001b[39;00m:\n\u001b[0;32m-> 1111\u001b[0m     rv \u001b[38;5;241m=\u001b[39m \u001b[43mfallback\u001b[49m\u001b[43m(\u001b[49m\u001b[38;5;28;43mself\u001b[39;49m\u001b[43m,\u001b[49m\u001b[43m \u001b[49m\u001b[43mold\u001b[49m\u001b[43m,\u001b[49m\u001b[43m \u001b[49m\u001b[43mnew\u001b[49m\u001b[43m)\u001b[49m\n\u001b[1;32m   1112\u001b[0m \u001b[38;5;28;01mreturn\u001b[39;00m rv\n",
      "File \u001b[0;32m~/miniconda3/envs/denv/lib/python3.11/site-packages/sympy/core/basic.py:1083\u001b[0m, in \u001b[0;36mBasic._subs.<locals>.fallback\u001b[0;34m(self, old, new)\u001b[0m\n\u001b[1;32m   1081\u001b[0m \u001b[38;5;28;01mif\u001b[39;00m \u001b[38;5;129;01mnot\u001b[39;00m \u001b[38;5;28mhasattr\u001b[39m(arg, \u001b[38;5;124m'\u001b[39m\u001b[38;5;124m_eval_subs\u001b[39m\u001b[38;5;124m'\u001b[39m):\n\u001b[1;32m   1082\u001b[0m     \u001b[38;5;28;01mcontinue\u001b[39;00m\n\u001b[0;32m-> 1083\u001b[0m arg \u001b[38;5;241m=\u001b[39m \u001b[43marg\u001b[49m\u001b[38;5;241;43m.\u001b[39;49m\u001b[43m_subs\u001b[49m\u001b[43m(\u001b[49m\u001b[43mold\u001b[49m\u001b[43m,\u001b[49m\u001b[43m \u001b[49m\u001b[43mnew\u001b[49m\u001b[43m,\u001b[49m\u001b[43m \u001b[49m\u001b[38;5;241;43m*\u001b[39;49m\u001b[38;5;241;43m*\u001b[39;49m\u001b[43mhints\u001b[49m\u001b[43m)\u001b[49m\n\u001b[1;32m   1084\u001b[0m \u001b[38;5;28;01mif\u001b[39;00m \u001b[38;5;129;01mnot\u001b[39;00m _aresame(arg, args[i]):\n\u001b[1;32m   1085\u001b[0m     hit \u001b[38;5;241m=\u001b[39m \u001b[38;5;28;01mTrue\u001b[39;00m\n",
      "File \u001b[0;32m~/miniconda3/envs/denv/lib/python3.11/site-packages/sympy/core/cache.py:70\u001b[0m, in \u001b[0;36m__cacheit.<locals>.func_wrapper.<locals>.wrapper\u001b[0;34m(*args, **kwargs)\u001b[0m\n\u001b[1;32m     67\u001b[0m \u001b[38;5;129m@wraps\u001b[39m(func)\n\u001b[1;32m     68\u001b[0m \u001b[38;5;28;01mdef\u001b[39;00m \u001b[38;5;21mwrapper\u001b[39m(\u001b[38;5;241m*\u001b[39margs, \u001b[38;5;241m*\u001b[39m\u001b[38;5;241m*\u001b[39mkwargs):\n\u001b[1;32m     69\u001b[0m     \u001b[38;5;28;01mtry\u001b[39;00m:\n\u001b[0;32m---> 70\u001b[0m         retval \u001b[38;5;241m=\u001b[39m \u001b[43mcfunc\u001b[49m\u001b[43m(\u001b[49m\u001b[38;5;241;43m*\u001b[39;49m\u001b[43margs\u001b[49m\u001b[43m,\u001b[49m\u001b[43m \u001b[49m\u001b[38;5;241;43m*\u001b[39;49m\u001b[38;5;241;43m*\u001b[39;49m\u001b[43mkwargs\u001b[49m\u001b[43m)\u001b[49m\n\u001b[1;32m     71\u001b[0m     \u001b[38;5;28;01mexcept\u001b[39;00m \u001b[38;5;167;01mTypeError\u001b[39;00m \u001b[38;5;28;01mas\u001b[39;00m e:\n\u001b[1;32m     72\u001b[0m         \u001b[38;5;28;01mif\u001b[39;00m \u001b[38;5;129;01mnot\u001b[39;00m e\u001b[38;5;241m.\u001b[39margs \u001b[38;5;129;01mor\u001b[39;00m \u001b[38;5;129;01mnot\u001b[39;00m e\u001b[38;5;241m.\u001b[39margs[\u001b[38;5;241m0\u001b[39m]\u001b[38;5;241m.\u001b[39mstartswith(\u001b[38;5;124m'\u001b[39m\u001b[38;5;124munhashable type:\u001b[39m\u001b[38;5;124m'\u001b[39m):\n",
      "File \u001b[0;32m~/miniconda3/envs/denv/lib/python3.11/site-packages/sympy/core/basic.py:1111\u001b[0m, in \u001b[0;36mBasic._subs\u001b[0;34m(self, old, new, **hints)\u001b[0m\n\u001b[1;32m   1109\u001b[0m rv \u001b[38;5;241m=\u001b[39m \u001b[38;5;28mself\u001b[39m\u001b[38;5;241m.\u001b[39m_eval_subs(old, new)\n\u001b[1;32m   1110\u001b[0m \u001b[38;5;28;01mif\u001b[39;00m rv \u001b[38;5;129;01mis\u001b[39;00m \u001b[38;5;28;01mNone\u001b[39;00m:\n\u001b[0;32m-> 1111\u001b[0m     rv \u001b[38;5;241m=\u001b[39m \u001b[43mfallback\u001b[49m\u001b[43m(\u001b[49m\u001b[38;5;28;43mself\u001b[39;49m\u001b[43m,\u001b[49m\u001b[43m \u001b[49m\u001b[43mold\u001b[49m\u001b[43m,\u001b[49m\u001b[43m \u001b[49m\u001b[43mnew\u001b[49m\u001b[43m)\u001b[49m\n\u001b[1;32m   1112\u001b[0m \u001b[38;5;28;01mreturn\u001b[39;00m rv\n",
      "File \u001b[0;32m~/miniconda3/envs/denv/lib/python3.11/site-packages/sympy/core/basic.py:1088\u001b[0m, in \u001b[0;36mBasic._subs.<locals>.fallback\u001b[0;34m(self, old, new)\u001b[0m\n\u001b[1;32m   1086\u001b[0m         args[i] \u001b[38;5;241m=\u001b[39m arg\n\u001b[1;32m   1087\u001b[0m \u001b[38;5;28;01mif\u001b[39;00m hit:\n\u001b[0;32m-> 1088\u001b[0m     rv \u001b[38;5;241m=\u001b[39m \u001b[38;5;28;43mself\u001b[39;49m\u001b[38;5;241;43m.\u001b[39;49m\u001b[43mfunc\u001b[49m\u001b[43m(\u001b[49m\u001b[38;5;241;43m*\u001b[39;49m\u001b[43margs\u001b[49m\u001b[43m)\u001b[49m\n\u001b[1;32m   1089\u001b[0m     hack2 \u001b[38;5;241m=\u001b[39m hints\u001b[38;5;241m.\u001b[39mget(\u001b[38;5;124m'\u001b[39m\u001b[38;5;124mhack2\u001b[39m\u001b[38;5;124m'\u001b[39m, \u001b[38;5;28;01mFalse\u001b[39;00m)\n\u001b[1;32m   1090\u001b[0m     \u001b[38;5;28;01mif\u001b[39;00m hack2 \u001b[38;5;129;01mand\u001b[39;00m \u001b[38;5;28mself\u001b[39m\u001b[38;5;241m.\u001b[39mis_Mul \u001b[38;5;129;01mand\u001b[39;00m \u001b[38;5;129;01mnot\u001b[39;00m rv\u001b[38;5;241m.\u001b[39mis_Mul:  \u001b[38;5;66;03m# 2-arg hack\u001b[39;00m\n",
      "File \u001b[0;32m~/miniconda3/envs/denv/lib/python3.11/site-packages/sympy/core/cache.py:70\u001b[0m, in \u001b[0;36m__cacheit.<locals>.func_wrapper.<locals>.wrapper\u001b[0;34m(*args, **kwargs)\u001b[0m\n\u001b[1;32m     67\u001b[0m \u001b[38;5;129m@wraps\u001b[39m(func)\n\u001b[1;32m     68\u001b[0m \u001b[38;5;28;01mdef\u001b[39;00m \u001b[38;5;21mwrapper\u001b[39m(\u001b[38;5;241m*\u001b[39margs, \u001b[38;5;241m*\u001b[39m\u001b[38;5;241m*\u001b[39mkwargs):\n\u001b[1;32m     69\u001b[0m     \u001b[38;5;28;01mtry\u001b[39;00m:\n\u001b[0;32m---> 70\u001b[0m         retval \u001b[38;5;241m=\u001b[39m \u001b[43mcfunc\u001b[49m\u001b[43m(\u001b[49m\u001b[38;5;241;43m*\u001b[39;49m\u001b[43margs\u001b[49m\u001b[43m,\u001b[49m\u001b[43m \u001b[49m\u001b[38;5;241;43m*\u001b[39;49m\u001b[38;5;241;43m*\u001b[39;49m\u001b[43mkwargs\u001b[49m\u001b[43m)\u001b[49m\n\u001b[1;32m     71\u001b[0m     \u001b[38;5;28;01mexcept\u001b[39;00m \u001b[38;5;167;01mTypeError\u001b[39;00m \u001b[38;5;28;01mas\u001b[39;00m e:\n\u001b[1;32m     72\u001b[0m         \u001b[38;5;28;01mif\u001b[39;00m \u001b[38;5;129;01mnot\u001b[39;00m e\u001b[38;5;241m.\u001b[39margs \u001b[38;5;129;01mor\u001b[39;00m \u001b[38;5;129;01mnot\u001b[39;00m e\u001b[38;5;241m.\u001b[39margs[\u001b[38;5;241m0\u001b[39m]\u001b[38;5;241m.\u001b[39mstartswith(\u001b[38;5;124m'\u001b[39m\u001b[38;5;124munhashable type:\u001b[39m\u001b[38;5;124m'\u001b[39m):\n",
      "File \u001b[0;32m~/miniconda3/envs/denv/lib/python3.11/site-packages/sympy/core/operations.py:98\u001b[0m, in \u001b[0;36mAssocOp.__new__\u001b[0;34m(cls, evaluate, _sympify, *args)\u001b[0m\n\u001b[1;32m     95\u001b[0m \u001b[38;5;28;01mif\u001b[39;00m \u001b[38;5;28mlen\u001b[39m(args) \u001b[38;5;241m==\u001b[39m \u001b[38;5;241m1\u001b[39m:\n\u001b[1;32m     96\u001b[0m     \u001b[38;5;28;01mreturn\u001b[39;00m args[\u001b[38;5;241m0\u001b[39m]\n\u001b[0;32m---> 98\u001b[0m c_part, nc_part, order_symbols \u001b[38;5;241m=\u001b[39m \u001b[38;5;28;43mcls\u001b[39;49m\u001b[38;5;241;43m.\u001b[39;49m\u001b[43mflatten\u001b[49m\u001b[43m(\u001b[49m\u001b[43margs\u001b[49m\u001b[43m)\u001b[49m\n\u001b[1;32m     99\u001b[0m is_commutative \u001b[38;5;241m=\u001b[39m \u001b[38;5;129;01mnot\u001b[39;00m nc_part\n\u001b[1;32m    100\u001b[0m obj \u001b[38;5;241m=\u001b[39m \u001b[38;5;28mcls\u001b[39m\u001b[38;5;241m.\u001b[39m_from_args(c_part \u001b[38;5;241m+\u001b[39m nc_part, is_commutative)\n",
      "File \u001b[0;32m~/miniconda3/envs/denv/lib/python3.11/site-packages/sympy/core/add.py:265\u001b[0m, in \u001b[0;36mAdd.flatten\u001b[0;34m(cls, seq)\u001b[0m\n\u001b[1;32m    262\u001b[0m     extra\u001b[38;5;241m.\u001b[39mappend(o)\n\u001b[1;32m    263\u001b[0m     \u001b[38;5;28;01mcontinue\u001b[39;00m\n\u001b[0;32m--> 265\u001b[0m \u001b[38;5;28;01melif\u001b[39;00m \u001b[38;5;28misinstance\u001b[39m(o, TensExpr):\n\u001b[1;32m    266\u001b[0m     coeff \u001b[38;5;241m=\u001b[39m o\u001b[38;5;241m.\u001b[39m\u001b[38;5;21m__add__\u001b[39m(coeff) \u001b[38;5;28;01mif\u001b[39;00m coeff \u001b[38;5;28;01melse\u001b[39;00m o\n\u001b[1;32m    267\u001b[0m     \u001b[38;5;28;01mcontinue\u001b[39;00m\n",
      "File \u001b[0;32m<frozen abc>:119\u001b[0m, in \u001b[0;36m__instancecheck__\u001b[0;34m(cls, instance)\u001b[0m\n",
      "\u001b[0;31mKeyboardInterrupt\u001b[0m: "
     ]
    }
   ],
   "source": [
    "n = 200\n",
    "\n",
    "n_ne = 0\n",
    "tic = time.perf_counter()\n",
    "for i in range(n):\n",
    "    random_payoffs= generate_payoffs([4,4,4,4])\n",
    "    random_game = create_n_player_game(random_payoffs)\n",
    "    for mgb in min_game_blocks(random_game):\n",
    "        print(mgb,len(mgb[1]))\n",
    "        n_ne +=  len(mgb[1])\n",
    "    if i%25==0:\n",
    "        toc = time.perf_counter()\n",
    "        print(np.round(toc -tic,1) , i / n, \"Nr SO:\", n_ne / n )\n",
    "        \n",
    "n_ne / n"
   ]
  },
  {
   "cell_type": "code",
   "execution_count": null,
   "id": "13ca1682-5468-4fcf-858f-6dff4abff906",
   "metadata": {},
   "outputs": [],
   "source": [
    "n = 200\n",
    "\n",
    "n_ne = 0\n",
    "tic = time.perf_counter()\n",
    "for i in range(n):\n",
    "    random_payoffs= generate_payoffs([5,5,5])\n",
    "    random_game = create_n_player_game(random_payoffs)\n",
    "    for mgb in min_game_blocks(random_game):\n",
    "        n_ne +=  len(mgb[1])\n",
    "    if i%25==0:\n",
    "        toc = time.perf_counter()\n",
    "        print(np.round(toc -tic,1) , i / n, \"Nr SO:\", n_ne / (i+1) )\n",
    "        \n",
    "n_ne / n"
   ]
  },
  {
   "cell_type": "code",
   "execution_count": 84,
   "id": "93126879-127a-4a85-b742-54603b08109e",
   "metadata": {},
   "outputs": [
    {
     "name": "stdout",
     "output_type": "stream",
     "text": [
      "(((0, 3), (0, 3), (1,)), [[[[array([0.457, 0.   , 0.   , 0.543]), array([0.86, 0.  , 0.  , 0.14]), array([0., 1., 0., 0.])], 1.0]]])\n"
     ]
    }
   ],
   "source": [
    "random_payoffs= generate_payoffs([4,4,4,4])\n",
    "random_game = create_n_player_game(random_payoffs)\n",
    "for mgb in min_game_blocks(random_game):\n",
    "    print(mgb)"
   ]
  }
 ],
 "metadata": {
  "kernelspec": {
   "display_name": "Python 3 (ipykernel)",
   "language": "python",
   "name": "python3"
  },
  "language_info": {
   "codemirror_mode": {
    "name": "ipython",
    "version": 3
   },
   "file_extension": ".py",
   "mimetype": "text/x-python",
   "name": "python",
   "nbconvert_exporter": "python",
   "pygments_lexer": "ipython3",
   "version": "3.11.2"
  }
 },
 "nbformat": 4,
 "nbformat_minor": 5
}
