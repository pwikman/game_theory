{
 "cells": [
  {
   "attachments": {},
   "cell_type": "markdown",
   "id": "fb53fae2-7af6-4244-9f8c-f7cb57c81e0b",
   "metadata": {
    "tags": []
   },
   "source": [
    "# Imported functions"
   ]
  },
  {
   "cell_type": "code",
   "execution_count": 41,
   "id": "1b508d2d-a7b1-4864-aabf-1b3e139b4565",
   "metadata": {},
   "outputs": [],
   "source": [
    "import sympy as sp\n",
    "import itertools\n",
    "import pypolsys\n",
    "import numpy as np\n",
    "from itertools import chain, combinations, product\n",
    "from typing import List, Iterator, Tuple, Any, Generator\n",
    "import time"
   ]
  },
  {
   "attachments": {},
   "cell_type": "markdown",
   "id": "58a632cc-4c85-4e2f-bac5-65679da8596c",
   "metadata": {
    "tags": []
   },
   "source": [
    "# Defining the game class and a function for creating a game"
   ]
  },
  {
   "cell_type": "code",
   "execution_count": 42,
   "id": "19b05418-edd0-41c8-8f7d-f8177029d446",
   "metadata": {},
   "outputs": [],
   "source": [
    "class Game:\n",
    "    \"\"\"\n",
    "    A class used to represent a game in strategic form.\n",
    "\n",
    "    ...\n",
    "\n",
    "    Attributes\n",
    "    ----------\n",
    "    num_players : int\n",
    "        number of players in the game\n",
    "    num_strategies : list\n",
    "        number of strategies for each player\n",
    "    payoffs : list\n",
    "        payoff matrix of the game\n",
    "    indices : list\n",
    "        indices of the strategies for each player in the payoff matrix\n",
    "\n",
    "    Methods\n",
    "    -------\n",
    "    create_n_player_game(payoffs)\n",
    "        creates a game with n players and variable strategies for each player\n",
    "    get_strategy_indices(payoffs)\n",
    "        returns the indices of the strategies for each player\n",
    "    \"\"\"\n",
    "    def __init__(self, num_players, num_strategies, payoffs, indices, probas):\n",
    "        self.num_players = num_players\n",
    "        self.num_strategies = num_strategies\n",
    "        self.payoffs = payoffs\n",
    "        self.index = indices\n",
    "        self.proba = probas\n",
    "\n",
    "\n",
    "def create_n_player_game(payoffs):\n",
    "    num_players = len(payoffs)\n",
    "    num_strategies = [len(payoffs[i]) for i in range(num_players)]\n",
    "    indices = get_strategy_indices(payoffs)\n",
    "    probas = [[sp.Symbol(f'p{i+1}{j+1}') for j in range(num_strategies[i])] for i in range(num_players)]\n",
    "\n",
    "    return Game(num_players, num_strategies, payoffs, indices, probas)\n",
    "\n",
    "def get_strategy_indices(payoffs):\n",
    "    strategy_indices = []\n",
    "\n",
    "    for player_payoffs in payoffs:\n",
    "        player_strategy_indices = []\n",
    "        for i, strategy in enumerate(player_payoffs):\n",
    "            player_strategy_indices.append(i)\n",
    "        strategy_indices.append(tuple(player_strategy_indices))\n",
    "\n",
    "    return tuple(strategy_indices)\n"
   ]
  },
  {
   "cell_type": "code",
   "execution_count": 43,
   "metadata": {},
   "outputs": [],
   "source": [
    "def flatten_list(nested_list):\n",
    "    flat_list = []\n",
    "    for item in nested_list:\n",
    "        if isinstance(item, list):\n",
    "            flat_list.extend(flatten_list(item))\n",
    "        else:\n",
    "            flat_list.append(item)\n",
    "    return flat_list\n",
    "\n",
    "def list_dig(list, down):\n",
    "    down = down - 1\n",
    "    if down > 0:\n",
    "        list, down = list_dig(list[0], down)\n",
    "    return list, down\n",
    "\n",
    "\n",
    "# def is_valid_game_payoffs(payoffs):\n",
    "#     num_players = len(payoffs)\n",
    "#     num_strategies = [len(payoffs[i]) for i in range(num_players)]\n",
    "\n",
    "#     if not payoffs or not all(isinstance(p, list) and p for p in payoffs):\n",
    "#         raise TypeError(\"Only nested list structures are allowed\")\n",
    "    \n",
    "#     for payoff in flatten_list(payoffs):\n",
    "#         if not isinstance(payoff, (int, float)):\n",
    "#             raise TypeError(\"Only integers are allowed\")\n",
    "           \n",
    "#     for p in range(num_players):\n",
    "#         print(p, payoffs[p])\n",
    "#         for player in [player for player in range(num_players) if player != p]:\n",
    "#             for s in list_dig(payoffs[player], p )[0]:\n",
    "#                 print(player, s)\n",
    "#                 if len(s) != len(payoffs[p]):\n",
    "#                     raise ValueError(\"Player\", p, \"and\", player, \"have inconsistent payoff matrix dimensions\")\n",
    "                    \n",
    "#     return print(\"Payoffs valid for game with\", num_players, \"players and\", num_strategies, \"strategies\")\n"
   ]
  },
  {
   "attachments": {},
   "cell_type": "markdown",
   "id": "8d339723-b775-4ae7-80d0-d34b5df3b3ee",
   "metadata": {
    "tags": []
   },
   "source": [
    "# Different games"
   ]
  },
  {
   "cell_type": "code",
   "execution_count": 44,
   "id": "05a7cac3-130b-40ca-bf8c-04877519991a",
   "metadata": {},
   "outputs": [
    {
     "data": {
      "text/plain": [
       "(3, [2, 2, 2])"
      ]
     },
     "execution_count": 44,
     "metadata": {},
     "output_type": "execute_result"
    }
   ],
   "source": [
    "payoffs = [\n",
    "    [\n",
    "        [\n",
    "            [9, 0],\n",
    "            [0, 3]\n",
    "        ],\n",
    "        [\n",
    "            [0, 3],\n",
    "            [9, 0]\n",
    "        ]\n",
    "    ],\n",
    "    [\n",
    "        [\n",
    "            [8, 0],\n",
    "            [0, 4]\n",
    "        ],\n",
    "        [\n",
    "            [0, 4],\n",
    "            [8, 0]\n",
    "        ]\n",
    "    ],\n",
    "    [\n",
    "        [\n",
    "            [12, 0],\n",
    "            [0, 2]\n",
    "        ],\n",
    "        [\n",
    "            [0, 6],\n",
    "            [6, 0]\n",
    "        ]\n",
    "    ]\n",
    "    ]\n",
    "\n",
    "game = create_n_player_game(payoffs)\n",
    "game.num_players, game.num_strategies#, game.payoffs"
   ]
  },
  {
   "cell_type": "code",
   "execution_count": 45,
   "id": "5f978568-065e-489f-8567-37e77e9758c5",
   "metadata": {},
   "outputs": [],
   "source": [
    "payoffs_test = [\n",
    "    [\n",
    "        [\n",
    "            [9, 0],\n",
    "            [0, 3]\n",
    "        ],\n",
    "        [\n",
    "            [-10, -3],\n",
    "            [-9, -10]\n",
    "        ]\n",
    "    ],\n",
    "    [\n",
    "        [\n",
    "            [8, 0],\n",
    "            [0, 4]\n",
    "        ],\n",
    "        [\n",
    "            [0, 4],\n",
    "            [8, 0]\n",
    "        ]\n",
    "    ],\n",
    "    [\n",
    "        [\n",
    "            [12, 0],\n",
    "            [0, 2]\n",
    "        ],\n",
    "        [\n",
    "            [0, 6],\n",
    "            [6, 0]\n",
    "        ]\n",
    "    ]\n",
    "    ]\n",
    "\n",
    "game_t = create_n_player_game(payoffs_test)"
   ]
  },
  {
   "cell_type": "code",
   "execution_count": 46,
   "id": "0f875b42-3bc7-4447-8ec8-9e63ad521f8e",
   "metadata": {},
   "outputs": [
    {
     "data": {
      "text/plain": [
       "[[p11, p12], [p21, p22]]"
      ]
     },
     "execution_count": 46,
     "metadata": {},
     "output_type": "execute_result"
    }
   ],
   "source": [
    "payoffs21 = [\n",
    "    [\n",
    "        [1,0],\n",
    "        [0,1]\n",
    "    ],\n",
    "    [\n",
    "        [1,0],\n",
    "        [0,1]\n",
    "    ]\n",
    "]\n",
    "\n",
    "game21 = create_n_player_game(payoffs21)\n",
    "game21.proba"
   ]
  },
  {
   "cell_type": "code",
   "execution_count": 47,
   "id": "589fa140-4165-4243-93e6-586df2a402d7",
   "metadata": {},
   "outputs": [],
   "source": [
    "payoffs22 = [\n",
    "    [\n",
    "        [1,0],\n",
    "        [0,1],\n",
    "        [-1,-1]\n",
    "    ],\n",
    "    [\n",
    "        [1,0,4],\n",
    "        [0,1,3]\n",
    "    ]\n",
    "]\n",
    "\n",
    "game22 = create_n_player_game(payoffs22)"
   ]
  },
  {
   "cell_type": "code",
   "execution_count": 48,
   "id": "42ec05f6-1ac7-4778-be84-11199105a403",
   "metadata": {},
   "outputs": [
    {
     "data": {
      "text/plain": [
       "(2, [3, 3])"
      ]
     },
     "execution_count": 48,
     "metadata": {},
     "output_type": "execute_result"
    }
   ],
   "source": [
    "payoffs2 = [\n",
    "    [\n",
    "        [\n",
    "            1,\n",
    "            -1,\n",
    "            -2\n",
    "        ],\n",
    "        [\n",
    "            -3,\n",
    "            1,\n",
    "            -4\n",
    "        ],\n",
    "        [\n",
    "            -2,\n",
    "            0,\n",
    "            1\n",
    "        ]\n",
    "    ],\n",
    "    [\n",
    "        [\n",
    "            1,\n",
    "            0,\n",
    "            -1\n",
    "        ],\n",
    "        [\n",
    "            -1,\n",
    "            1,\n",
    "            0\n",
    "        ],\n",
    "        [\n",
    "            0,\n",
    "            -1,\n",
    "            1\n",
    "        ]\n",
    "    ]\n",
    "]\n",
    "\n",
    "game2 = create_n_player_game(payoffs2)\n",
    "game2.num_players, game2.num_strategies#, game2.payoffs"
   ]
  },
  {
   "cell_type": "code",
   "execution_count": 49,
   "id": "22df4bcc-30ef-4112-9305-a1721469777f",
   "metadata": {},
   "outputs": [
    {
     "data": {
      "text/plain": [
       "(3, [3, 2, 2])"
      ]
     },
     "execution_count": 49,
     "metadata": {},
     "output_type": "execute_result"
    }
   ],
   "source": [
    "payoffs3 = [\n",
    "    [\n",
    "        [\n",
    "            [9, 0],\n",
    "            [0, 3]\n",
    "        ],\n",
    "        [\n",
    "            [0, 3],\n",
    "            [9, 0]\n",
    "        ]\n",
    "        ,\n",
    "        [\n",
    "            [-1, 1],\n",
    "            [2, 4]\n",
    "        ]\n",
    "    ],\n",
    "    [\n",
    "        [\n",
    "            [8, 0],\n",
    "            [0, 4],\n",
    "            [2, 3]\n",
    "        ],\n",
    "        [\n",
    "            [0, 4],\n",
    "            [8, 0],\n",
    "            [5, 7]\n",
    "        ]\n",
    "    ],\n",
    "    [\n",
    "        [\n",
    "            [12, 0],\n",
    "            [0, 2],\n",
    "            [1, 1]\n",
    "        ],\n",
    "        [\n",
    "            [0, 6],\n",
    "            [6, 0],\n",
    "            [2, 3]\n",
    "        ]\n",
    "    ]\n",
    "]\n",
    "\n",
    "game3 = create_n_player_game(payoffs3)\n",
    "game3.num_players, game3.num_strategies#, game3.payoffs"
   ]
  },
  {
   "cell_type": "code",
   "execution_count": 50,
   "id": "3c3c0842-ab14-4f2b-90a1-352416cb43ce",
   "metadata": {},
   "outputs": [
    {
     "data": {
      "text/plain": [
       "(4, [2, 2, 2, 2])"
      ]
     },
     "execution_count": 50,
     "metadata": {},
     "output_type": "execute_result"
    }
   ],
   "source": [
    "payoffs4 = [\n",
    "    [\n",
    "        [[[1, 2], [3, 4]], [[5, 6], [7, 8]]],\n",
    "        [[[9, 10], [11, 12]], [[13, 14], [15, 16]]]\n",
    "    ],\n",
    "    [\n",
    "        [[[17, 18], [19, 20]], [[21, 22], [23, 24]]],\n",
    "        [[[25, 26], [27, 28]], [[29, 30], [31, 32]]]\n",
    "    ],\n",
    "    [\n",
    "        [[[33, 34], [35, 36]], [[37, 38], [39, 40]]],\n",
    "        [[[41, 42], [43, 44]], [[45, 46], [47, 48]]]\n",
    "    ],\n",
    "    [\n",
    "        [[[49, 50], [51, 52]], [[53, 54], [55, 56]]],\n",
    "        [[[57, 58], [59, 60]], [[61, 62], [63, 64]]]\n",
    "    ]\n",
    "]\n",
    "game4 = create_n_player_game(payoffs4)\n",
    "game4.num_players, game4.num_strategies#, game4.payoffs"
   ]
  },
  {
   "attachments": {},
   "cell_type": "markdown",
   "id": "1e48b768-6b19-433e-8716-a82fa213b231",
   "metadata": {
    "tags": []
   },
   "source": [
    "# Functions for finidng all Nash equilibria with full support in a game"
   ]
  },
  {
   "cell_type": "code",
   "execution_count": 51,
   "id": "4408125f-bade-417a-804c-8ad572c59ce0",
   "metadata": {},
   "outputs": [],
   "source": [
    "def calculate_expected_payoff_diff_equations(game, probabilities):\n",
    "    n = game.num_players\n",
    "\n",
    "    def expected_payoff(player, strategy):\n",
    "        s = game.num_strategies[player]\n",
    "        payoff = 0\n",
    "\n",
    "        # Create a modified list of strategy ranges, replacing the player's strategy range with [strategy]\n",
    "        strategy_ranges = [range(game.num_strategies[p]) if p != player else [strategy] for p in range(n)]\n",
    "        for indices in itertools.product(*strategy_ranges):\n",
    "            probability_combination = [probabilities[p][indices[p]] if p != player else 1 for p in range(n)]\n",
    "            payoff_value = game.payoffs[player][strategy]\n",
    "            for i, index in enumerate(indices):\n",
    "                if i != player:\n",
    "                    payoff_value = payoff_value[index]\n",
    "            payoff_term = payoff_value * sp.prod(probability_combination)\n",
    "\n",
    "            payoff += payoff_term\n",
    "        return payoff\n",
    "\n",
    "    payoff_differences_equations = []\n",
    "    for player in range(n):\n",
    "        player_payoff_diff = []\n",
    "        for strategy in range(game.num_strategies[player]-1):\n",
    "            diff = expected_payoff(player, strategy) - expected_payoff(player, game.num_strategies[player]-1)\n",
    "            player_payoff_diff.append(diff)\n",
    "        payoff_differences_equations.append(player_payoff_diff)\n",
    "\n",
    "    # Flatten the list of lists\n",
    "    flat_payoff_differences_equations = [diff for sublist in payoff_differences_equations for diff in sublist]\n",
    "\n",
    "    return flat_payoff_differences_equations"
   ]
  },
  {
   "cell_type": "code",
   "execution_count": 52,
   "id": "74c68527-2ad4-4f69-a135-dee98e2e856c",
   "metadata": {},
   "outputs": [],
   "source": [
    "def calculate_payoff_diff_and_prob_sum_equations(game):\n",
    "    n = game.num_players\n",
    "    # Create symbolic probability variables\n",
    "    probabilities = [[sp.Symbol(f'p{i+1}{j+1}') for j in range(game.num_strategies[i])] for i in range(n)]\n",
    "\n",
    "    # Collect the equations in a list\n",
    "    equations = []\n",
    "    for player_payoff_diff in calculate_expected_payoff_diff_equations(game, probabilities):\n",
    "        equations.append(sp.poly(player_payoff_diff , *[p for player_probs in probabilities for p in player_probs]))\n",
    "\n",
    "    for player_probs in probabilities:\n",
    "        prob_sum_eq = sum(player_probs) - 1\n",
    "        equations.append(sp.poly(prob_sum_eq, *[p for player_probs in probabilities for p in player_probs]))\n",
    "\n",
    "\n",
    "    return equations"
   ]
  },
  {
   "cell_type": "code",
   "execution_count": 53,
   "id": "2016c5c2-e0eb-41aa-a5b6-220828c8322a",
   "metadata": {},
   "outputs": [],
   "source": [
    "def nash_solver(game, tol):\n",
    "    D = sum(game.num_strategies)\n",
    "    pol = pypolsys.utils.fromSympy(calculate_payoff_diff_and_prob_sum_equations(game))\n",
    "    pypolsys.polsys.init_poly(*pol)\n",
    "    part = pypolsys.utils.make_h_part(D)\n",
    "    pypolsys.polsys.init_partition(*part)\n",
    "    bplp = pypolsys.polsys.solve(1e-8, 1e-15, 0.0)\n",
    "    r = pypolsys.polsys.myroots\n",
    "    def remove_near_zero_complex(array, tol):\n",
    "        # Check if the imaginary or real part of any element in a row is close to zero\n",
    "        is_complex_close_to_zero = lambda row: any(x.real < tol or abs(x.imag) > tol for x in row)\n",
    "    \n",
    "        # Create a mask to filter out rows with complex elements close to zero\n",
    "        mask = np.array([not is_complex_close_to_zero(row) for row in array])\n",
    "    \n",
    "        # Return the real parts of the filtered array\n",
    "        return np.real(array[mask])\n",
    "    \n",
    "    def subset_list(input_list, lengths):\n",
    "        sublists = []\n",
    "        start = 0\n",
    "\n",
    "        for length in lengths:\n",
    "            sublists.append(input_list[start:start + length])\n",
    "            start += length\n",
    "\n",
    "        return sublists\n",
    "    \n",
    "    ok_sol = remove_near_zero_complex(r[:D,:].transpose(), tol)\n",
    "    output = []\n",
    "    for sol in ok_sol:\n",
    "        output.append(subset_list(sol, game.num_strategies))        \n",
    "    \n",
    "    return output"
   ]
  },
  {
   "attachments": {},
   "cell_type": "markdown",
   "id": "762b325e-2a82-4ec4-9080-11f27a49e577",
   "metadata": {
    "tags": []
   },
   "source": [
    "# Functions for generating block games in right order"
   ]
  },
  {
   "cell_type": "code",
   "execution_count": 54,
   "id": "59e11b46-fb0f-4840-be31-13583f0f5c4b",
   "metadata": {},
   "outputs": [],
   "source": [
    "def powerset(iterable):\n",
    "    s = list(iterable)\n",
    "    return chain.from_iterable(combinations(s, r) for r in range(1, len(s) + 1))"
   ]
  },
  {
   "cell_type": "code",
   "execution_count": 55,
   "id": "d749d2e0-5b8a-4c24-bd21-9e942315860d",
   "metadata": {},
   "outputs": [],
   "source": [
    "def potential_support_pairs(game):\n",
    "    num_strategies = game.num_strategies\n",
    "    support_sets = [sorted(list(powerset(range(num))), key=lambda x: (len(x), x)) for num in num_strategies]\n",
    "\n",
    "    combined_supports_list = list(product(*support_sets))\n",
    "    sorted_combined_supports_list = sorted(combined_supports_list, key=lambda x: (sum(len(y) for y in x), max(len(y) for y in x) - min(len(y) for y in x), x))\n",
    "\n",
    "    for sorted_combined_supports in sorted_combined_supports_list:\n",
    "        yield sorted_combined_supports"
   ]
  },
  {
   "cell_type": "code",
   "execution_count": 56,
   "id": "86ac44ea-977f-46d0-a74b-9a6906244d2d",
   "metadata": {},
   "outputs": [],
   "source": [
    "def payoff_player(payoff, indices):\n",
    "    #print(\"Payoffs:\", payoff, \"Indices:\", indices)\n",
    "    indices = list(indices)\n",
    "    index = indices.pop(0)\n",
    "    t_payoff = [payoff[i] for i in index]\n",
    "    for i, pay in enumerate(t_payoff):\n",
    "        if len(indices)>0:\n",
    "            pay_1 = payoff_player(pay, indices)\n",
    "            t_payoff[i] = pay_1\n",
    "        else:\n",
    "            t_payoff[i] = pay\n",
    "    return t_payoff"
   ]
  },
  {
   "cell_type": "code",
   "execution_count": 57,
   "id": "27395a4b-81cb-4481-9001-67756cf90daf",
   "metadata": {},
   "outputs": [],
   "source": [
    "def block_game(payoffs, indices):\n",
    "    block = []\n",
    "    for p, payoff in enumerate(payoffs):\n",
    "        index =  [*indices]\n",
    "        index.pop(p)\n",
    "        indexes = tuple([indices[p], *index])\n",
    "        block_n = payoff_player(payoff, indexes)\n",
    "        block.append(block_n)\n",
    "    return block"
   ]
  },
  {
   "attachments": {},
   "cell_type": "markdown",
   "id": "ff4db596-12e4-4f74-a6c0-cb685c9cd948",
   "metadata": {
    "tags": []
   },
   "source": [
    "# Functions for determing whether a pure strategy is conditionally dominated"
   ]
  },
  {
   "cell_type": "code",
   "execution_count": 58,
   "id": "6f86c422-7bef-4681-aa37-849485b12647",
   "metadata": {
    "tags": []
   },
   "outputs": [],
   "source": [
    "def is_strategy_strictly_dominated(payoffs, player, strategy):\n",
    "    num_players = len(payoffs)\n",
    "    num_strategies = [len(payoffs[i]) for i in range(num_players)]\n",
    "    other_strategies = [i for i in range(num_strategies[player]) if i != strategy]\n",
    "\n",
    "    def get_payoff(payoffs, indices, player, strategy):\n",
    "        payoff = payoffs[player][strategy]\n",
    "        for i, index in enumerate(indices):\n",
    "            if i != player:\n",
    "                payoff = payoff[index]\n",
    "        return payoff\n",
    "    \n",
    "    for other_strategy in other_strategies:\n",
    "        temp = 0\n",
    "        temp2 = 0\n",
    "        for indices in itertools.product(*[range(num_strategies[p]) if p != player else other_strategies for p in range(num_players)]):\n",
    "            temp2 += 1\n",
    "            payoff_current_strategy = get_payoff(payoffs, indices, player, strategy)\n",
    "\n",
    "            payoff_other_strategy = get_payoff(payoffs, indices, player, other_strategy)\n",
    "            \n",
    "            if payoff_current_strategy > payoff_other_strategy:\n",
    "                break\n",
    "            else:\n",
    "                temp += 1\n",
    "        if temp == temp2: return True\n",
    "            \n",
    "    return False\n"
   ]
  },
  {
   "cell_type": "code",
   "execution_count": 59,
   "id": "a1369409-d4ec-4e28-9a04-af9b54b59c7f",
   "metadata": {},
   "outputs": [],
   "source": [
    "def admissible_block(payoffs):\n",
    "    num_players = len(payoffs)\n",
    "    num_strategies = [len(payoffs[i]) for i in range(num_players)]\n",
    "    for p in range(num_players):\n",
    "        for s in range(num_strategies[p]):\n",
    "            if is_strategy_strictly_dominated(payoffs, p, s):\n",
    "                return False\n",
    "    return True"
   ]
  },
  {
   "attachments": {},
   "cell_type": "markdown",
   "id": "8271a8cb-2861-4fa0-9ee7-008cd32aa18b",
   "metadata": {
    "tags": []
   },
   "source": [
    "# Functions to check whether a completely mixed Nash equilibrium of block game is Nash in larger game"
   ]
  },
  {
   "cell_type": "code",
   "execution_count": 60,
   "id": "74f0d2a8-094c-481b-82e4-61007843713f",
   "metadata": {},
   "outputs": [],
   "source": [
    "num_players = len(payoffs21)\n",
    "num_strategies = [len(payoffs21[i]) for i in range(num_players)]\n",
    "probabilities = [[sp.Symbol(f'p{i+1}{j+1}') for j in range(num_strategies[i])] for i in range(num_players)]\n",
    "\n",
    "def expected_payoff(player, strategy):\n",
    "\n",
    "    payoff = 0\n",
    "\n",
    "    # Create a modified list of strategy ranges, replacing the player's strategy range with [strategy]\n",
    "    strategy_ranges = [range(num_strategies[p]) if p != player else [strategy] for p in range(num_players)]\n",
    "    for indices in itertools.product(*strategy_ranges):\n",
    "        probability_combination = [probabilities[p][indices[p]] if p != player else 1 for p in range(num_players)]\n",
    "        payoff_value = payoffs21[player][strategy]\n",
    "\n",
    "        for i, index in enumerate(indices):\n",
    "            if i != player:\n",
    "                payoff_value = payoff_value[index]     \n",
    "        payoff_term = payoff_value * sp.prod(probability_combination)\n",
    "\n",
    "        payoff += payoff_term\n",
    "    return payoff"
   ]
  },
  {
   "cell_type": "code",
   "execution_count": 61,
   "id": "0b3f4882-88b2-4cdd-8e87-f2911fc72c9d",
   "metadata": {},
   "outputs": [],
   "source": [
    "def is_strategy_better(payoffs, mixed_strategy_profile, player, new_strategy):\n",
    "    num_players = len(payoffs)\n",
    "    num_strategies = [len(payoffs[i]) for i in range(num_players)]\n",
    "    # Create symbolic probability variables\n",
    "    probabilities = [[sp.Symbol(f'p{i+1}{j+1}') for j in range(num_strategies[i])] for i in range(num_players)]\n",
    "    \n",
    "    def expected_payoff(player, strategy):\n",
    "\n",
    "        payoff = 0\n",
    "\n",
    "        # Create a modified list of strategy ranges, replacing the player's strategy range with [strategy]\n",
    "        strategy_ranges = [range(num_strategies[p]) if p != player else [strategy] for p in range(num_players)]\n",
    "        for indices in itertools.product(*strategy_ranges):\n",
    "            probability_combination = [probabilities[p][indices[p]] if p != player else 1 for p in range(num_players)]\n",
    "            payoff_value = payoffs[player][strategy]\n",
    "            for i, index in enumerate(indices):\n",
    "                if i != player:\n",
    "                    payoff_value = payoff_value[index]\n",
    "            payoff_term = payoff_value * sp.prod(probability_combination)\n",
    "\n",
    "            payoff += payoff_term\n",
    "        return payoff\n",
    "\n",
    "    def expected_payoff_from_mixed_strategy(player):\n",
    "        total_payoff = 0\n",
    "        for strategy in range(num_strategies[player]):\n",
    "            total_payoff += probabilities[player][strategy] * expected_payoff(player, strategy)\n",
    "        return total_payoff\n",
    "\n",
    "    # Calculate the current expected payoff\n",
    "    current_expected_payoff = expected_payoff_from_mixed_strategy(player)\n",
    "    potential_expected_payoff = expected_payoff(player, new_strategy)\n",
    "    for p in range(num_players):\n",
    "        current_expected_payoff = current_expected_payoff.subs([(probabilities[p][i], mixed_strategy_profile[p][i]) for i in range(num_strategies[p])])\n",
    "    # Calculate the expected payoff if the player switches to the new strategy\n",
    "        potential_expected_payoff = potential_expected_payoff.subs([(probabilities[p][i], mixed_strategy_profile[p][i]) for i in range(num_strategies[p])])\n",
    "    # Check if the new strategy is better\n",
    "    return potential_expected_payoff > current_expected_payoff"
   ]
  },
  {
   "cell_type": "code",
   "execution_count": 62,
   "id": "e303e387-c044-4814-aa13-5815a261ccd3",
   "metadata": {},
   "outputs": [],
   "source": [
    "def stra_em(ne_cand, block_index, index):\n",
    "    full_sp = [\n",
    "        [ne_cand[p][block_index[p].index(s)] if s in block_index[p] else 0 for s in index[p]]\n",
    "        for p in range(len(index))\n",
    "    ]\n",
    "    return full_sp"
   ]
  },
  {
   "attachments": {},
   "cell_type": "markdown",
   "id": "844f459c-a5da-4a52-ae8f-a036e81e1c08",
   "metadata": {
    "tags": []
   },
   "source": [
    "# Nash equilibrium solver"
   ]
  },
  {
   "cell_type": "code",
   "execution_count": 64,
   "id": "dbc2aef4-1461-45ff-8446-ccc06b387b15",
   "metadata": {},
   "outputs": [],
   "source": [
    "def ne_solver(game): #, index = False\n",
    "    result = []\n",
    "\n",
    "    for indices in potential_support_pairs(game):\n",
    "        block = block_game(game.payoffs, indices)\n",
    "        bg = create_n_player_game(block)\n",
    "\n",
    "        skip_indices = False\n",
    "        for p in range(game.num_players):\n",
    "            if skip_indices:\n",
    "                break\n",
    "            for s in range(bg.num_strategies[p]):\n",
    "                if is_strategy_strictly_dominated(bg.payoffs, p, s):\n",
    "                    skip_indices = True\n",
    "                    break\n",
    "                    \n",
    "        skip_eq = False\n",
    "        pot_sol = nash_solver(bg, 1e-6)\n",
    "        \n",
    "        for sol in pot_sol:\n",
    "            m_sp = stra_em(sol, indices, game.index)           \n",
    "            for p in range(game.num_players):\n",
    "                if skip_eq:\n",
    "                    break\n",
    "                for s in set(game.index[p]).difference(set(indices[p])):\n",
    "                    if is_strategy_better(game.payoffs, m_sp, p ,s):\n",
    "                        skip_eq = True\n",
    "                        break\n",
    "            if skip_eq:\n",
    "                break\n",
    "            result.append(m_sp)\n",
    "\n",
    "    return result"
   ]
  },
  {
   "attachments": {},
   "cell_type": "markdown",
   "id": "e5ba1142-efee-4e27-b532-5ee568ef2f05",
   "metadata": {
    "tags": []
   },
   "source": [
    "# Functions for calculating index of Nash equilibria in generic game"
   ]
  },
  {
   "cell_type": "code",
   "execution_count": 63,
   "id": "b6dd5012-712a-4731-9fc3-16e4eed5d117",
   "metadata": {},
   "outputs": [],
   "source": [
    "def calculate_expected_payoff_diff_equations_fj(game):\n",
    "    n = game.num_players\n",
    "    # Create symbolic probability variables\n",
    "    probabilities = [[sp.Symbol(f'p{i+1}{j+1}') for j in range(game.num_strategies[i])] for i in range(n)]\n",
    "\n",
    "    def expected_payoff(player, strategy):\n",
    "        s = game.num_strategies[player]\n",
    "        payoff = 0\n",
    "\n",
    "        # Create a modified list of strategy ranges, replacing the player's strategy range with [strategy]\n",
    "        strategy_ranges = [range(game.num_strategies[p]) if p != player else [strategy] for p in range(n)]\n",
    "        for indices in itertools.product(*strategy_ranges):\n",
    "            probability_combination = [probabilities[p][indices[p]] if p != player else 1 for p in range(n)]\n",
    "            payoff_value = game.payoffs[player][strategy]\n",
    "            for i, index in enumerate(indices):\n",
    "                if i != player:\n",
    "                    payoff_value = payoff_value[index]\n",
    "            payoff_term = payoff_value * sp.prod(probability_combination)\n",
    "\n",
    "            payoff += payoff_term\n",
    "        return payoff\n",
    "\n",
    "    def expected_payoff_from_mixed_strategy(player):\n",
    "        s = game.num_strategies[player]\n",
    "        total_payoff = 0\n",
    "        for strategy in range(s):\n",
    "            total_payoff += probabilities[player][strategy] * expected_payoff(player, strategy)\n",
    "        return total_payoff\n",
    "\n",
    "    payoff_differences_equations = []\n",
    "    for player in range(n):\n",
    "        player_payoff_diff = []\n",
    "        for strategy in range(game.num_strategies[player]):\n",
    "            diff = probabilities[player][strategy] * (expected_payoff(player, strategy) - expected_payoff_from_mixed_strategy(player))\n",
    "            player_payoff_diff.append(diff)\n",
    "        payoff_differences_equations.append(player_payoff_diff)\n",
    "\n",
    "    # Flatten the list of lists\n",
    "    flat_payoff_differences_equations = [diff for sublist in payoff_differences_equations for diff in sublist]\n",
    "\n",
    "    return flat_payoff_differences_equations"
   ]
  },
  {
   "cell_type": "code",
   "execution_count": 65,
   "id": "820a1290-0885-4669-a3fe-e6c1ba86d8c1",
   "metadata": {},
   "outputs": [],
   "source": [
    "def calculate_index(game, mix_sp):\n",
    "    # Get the flattened payoff difference equations\n",
    "    payoff_differences_equations = calculate_expected_payoff_diff_equations_fj(game)\n",
    "    \n",
    "    n = game.num_players\n",
    "    probabilities = [[sp.Symbol(f'p{i+1}{j+1}') for j in range(game.num_strategies[i])] for i in range(n)]\n",
    "\n",
    "    # Flatten the list of probability variables\n",
    "    flat_probabilities = [p for sublist in probabilities for p in sublist]\n",
    "\n",
    "    # Calculate the Jacobian\n",
    "    jacobian_matrix = sp.Matrix(payoff_differences_equations).jacobian(flat_probabilities)\n",
    "    for p in range(n):\n",
    "        jacobian_matrix = jacobian_matrix.subs([(probabilities[p][i], mix_sp[p][i]) for i in range(game.num_strategies[p])])\n",
    "    output = np.array(jacobian_matrix).astype(np.float64)\n",
    "    return np.sign((-1)**(sum(game.num_strategies))) * np.sign(np.linalg.det(output))"
   ]
  },
  {
   "cell_type": "code",
   "execution_count": 66,
   "id": "6bbaf977-c8a6-4bad-b5b6-a53f75048dae",
   "metadata": {},
   "outputs": [],
   "source": [
    "def rounder(sol, digit):\n",
    "    return [np.round(np.array(sublist).astype(np.float64), digit) for sublist in sol]"
   ]
  },
  {
   "cell_type": "code",
   "execution_count": 67,
   "id": "e719a236-6203-4af9-bf77-657cd9e63082",
   "metadata": {},
   "outputs": [
    {
     "name": "stdout",
     "output_type": "stream",
     "text": [
      "NE: [array([1., 0., 0.]), array([1., 0.])] Index: 1.0\n",
      "NE: [array([0., 1., 0.]), array([0., 1.])] Index: 1.0\n",
      "NE: [array([0.5, 0.5, 0. ]), array([0.5, 0.5])] Index: -1.0\n"
     ]
    }
   ],
   "source": [
    "for sol in ne_solver(game22):\n",
    "    index = calculate_index(game22, sol)\n",
    "    print(\"NE:\", rounder(sol,3), \"Index:\", index)"
   ]
  },
  {
   "attachments": {},
   "cell_type": "markdown",
   "id": "1a095d42-7d59-4469-97be-2ca504f29cca",
   "metadata": {
    "tags": []
   },
   "source": [
    "# Functions for finding minimal game blocks"
   ]
  },
  {
   "cell_type": "code",
   "execution_count": 68,
   "id": "8da37290-d8f5-47bd-ab64-6b56491e2efc",
   "metadata": {},
   "outputs": [],
   "source": [
    "def are_nested_indices(index_set1, index_set2):\n",
    "    for set1, set2 in zip(index_set1, index_set2):\n",
    "        if not set(set1).issubset(set2):\n",
    "            return False\n",
    "    return True"
   ]
  },
  {
   "cell_type": "code",
   "execution_count": 82,
   "id": "f50eb4f8-1f88-4e9b-a6c6-2f29bfeca518",
   "metadata": {},
   "outputs": [],
   "source": [
    "def min_game_blocks(game):\n",
    "    \n",
    "    min_gbs = []\n",
    "    \n",
    "    solid_outcomes = []\n",
    "    \n",
    "    bg_ne_index = []\n",
    "    \n",
    "    def ne_index(pot_sol):\n",
    "        \n",
    "        ne_and_index = []\n",
    "        skip_eq = False\n",
    "        \n",
    "        for sol in pot_sol:\n",
    "            m_sp = stra_em(sol, indices, game.index)           \n",
    "            for p in range(game.num_players):\n",
    "                if skip_eq:\n",
    "                    break\n",
    "                for s in set(game.index[p]).difference(set(indices[p])):\n",
    "                    if is_strategy_better(game.payoffs, m_sp, p ,s):\n",
    "                        skip_eq = True\n",
    "                        break\n",
    "            if skip_eq:\n",
    "                break\n",
    "            index = calculate_index(game,m_sp)\n",
    "            ne_and_index.append([rounder(m_sp,3), index])\n",
    "                \n",
    "        return ne_and_index\n",
    "        \n",
    "    for indices in potential_support_pairs(game):\n",
    "        \n",
    "        block = block_game(game.payoffs, indices)\n",
    "        bg = create_n_player_game(block)\n",
    "        \n",
    "        nmgb = False\n",
    "        \n",
    "        for mgb in min_gbs:\n",
    "            if are_nested_indices(mgb,indices):\n",
    "                nmgb = True\n",
    "                break\n",
    "        if nmgb:\n",
    "            continue\n",
    "            \n",
    "        skip_indices = False\n",
    "\n",
    "        for p in range(game.num_players):\n",
    "            if skip_indices:\n",
    "                break\n",
    "            for s in range(bg.num_strategies[p]):\n",
    "                if is_strategy_strictly_dominated(bg.payoffs, p, s):\n",
    "                    skip_indices = True\n",
    "                    break\n",
    "        if skip_indices:\n",
    "            continue\n",
    "            \n",
    "        pot_sol = nash_solver(bg, 1e-6)\n",
    "        nei = ne_index(pot_sol)\n",
    "        if nei:\n",
    "            bg_ne_index.append([indices, nei])\n",
    "        \n",
    "        index_counter = 0\n",
    "\n",
    "        block_list = [bg[1] for bg in bg_ne_index if are_nested_indices(bg[0], indices)]     \n",
    "        for i in block_list:\n",
    "            index_counter += sum([nei[1] for nei in i])\n",
    "        if index_counter == 1:\n",
    "            min_gbs.append(indices)\n",
    "            solid_outcomes.append(block_list)\n",
    "    return zip(min_gbs,solid_outcomes)"
   ]
  },
  {
   "cell_type": "code",
   "execution_count": 70,
   "id": "ba408534-2735-446c-aabf-d8f0852e328c",
   "metadata": {},
   "outputs": [
    {
     "name": "stdout",
     "output_type": "stream",
     "text": [
      "(((0,), (0,), (0,)), [[[[array([1., 0.]), array([1., 0.]), array([1., 0.])], 1.0]]])\n",
      "(((0,), (1,), (1,)), [[[[array([1., 0.]), array([0., 1.]), array([0., 1.])], 1.0]]])\n",
      "(((1,), (0,), (1,)), [[[[array([0., 1.]), array([1., 0.]), array([0., 1.])], 1.0]]])\n",
      "(((1,), (1,), (0,)), [[[[array([0., 1.]), array([0., 1.]), array([1., 0.])], 1.0]]])\n"
     ]
    }
   ],
   "source": [
    "for mgb in min_game_blocks(game):\n",
    "    print(mgb)"
   ]
  },
  {
   "cell_type": "code",
   "execution_count": 71,
   "id": "c04ecadd-8930-47a3-af2d-32429b2efd65",
   "metadata": {},
   "outputs": [],
   "source": [
    "def generate_payoffs(num_strategies):\n",
    "    payoffs = []\n",
    "    num_players = len(num_strategies)\n",
    "    # Generate payoffs for each player\n",
    "    for player in range(num_players):\n",
    "        player_payoffs = []\n",
    "\n",
    "        # Generate payoffs for each strategy combination\n",
    "        strategy_combinations = np.product(num_strategies)\n",
    "        player_payoffs = np.random.rand(strategy_combinations).reshape(*num_strategies).tolist()\n",
    "\n",
    "        # Assign payoffs to the player\n",
    "        payoffs.append(player_payoffs)\n",
    "\n",
    "    return payoffs"
   ]
  },
  {
   "cell_type": "code",
   "execution_count": 75,
   "id": "81df85ff-5178-4d8c-9372-9dc4a96df107",
   "metadata": {},
   "outputs": [],
   "source": [
    "random_payoffs= generate_payoffs([4,4,4])"
   ]
  },
  {
   "cell_type": "code",
   "execution_count": 76,
   "id": "9044fe32-22f4-4a4b-beab-3be66e6329be",
   "metadata": {},
   "outputs": [
    {
     "name": "stdout",
     "output_type": "stream",
     "text": [
      "(((0, 1), (0,), (1, 3)), [[[[array([0.79, 0.21, 0.  , 0.  ]), array([1., 0., 0., 0.]), array([0.   , 0.643, 0.   , 0.357])], 1.0]]])\n",
      "(((0, 3), (2, 3), (1,)), [[[[array([0.214, 0.   , 0.   , 0.786]), array([0.   , 0.   , 0.443, 0.557]), array([0., 1., 0., 0.])], 1.0]]])\n",
      "(((1,), (0, 1), (1, 2)), [[[[array([0., 1., 0., 0.]), array([0.473, 0.527, 0.   , 0.   ]), array([0.   , 0.111, 0.889, 0.   ])], 1.0]]])\n",
      "(((2,), (1, 2), (0, 3)), [[[[array([0., 0., 1., 0.]), array([0.   , 0.378, 0.622, 0.   ]), array([0.037, 0.   , 0.   , 0.963])], 1.0]]])\n",
      "(((3,), (2, 3), (1, 2)), [[[[array([0., 0., 0., 1.]), array([0.   , 0.   , 0.432, 0.568]), array([0.   , 0.012, 0.988, 0.   ])], 1.0]]])\n"
     ]
    }
   ],
   "source": [
    "random_game = create_n_player_game(random_payoffs)\n",
    "for mgb in min_game_blocks(random_game):\n",
    "    print(mgb)"
   ]
  },
  {
   "cell_type": "code",
   "execution_count": 85,
   "id": "188a284e-030a-45d5-92ba-068cbe41e83a",
   "metadata": {},
   "outputs": [
    {
     "ename": "KeyboardInterrupt",
     "evalue": "",
     "output_type": "error",
     "traceback": [
      "\u001b[0;31m---------------------------------------------------------------------------\u001b[0m",
      "\u001b[0;31mKeyboardInterrupt\u001b[0m                         Traceback (most recent call last)",
      "Cell \u001b[0;32mIn[85], line 10\u001b[0m\n\u001b[1;32m      8\u001b[0m random_payoffs\u001b[39m=\u001b[39m generate_payoffs([\u001b[39m4\u001b[39m,\u001b[39m4\u001b[39m,\u001b[39m4\u001b[39m,\u001b[39m4\u001b[39m])\n\u001b[1;32m      9\u001b[0m random_game \u001b[39m=\u001b[39m create_n_player_game(random_payoffs)\n\u001b[0;32m---> 10\u001b[0m \u001b[39mfor\u001b[39;00m mgb \u001b[39min\u001b[39;00m min_game_blocks(random_game):\n\u001b[1;32m     11\u001b[0m     n_ne \u001b[39m+\u001b[39m\u001b[39m=\u001b[39m  \u001b[39mlen\u001b[39m(mgb[\u001b[39m1\u001b[39m])\n\u001b[1;32m     12\u001b[0m     current_ne \u001b[39m+\u001b[39m\u001b[39m=\u001b[39m \u001b[39mlen\u001b[39m(mgb[\u001b[39m1\u001b[39m])\n",
      "Cell \u001b[0;32mIn[82], line 30\u001b[0m, in \u001b[0;36mmin_game_blocks\u001b[0;34m(game)\u001b[0m\n\u001b[1;32m     26\u001b[0m         ne_and_index\u001b[39m.\u001b[39mappend([rounder(m_sp,\u001b[39m3\u001b[39m), index])\n\u001b[1;32m     28\u001b[0m     \u001b[39mreturn\u001b[39;00m ne_and_index\n\u001b[0;32m---> 30\u001b[0m \u001b[39mfor\u001b[39;00m indices \u001b[39min\u001b[39;00m potential_support_pairs(game):\n\u001b[1;32m     32\u001b[0m     block \u001b[39m=\u001b[39m block_game(game\u001b[39m.\u001b[39mpayoffs, indices)\n\u001b[1;32m     33\u001b[0m     bg \u001b[39m=\u001b[39m create_n_player_game(block)\n",
      "Cell \u001b[0;32mIn[55], line 6\u001b[0m, in \u001b[0;36mpotential_support_pairs\u001b[0;34m(game)\u001b[0m\n\u001b[1;32m      3\u001b[0m support_sets \u001b[39m=\u001b[39m [\u001b[39msorted\u001b[39m(\u001b[39mlist\u001b[39m(powerset(\u001b[39mrange\u001b[39m(num))), key\u001b[39m=\u001b[39m\u001b[39mlambda\u001b[39;00m x: (\u001b[39mlen\u001b[39m(x), x)) \u001b[39mfor\u001b[39;00m num \u001b[39min\u001b[39;00m num_strategies]\n\u001b[1;32m      5\u001b[0m combined_supports_list \u001b[39m=\u001b[39m \u001b[39mlist\u001b[39m(product(\u001b[39m*\u001b[39msupport_sets))\n\u001b[0;32m----> 6\u001b[0m sorted_combined_supports_list \u001b[39m=\u001b[39m \u001b[39msorted\u001b[39;49m(combined_supports_list, key\u001b[39m=\u001b[39;49m\u001b[39mlambda\u001b[39;49;00m x: (\u001b[39msum\u001b[39;49m(\u001b[39mlen\u001b[39;49m(y) \u001b[39mfor\u001b[39;49;00m y \u001b[39min\u001b[39;49;00m x), \u001b[39mmax\u001b[39;49m(\u001b[39mlen\u001b[39;49m(y) \u001b[39mfor\u001b[39;49;00m y \u001b[39min\u001b[39;49;00m x) \u001b[39m-\u001b[39;49m \u001b[39mmin\u001b[39;49m(\u001b[39mlen\u001b[39;49m(y) \u001b[39mfor\u001b[39;49;00m y \u001b[39min\u001b[39;49;00m x), x))\n\u001b[1;32m      8\u001b[0m \u001b[39mfor\u001b[39;00m sorted_combined_supports \u001b[39min\u001b[39;00m sorted_combined_supports_list:\n\u001b[1;32m      9\u001b[0m     \u001b[39myield\u001b[39;00m sorted_combined_supports\n",
      "Cell \u001b[0;32mIn[55], line 6\u001b[0m, in \u001b[0;36mpotential_support_pairs.<locals>.<lambda>\u001b[0;34m(x)\u001b[0m\n\u001b[1;32m      3\u001b[0m support_sets \u001b[39m=\u001b[39m [\u001b[39msorted\u001b[39m(\u001b[39mlist\u001b[39m(powerset(\u001b[39mrange\u001b[39m(num))), key\u001b[39m=\u001b[39m\u001b[39mlambda\u001b[39;00m x: (\u001b[39mlen\u001b[39m(x), x)) \u001b[39mfor\u001b[39;00m num \u001b[39min\u001b[39;00m num_strategies]\n\u001b[1;32m      5\u001b[0m combined_supports_list \u001b[39m=\u001b[39m \u001b[39mlist\u001b[39m(product(\u001b[39m*\u001b[39msupport_sets))\n\u001b[0;32m----> 6\u001b[0m sorted_combined_supports_list \u001b[39m=\u001b[39m \u001b[39msorted\u001b[39m(combined_supports_list, key\u001b[39m=\u001b[39m\u001b[39mlambda\u001b[39;00m x: (\u001b[39msum\u001b[39m(\u001b[39mlen\u001b[39m(y) \u001b[39mfor\u001b[39;00m y \u001b[39min\u001b[39;00m x), \u001b[39mmax\u001b[39;49m(\u001b[39mlen\u001b[39;49m(y) \u001b[39mfor\u001b[39;49;00m y \u001b[39min\u001b[39;49;00m x) \u001b[39m-\u001b[39m \u001b[39mmin\u001b[39m(\u001b[39mlen\u001b[39m(y) \u001b[39mfor\u001b[39;00m y \u001b[39min\u001b[39;00m x), x))\n\u001b[1;32m      8\u001b[0m \u001b[39mfor\u001b[39;00m sorted_combined_supports \u001b[39min\u001b[39;00m sorted_combined_supports_list:\n\u001b[1;32m      9\u001b[0m     \u001b[39myield\u001b[39;00m sorted_combined_supports\n",
      "Cell \u001b[0;32mIn[55], line 6\u001b[0m, in \u001b[0;36m<genexpr>\u001b[0;34m(.0)\u001b[0m\n\u001b[1;32m      3\u001b[0m support_sets \u001b[39m=\u001b[39m [\u001b[39msorted\u001b[39m(\u001b[39mlist\u001b[39m(powerset(\u001b[39mrange\u001b[39m(num))), key\u001b[39m=\u001b[39m\u001b[39mlambda\u001b[39;00m x: (\u001b[39mlen\u001b[39m(x), x)) \u001b[39mfor\u001b[39;00m num \u001b[39min\u001b[39;00m num_strategies]\n\u001b[1;32m      5\u001b[0m combined_supports_list \u001b[39m=\u001b[39m \u001b[39mlist\u001b[39m(product(\u001b[39m*\u001b[39msupport_sets))\n\u001b[0;32m----> 6\u001b[0m sorted_combined_supports_list \u001b[39m=\u001b[39m \u001b[39msorted\u001b[39m(combined_supports_list, key\u001b[39m=\u001b[39m\u001b[39mlambda\u001b[39;00m x: (\u001b[39msum\u001b[39m(\u001b[39mlen\u001b[39m(y) \u001b[39mfor\u001b[39;00m y \u001b[39min\u001b[39;00m x), \u001b[39mmax\u001b[39m(\u001b[39mlen\u001b[39;49m(y) \u001b[39mfor\u001b[39;00m y \u001b[39min\u001b[39;00m x) \u001b[39m-\u001b[39m \u001b[39mmin\u001b[39m(\u001b[39mlen\u001b[39m(y) \u001b[39mfor\u001b[39;00m y \u001b[39min\u001b[39;00m x), x))\n\u001b[1;32m      8\u001b[0m \u001b[39mfor\u001b[39;00m sorted_combined_supports \u001b[39min\u001b[39;00m sorted_combined_supports_list:\n\u001b[1;32m      9\u001b[0m     \u001b[39myield\u001b[39;00m sorted_combined_supports\n",
      "\u001b[0;31mKeyboardInterrupt\u001b[0m: "
     ]
    }
   ],
   "source": [
    "n = 200\n",
    "\n",
    "n_ne = 0\n",
    "tic = time.perf_counter()\n",
    "list_ne = []\n",
    "for i in range(n):\n",
    "    current_ne = 0\n",
    "    random_payoffs= generate_payoffs([,4,4,4])\n",
    "    random_game = create_n_player_game(random_payoffs)\n",
    "    for mgb in min_game_blocks(random_game):\n",
    "        n_ne +=  len(mgb[1])\n",
    "        current_ne += len(mgb[1])\n",
    "    list_ne.append(current_ne)\n",
    "    if i%1==0:\n",
    "        toc = time.perf_counter()\n",
    "        print(np.round(toc -tic,1) , i / n, \"Nr SO:\", n_ne / (i+1), list_ne )\n",
    "        \n",
    "n_ne / n, list_ne"
   ]
  },
  {
   "cell_type": "code",
   "execution_count": 81,
   "id": "13ca1682-5468-4fcf-858f-6dff4abff906",
   "metadata": {},
   "outputs": [
    {
     "name": "stdout",
     "output_type": "stream",
     "text": [
      "4494.1 0.0 Nr SO: 7.0\n",
      "8123.9 0.005 Nr SO: 7.0\n",
      "12522.6 0.01 Nr SO: 7.333333333333333\n",
      "17384.9 0.015 Nr SO: 6.0\n",
      "21367.9 0.02 Nr SO: 5.8\n",
      "24788.3 0.025 Nr SO: 7.333333333333333\n",
      "26858.3 0.03 Nr SO: 9.285714285714286\n",
      "29621.5 0.035 Nr SO: 8.75\n",
      "31327.9 0.04 Nr SO: 8.555555555555555\n",
      "36797.9 0.045 Nr SO: 8.4\n"
     ]
    },
    {
     "ename": "KeyboardInterrupt",
     "evalue": "",
     "output_type": "error",
     "traceback": [
      "\u001b[0;31m---------------------------------------------------------------------------\u001b[0m",
      "\u001b[0;31mKeyboardInterrupt\u001b[0m                         Traceback (most recent call last)",
      "Cell \u001b[0;32mIn[81], line 8\u001b[0m\n\u001b[1;32m      6\u001b[0m random_payoffs\u001b[39m=\u001b[39m generate_payoffs([\u001b[39m5\u001b[39m,\u001b[39m5\u001b[39m,\u001b[39m5\u001b[39m])\n\u001b[1;32m      7\u001b[0m random_game \u001b[39m=\u001b[39m create_n_player_game(random_payoffs)\n\u001b[0;32m----> 8\u001b[0m \u001b[39mfor\u001b[39;00m mgb \u001b[39min\u001b[39;00m min_game_blocks(random_game):\n\u001b[1;32m      9\u001b[0m     n_ne \u001b[39m+\u001b[39m\u001b[39m=\u001b[39m  \u001b[39mlen\u001b[39m(mgb[\u001b[39m1\u001b[39m])\n\u001b[1;32m     10\u001b[0m toc \u001b[39m=\u001b[39m time\u001b[39m.\u001b[39mperf_counter()\n",
      "Cell \u001b[0;32mIn[69], line 57\u001b[0m, in \u001b[0;36mmin_game_blocks\u001b[0;34m(game)\u001b[0m\n\u001b[1;32m     54\u001b[0m     \u001b[39mcontinue\u001b[39;00m\n\u001b[1;32m     56\u001b[0m pot_sol \u001b[39m=\u001b[39m nash_solver(bg, \u001b[39m1e-6\u001b[39m)\n\u001b[0;32m---> 57\u001b[0m nei \u001b[39m=\u001b[39m ne_index(pot_sol)\n\u001b[1;32m     58\u001b[0m \u001b[39mif\u001b[39;00m nei:\n\u001b[1;32m     59\u001b[0m     bg_ne_index\u001b[39m.\u001b[39mappend([indices, nei])\n",
      "Cell \u001b[0;32mIn[69], line 20\u001b[0m, in \u001b[0;36mmin_game_blocks.<locals>.ne_index\u001b[0;34m(pot_sol)\u001b[0m\n\u001b[1;32m     18\u001b[0m     \u001b[39mbreak\u001b[39;00m\n\u001b[1;32m     19\u001b[0m \u001b[39mfor\u001b[39;00m s \u001b[39min\u001b[39;00m \u001b[39mset\u001b[39m(game\u001b[39m.\u001b[39mindex[p])\u001b[39m.\u001b[39mdifference(\u001b[39mset\u001b[39m(indices[p])):\n\u001b[0;32m---> 20\u001b[0m     \u001b[39mif\u001b[39;00m is_strategy_better(game\u001b[39m.\u001b[39;49mpayoffs, m_sp, p ,s):\n\u001b[1;32m     21\u001b[0m         skip_eq \u001b[39m=\u001b[39m \u001b[39mTrue\u001b[39;00m\n\u001b[1;32m     22\u001b[0m         \u001b[39mbreak\u001b[39;00m\n",
      "Cell \u001b[0;32mIn[61], line 36\u001b[0m, in \u001b[0;36mis_strategy_better\u001b[0;34m(payoffs, mixed_strategy_profile, player, new_strategy)\u001b[0m\n\u001b[1;32m     34\u001b[0m     current_expected_payoff \u001b[39m=\u001b[39m current_expected_payoff\u001b[39m.\u001b[39msubs([(probabilities[p][i], mixed_strategy_profile[p][i]) \u001b[39mfor\u001b[39;00m i \u001b[39min\u001b[39;00m \u001b[39mrange\u001b[39m(num_strategies[p])])\n\u001b[1;32m     35\u001b[0m \u001b[39m# Calculate the expected payoff if the player switches to the new strategy\u001b[39;00m\n\u001b[0;32m---> 36\u001b[0m     potential_expected_payoff \u001b[39m=\u001b[39m potential_expected_payoff\u001b[39m.\u001b[39;49msubs([(probabilities[p][i], mixed_strategy_profile[p][i]) \u001b[39mfor\u001b[39;49;00m i \u001b[39min\u001b[39;49;00m \u001b[39mrange\u001b[39;49m(num_strategies[p])])\n\u001b[1;32m     37\u001b[0m \u001b[39m# Check if the new strategy is better\u001b[39;00m\n\u001b[1;32m     38\u001b[0m \u001b[39mreturn\u001b[39;00m potential_expected_payoff \u001b[39m>\u001b[39m current_expected_payoff\n",
      "File \u001b[0;32m~/miniconda3/envs/denv/lib/python3.11/site-packages/sympy/core/basic.py:997\u001b[0m, in \u001b[0;36mBasic.subs\u001b[0;34m(self, *args, **kwargs)\u001b[0m\n\u001b[1;32m    995\u001b[0m rv \u001b[39m=\u001b[39m \u001b[39mself\u001b[39m\n\u001b[1;32m    996\u001b[0m \u001b[39mfor\u001b[39;00m old, new \u001b[39min\u001b[39;00m sequence:\n\u001b[0;32m--> 997\u001b[0m     rv \u001b[39m=\u001b[39m rv\u001b[39m.\u001b[39;49m_subs(old, new, \u001b[39m*\u001b[39;49m\u001b[39m*\u001b[39;49mkwargs)\n\u001b[1;32m    998\u001b[0m     \u001b[39mif\u001b[39;00m \u001b[39mnot\u001b[39;00m \u001b[39misinstance\u001b[39m(rv, Basic):\n\u001b[1;32m    999\u001b[0m         \u001b[39mbreak\u001b[39;00m\n",
      "File \u001b[0;32m~/miniconda3/envs/denv/lib/python3.11/site-packages/sympy/core/cache.py:70\u001b[0m, in \u001b[0;36m__cacheit.<locals>.func_wrapper.<locals>.wrapper\u001b[0;34m(*args, **kwargs)\u001b[0m\n\u001b[1;32m     67\u001b[0m \u001b[39m@wraps\u001b[39m(func)\n\u001b[1;32m     68\u001b[0m \u001b[39mdef\u001b[39;00m \u001b[39mwrapper\u001b[39m(\u001b[39m*\u001b[39margs, \u001b[39m*\u001b[39m\u001b[39m*\u001b[39mkwargs):\n\u001b[1;32m     69\u001b[0m     \u001b[39mtry\u001b[39;00m:\n\u001b[0;32m---> 70\u001b[0m         retval \u001b[39m=\u001b[39m cfunc(\u001b[39m*\u001b[39;49margs, \u001b[39m*\u001b[39;49m\u001b[39m*\u001b[39;49mkwargs)\n\u001b[1;32m     71\u001b[0m     \u001b[39mexcept\u001b[39;00m \u001b[39mTypeError\u001b[39;00m \u001b[39mas\u001b[39;00m e:\n\u001b[1;32m     72\u001b[0m         \u001b[39mif\u001b[39;00m \u001b[39mnot\u001b[39;00m e\u001b[39m.\u001b[39margs \u001b[39mor\u001b[39;00m \u001b[39mnot\u001b[39;00m e\u001b[39m.\u001b[39margs[\u001b[39m0\u001b[39m]\u001b[39m.\u001b[39mstartswith(\u001b[39m'\u001b[39m\u001b[39munhashable type:\u001b[39m\u001b[39m'\u001b[39m):\n",
      "File \u001b[0;32m~/miniconda3/envs/denv/lib/python3.11/site-packages/sympy/core/basic.py:1111\u001b[0m, in \u001b[0;36mBasic._subs\u001b[0;34m(self, old, new, **hints)\u001b[0m\n\u001b[1;32m   1109\u001b[0m rv \u001b[39m=\u001b[39m \u001b[39mself\u001b[39m\u001b[39m.\u001b[39m_eval_subs(old, new)\n\u001b[1;32m   1110\u001b[0m \u001b[39mif\u001b[39;00m rv \u001b[39mis\u001b[39;00m \u001b[39mNone\u001b[39;00m:\n\u001b[0;32m-> 1111\u001b[0m     rv \u001b[39m=\u001b[39m fallback(\u001b[39mself\u001b[39;49m, old, new)\n\u001b[1;32m   1112\u001b[0m \u001b[39mreturn\u001b[39;00m rv\n",
      "File \u001b[0;32m~/miniconda3/envs/denv/lib/python3.11/site-packages/sympy/core/basic.py:1083\u001b[0m, in \u001b[0;36mBasic._subs.<locals>.fallback\u001b[0;34m(self, old, new)\u001b[0m\n\u001b[1;32m   1081\u001b[0m \u001b[39mif\u001b[39;00m \u001b[39mnot\u001b[39;00m \u001b[39mhasattr\u001b[39m(arg, \u001b[39m'\u001b[39m\u001b[39m_eval_subs\u001b[39m\u001b[39m'\u001b[39m):\n\u001b[1;32m   1082\u001b[0m     \u001b[39mcontinue\u001b[39;00m\n\u001b[0;32m-> 1083\u001b[0m arg \u001b[39m=\u001b[39m arg\u001b[39m.\u001b[39;49m_subs(old, new, \u001b[39m*\u001b[39;49m\u001b[39m*\u001b[39;49mhints)\n\u001b[1;32m   1084\u001b[0m \u001b[39mif\u001b[39;00m \u001b[39mnot\u001b[39;00m _aresame(arg, args[i]):\n\u001b[1;32m   1085\u001b[0m     hit \u001b[39m=\u001b[39m \u001b[39mTrue\u001b[39;00m\n",
      "File \u001b[0;32m~/miniconda3/envs/denv/lib/python3.11/site-packages/sympy/core/cache.py:70\u001b[0m, in \u001b[0;36m__cacheit.<locals>.func_wrapper.<locals>.wrapper\u001b[0;34m(*args, **kwargs)\u001b[0m\n\u001b[1;32m     67\u001b[0m \u001b[39m@wraps\u001b[39m(func)\n\u001b[1;32m     68\u001b[0m \u001b[39mdef\u001b[39;00m \u001b[39mwrapper\u001b[39m(\u001b[39m*\u001b[39margs, \u001b[39m*\u001b[39m\u001b[39m*\u001b[39mkwargs):\n\u001b[1;32m     69\u001b[0m     \u001b[39mtry\u001b[39;00m:\n\u001b[0;32m---> 70\u001b[0m         retval \u001b[39m=\u001b[39m cfunc(\u001b[39m*\u001b[39;49margs, \u001b[39m*\u001b[39;49m\u001b[39m*\u001b[39;49mkwargs)\n\u001b[1;32m     71\u001b[0m     \u001b[39mexcept\u001b[39;00m \u001b[39mTypeError\u001b[39;00m \u001b[39mas\u001b[39;00m e:\n\u001b[1;32m     72\u001b[0m         \u001b[39mif\u001b[39;00m \u001b[39mnot\u001b[39;00m e\u001b[39m.\u001b[39margs \u001b[39mor\u001b[39;00m \u001b[39mnot\u001b[39;00m e\u001b[39m.\u001b[39margs[\u001b[39m0\u001b[39m]\u001b[39m.\u001b[39mstartswith(\u001b[39m'\u001b[39m\u001b[39munhashable type:\u001b[39m\u001b[39m'\u001b[39m):\n",
      "File \u001b[0;32m~/miniconda3/envs/denv/lib/python3.11/site-packages/sympy/core/basic.py:1111\u001b[0m, in \u001b[0;36mBasic._subs\u001b[0;34m(self, old, new, **hints)\u001b[0m\n\u001b[1;32m   1109\u001b[0m rv \u001b[39m=\u001b[39m \u001b[39mself\u001b[39m\u001b[39m.\u001b[39m_eval_subs(old, new)\n\u001b[1;32m   1110\u001b[0m \u001b[39mif\u001b[39;00m rv \u001b[39mis\u001b[39;00m \u001b[39mNone\u001b[39;00m:\n\u001b[0;32m-> 1111\u001b[0m     rv \u001b[39m=\u001b[39m fallback(\u001b[39mself\u001b[39;49m, old, new)\n\u001b[1;32m   1112\u001b[0m \u001b[39mreturn\u001b[39;00m rv\n",
      "File \u001b[0;32m~/miniconda3/envs/denv/lib/python3.11/site-packages/sympy/core/basic.py:1083\u001b[0m, in \u001b[0;36mBasic._subs.<locals>.fallback\u001b[0;34m(self, old, new)\u001b[0m\n\u001b[1;32m   1081\u001b[0m \u001b[39mif\u001b[39;00m \u001b[39mnot\u001b[39;00m \u001b[39mhasattr\u001b[39m(arg, \u001b[39m'\u001b[39m\u001b[39m_eval_subs\u001b[39m\u001b[39m'\u001b[39m):\n\u001b[1;32m   1082\u001b[0m     \u001b[39mcontinue\u001b[39;00m\n\u001b[0;32m-> 1083\u001b[0m arg \u001b[39m=\u001b[39m arg\u001b[39m.\u001b[39;49m_subs(old, new, \u001b[39m*\u001b[39;49m\u001b[39m*\u001b[39;49mhints)\n\u001b[1;32m   1084\u001b[0m \u001b[39mif\u001b[39;00m \u001b[39mnot\u001b[39;00m _aresame(arg, args[i]):\n\u001b[1;32m   1085\u001b[0m     hit \u001b[39m=\u001b[39m \u001b[39mTrue\u001b[39;00m\n",
      "File \u001b[0;32m~/miniconda3/envs/denv/lib/python3.11/site-packages/sympy/core/cache.py:70\u001b[0m, in \u001b[0;36m__cacheit.<locals>.func_wrapper.<locals>.wrapper\u001b[0;34m(*args, **kwargs)\u001b[0m\n\u001b[1;32m     67\u001b[0m \u001b[39m@wraps\u001b[39m(func)\n\u001b[1;32m     68\u001b[0m \u001b[39mdef\u001b[39;00m \u001b[39mwrapper\u001b[39m(\u001b[39m*\u001b[39margs, \u001b[39m*\u001b[39m\u001b[39m*\u001b[39mkwargs):\n\u001b[1;32m     69\u001b[0m     \u001b[39mtry\u001b[39;00m:\n\u001b[0;32m---> 70\u001b[0m         retval \u001b[39m=\u001b[39m cfunc(\u001b[39m*\u001b[39;49margs, \u001b[39m*\u001b[39;49m\u001b[39m*\u001b[39;49mkwargs)\n\u001b[1;32m     71\u001b[0m     \u001b[39mexcept\u001b[39;00m \u001b[39mTypeError\u001b[39;00m \u001b[39mas\u001b[39;00m e:\n\u001b[1;32m     72\u001b[0m         \u001b[39mif\u001b[39;00m \u001b[39mnot\u001b[39;00m e\u001b[39m.\u001b[39margs \u001b[39mor\u001b[39;00m \u001b[39mnot\u001b[39;00m e\u001b[39m.\u001b[39margs[\u001b[39m0\u001b[39m]\u001b[39m.\u001b[39mstartswith(\u001b[39m'\u001b[39m\u001b[39munhashable type:\u001b[39m\u001b[39m'\u001b[39m):\n",
      "File \u001b[0;32m~/miniconda3/envs/denv/lib/python3.11/site-packages/sympy/core/basic.py:1109\u001b[0m, in \u001b[0;36mBasic._subs\u001b[0;34m(self, old, new, **hints)\u001b[0m\n\u001b[1;32m   1106\u001b[0m \u001b[39mif\u001b[39;00m _aresame(\u001b[39mself\u001b[39m, old):\n\u001b[1;32m   1107\u001b[0m     \u001b[39mreturn\u001b[39;00m new\n\u001b[0;32m-> 1109\u001b[0m rv \u001b[39m=\u001b[39m \u001b[39mself\u001b[39;49m\u001b[39m.\u001b[39;49m_eval_subs(old, new)\n\u001b[1;32m   1110\u001b[0m \u001b[39mif\u001b[39;00m rv \u001b[39mis\u001b[39;00m \u001b[39mNone\u001b[39;00m:\n\u001b[1;32m   1111\u001b[0m     rv \u001b[39m=\u001b[39m fallback(\u001b[39mself\u001b[39m, old, new)\n",
      "File \u001b[0;32m~/miniconda3/envs/denv/lib/python3.11/site-packages/sympy/core/numbers.py:704\u001b[0m, in \u001b[0;36mNumber._eval_subs\u001b[0;34m(self, old, new)\u001b[0m\n\u001b[1;32m    703\u001b[0m \u001b[39mdef\u001b[39;00m \u001b[39m_eval_subs\u001b[39m(\u001b[39mself\u001b[39m, old, new):\n\u001b[0;32m--> 704\u001b[0m     \u001b[39mif\u001b[39;00m old \u001b[39m==\u001b[39m \u001b[39m-\u001b[39;49m\u001b[39mself\u001b[39;49m:\n\u001b[1;32m    705\u001b[0m         \u001b[39mreturn\u001b[39;00m \u001b[39m-\u001b[39mnew\n\u001b[1;32m    706\u001b[0m     \u001b[39mreturn\u001b[39;00m \u001b[39mself\u001b[39m\n",
      "File \u001b[0;32m~/miniconda3/envs/denv/lib/python3.11/site-packages/sympy/core/numbers.py:1275\u001b[0m, in \u001b[0;36mFloat.__neg__\u001b[0;34m(self)\u001b[0m\n\u001b[1;32m   1273\u001b[0m \u001b[39mif\u001b[39;00m \u001b[39mnot\u001b[39;00m \u001b[39mself\u001b[39m:\n\u001b[1;32m   1274\u001b[0m     \u001b[39mreturn\u001b[39;00m \u001b[39mself\u001b[39m\n\u001b[0;32m-> 1275\u001b[0m \u001b[39mreturn\u001b[39;00m Float\u001b[39m.\u001b[39;49m_new(mlib\u001b[39m.\u001b[39;49mmpf_neg(\u001b[39mself\u001b[39;49m\u001b[39m.\u001b[39;49m_mpf_), \u001b[39mself\u001b[39;49m\u001b[39m.\u001b[39;49m_prec)\n",
      "File \u001b[0;32m~/miniconda3/envs/denv/lib/python3.11/site-packages/sympy/core/numbers.py:1178\u001b[0m, in \u001b[0;36mFloat._new\u001b[0;34m(cls, _mpf_, _prec, zero)\u001b[0m\n\u001b[1;32m   1174\u001b[0m             _mpf_ \u001b[39m=\u001b[39m mpmath\u001b[39m.\u001b[39mmpf(num, prec\u001b[39m=\u001b[39mprecision)\u001b[39m.\u001b[39m_mpf_\n\u001b[1;32m   1176\u001b[0m     \u001b[39mreturn\u001b[39;00m \u001b[39mcls\u001b[39m\u001b[39m.\u001b[39m_new(_mpf_, precision, zero\u001b[39m=\u001b[39m\u001b[39mFalse\u001b[39;00m)\n\u001b[0;32m-> 1178\u001b[0m \u001b[39m@classmethod\u001b[39m\n\u001b[1;32m   1179\u001b[0m \u001b[39mdef\u001b[39;00m \u001b[39m_new\u001b[39m(\u001b[39mcls\u001b[39m, _mpf_, _prec, zero\u001b[39m=\u001b[39m\u001b[39mTrue\u001b[39;00m):\n\u001b[1;32m   1180\u001b[0m     \u001b[39m# special cases\u001b[39;00m\n\u001b[1;32m   1181\u001b[0m     \u001b[39mif\u001b[39;00m zero \u001b[39mand\u001b[39;00m _mpf_ \u001b[39m==\u001b[39m fzero:\n\u001b[1;32m   1182\u001b[0m         \u001b[39mreturn\u001b[39;00m S\u001b[39m.\u001b[39mZero  \u001b[39m# Float(0) -> 0.0; Float._new((0,0,0,0)) -> 0\u001b[39;00m\n",
      "\u001b[0;31mKeyboardInterrupt\u001b[0m: "
     ]
    }
   ],
   "source": [
    "n = 200\n",
    "\n",
    "n_ne = 0\n",
    "tic = time.perf_counter()\n",
    "for i in range(n):\n",
    "    random_payoffs= generate_payoffs([5,5,5])\n",
    "    random_game = create_n_player_game(random_payoffs)\n",
    "    for mgb in min_game_blocks(random_game):\n",
    "        n_ne +=  len(mgb[1])\n",
    "    toc = time.perf_counter()\n",
    "    print(np.round(toc -tic,1) , i / n, \"Nr SO:\", n_ne / (i+1) )\n",
    "        \n",
    "n_ne / n"
   ]
  },
  {
   "cell_type": "code",
   "execution_count": null,
   "id": "93126879-127a-4a85-b742-54603b08109e",
   "metadata": {},
   "outputs": [],
   "source": [
    "random_payoffs= generate_payoffs([4,4,4,4])\n",
    "random_game = create_n_player_game(random_payoffs)\n",
    "for mgb in min_game_blocks(random_game):\n",
    "    print(mgb)"
   ]
  }
 ],
 "metadata": {
  "kernelspec": {
   "display_name": "Python 3 (ipykernel)",
   "language": "python",
   "name": "python3"
  },
  "language_info": {
   "codemirror_mode": {
    "name": "ipython",
    "version": 3
   },
   "file_extension": ".py",
   "mimetype": "text/x-python",
   "name": "python",
   "nbconvert_exporter": "python",
   "pygments_lexer": "ipython3",
   "version": "3.11.2"
  }
 },
 "nbformat": 4,
 "nbformat_minor": 5
}
