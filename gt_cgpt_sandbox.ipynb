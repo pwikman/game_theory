{
 "cells": [
  {
   "cell_type": "code",
   "execution_count": 4,
   "id": "1b508d2d-a7b1-4864-aabf-1b3e139b4565",
   "metadata": {},
   "outputs": [],
   "source": [
    "import sympy as sp\n",
    "import itertools\n",
    "import pypolsys\n",
    "import phcpy"
   ]
  },
  {
   "cell_type": "code",
   "execution_count": 5,
   "id": "19b05418-edd0-41c8-8f7d-f8177029d446",
   "metadata": {},
   "outputs": [],
   "source": [
    "class Game:\n",
    "    def __init__(self, num_players, num_strategies, payoffs):\n",
    "        self.num_players = num_players\n",
    "        self.num_strategies = num_strategies\n",
    "        self.payoffs = payoffs\n",
    "        #self.indices_combinations = indices_combinations\n",
    "\n",
    "\n",
    "def create_n_player_game(payoffs):\n",
    "    num_players = len(payoffs)\n",
    "    num_strategies = [len(payoffs[i]) for i in range(num_players)]\n",
    "    #indices_combinations = list(itertools.product(*[range(num_players)] * len(num_strategies)))\n",
    "\n",
    "    return Game(num_players, num_strategies, payoffs)"
   ]
  },
  {
   "cell_type": "code",
   "execution_count": 6,
   "id": "05a7cac3-130b-40ca-bf8c-04877519991a",
   "metadata": {},
   "outputs": [
    {
     "data": {
      "text/plain": [
       "(3,\n",
       " [2, 2, 2],\n",
       " [[[[1, 2], [3, 4]], [[5, 6], [7, 8]]],\n",
       "  [[[9, 10], [11, 12]], [[13, 14], [15, 16]]],\n",
       "  [[[17, 18], [19, 20]], [[21, 22], [23, 24]]]])"
      ]
     },
     "execution_count": 6,
     "metadata": {},
     "output_type": "execute_result"
    }
   ],
   "source": [
    "payoffs = [\n",
    "    [\n",
    "        [\n",
    "            [1, 2],\n",
    "            [3, 4]\n",
    "        ],\n",
    "        [\n",
    "            [5, 6],\n",
    "            [7, 8]\n",
    "        ]\n",
    "    ],\n",
    "    [\n",
    "        [\n",
    "            [9, 10],\n",
    "            [11, 12]\n",
    "        ],\n",
    "        [\n",
    "            [13, 14],\n",
    "            [15, 16]\n",
    "        ]\n",
    "    ],\n",
    "    [\n",
    "        [\n",
    "            [17, 18],\n",
    "            [19, 20]\n",
    "        ],\n",
    "        [\n",
    "            [21, 22],\n",
    "            [23, 24]\n",
    "        ]\n",
    "    ]\n",
    "]\n",
    "\n",
    "game = create_n_player_game(payoffs)\n",
    "game.num_players, game.num_strategies, game.payoffs"
   ]
  },
  {
   "cell_type": "code",
   "execution_count": 7,
   "id": "42ec05f6-1ac7-4778-be84-11199105a403",
   "metadata": {},
   "outputs": [
    {
     "data": {
      "text/plain": [
       "(2, [2, 2], [[[1, 0], [0, 1]], [[1, 0], [0, 1]]])"
      ]
     },
     "execution_count": 7,
     "metadata": {},
     "output_type": "execute_result"
    }
   ],
   "source": [
    "payoffs2 = [\n",
    "    [\n",
    "        [\n",
    "            1,\n",
    "            0\n",
    "        ],\n",
    "        [\n",
    "            0,\n",
    "            1\n",
    "        ]\n",
    "    ],\n",
    "    [\n",
    "        [\n",
    "            1,\n",
    "            0\n",
    "        ],\n",
    "        [\n",
    "            0,\n",
    "            1\n",
    "        ]\n",
    "    ]\n",
    "]\n",
    "\n",
    "game2 = create_n_player_game(payoffs2)\n",
    "game2.num_players, game2.num_strategies, game2.payoffs"
   ]
  },
  {
   "cell_type": "code",
   "execution_count": 43,
   "id": "4408125f-bade-417a-804c-8ad572c59ce0",
   "metadata": {},
   "outputs": [],
   "source": [
    "def calculate_expected_payoff_diff_equations(game):\n",
    "    n = game.num_players\n",
    "    # Create symbolic probability variables\n",
    "    probabilities = [[sp.Symbol(f'p{i+1}{j+1}') for j in range(game.num_strategies[i])] for i in range(n)]\n",
    "\n",
    "    def expected_payoff(player, strategy):\n",
    "        s = game.num_strategies[player]\n",
    "        payoff = 0\n",
    "\n",
    "        # Create a modified list of strategy ranges, replacing the player's strategy range with [strategy]\n",
    "        strategy_ranges = [range(game.num_strategies[p]) if p != player else [strategy] for p in range(n)]\n",
    "        for indices in itertools.product(*strategy_ranges):\n",
    "            probability_combination = [probabilities[p][indices[p]] if p != player else 1 for p in range(n)]\n",
    "            payoff_value = game.payoffs[player][strategy]\n",
    "            for i, index in enumerate(indices):\n",
    "                if i != player:\n",
    "                    payoff_value = payoff_value[index]\n",
    "            payoff_term = payoff_value * sp.prod(probability_combination)\n",
    "\n",
    "            payoff += payoff_term\n",
    "        return payoff\n",
    "\n",
    "#    def expected_payoff_from_mixed_strategy(player):\n",
    "#        s = game.num_strategies[player]\n",
    "#        total_payoff = 0\n",
    "#        for strategy in range(s):\n",
    "#            total_payoff += probabilities[player][strategy] * expected_payoff(player, strategy)\n",
    "#        return total_payoff\n",
    "\n",
    "    payoff_differences_equations = []\n",
    "    for player in range(n):\n",
    "        player_payoff_diff = []\n",
    "        for strategy in range(game.num_strategies[player]-1):\n",
    "            diff = expected_payoff(player, strategy) - expected_payoff(player, game.num_strategies[player]-1)\n",
    "            player_payoff_diff.append(diff)\n",
    "        payoff_differences_equations.append(player_payoff_diff)\n",
    "\n",
    "    # Flatten the list of lists\n",
    "    flat_payoff_differences_equations = [diff for sublist in payoff_differences_equations for diff in sublist]\n",
    "\n",
    "    return flat_payoff_differences_equations"
   ]
  },
  {
   "cell_type": "code",
   "execution_count": 44,
   "id": "b6dd5012-712a-4731-9fc3-16e4eed5d117",
   "metadata": {},
   "outputs": [],
   "source": [
    "def calculate_expected_payoff_diff_equations_fj(game):\n",
    "    n = game.num_players\n",
    "    # Create symbolic probability variables\n",
    "    probabilities = [[sp.Symbol(f'p{i+1}{j+1}') for j in range(game.num_strategies[i])] for i in range(n)]\n",
    "\n",
    "    def expected_payoff(player, strategy):\n",
    "        s = game.num_strategies[player]\n",
    "        payoff = 0\n",
    "\n",
    "        # Create a modified list of strategy ranges, replacing the player's strategy range with [strategy]\n",
    "        strategy_ranges = [range(game.num_strategies[p]) if p != player else [strategy] for p in range(n)]\n",
    "        for indices in itertools.product(*strategy_ranges):\n",
    "            probability_combination = [probabilities[p][indices[p]] if p != player else 1 for p in range(n)]\n",
    "            payoff_value = game.payoffs[player][strategy]\n",
    "            for i, index in enumerate(indices):\n",
    "                if i != player:\n",
    "                    payoff_value = payoff_value[index]\n",
    "            payoff_term = payoff_value * sp.prod(probability_combination)\n",
    "\n",
    "            payoff += payoff_term\n",
    "        return payoff\n",
    "\n",
    "    def expected_payoff_from_mixed_strategy(player):\n",
    "        s = game.num_strategies[player]\n",
    "        total_payoff = 0\n",
    "        for strategy in range(s):\n",
    "            total_payoff += probabilities[player][strategy] * expected_payoff(player, strategy)\n",
    "        return total_payoff\n",
    "\n",
    "    payoff_differences_equations = []\n",
    "    for player in range(n):\n",
    "        player_payoff_diff = []\n",
    "        for strategy in range(game.num_strategies[player]):\n",
    "            diff = expected_payoff(player, strategy) - expected_payoff_from_mixed_strategy(player)\n",
    "            player_payoff_diff.append(diff)\n",
    "        payoff_differences_equations.append(player_payoff_diff)\n",
    "\n",
    "    # Flatten the list of lists\n",
    "    flat_payoff_differences_equations = [diff for sublist in payoff_differences_equations for diff in sublist]\n",
    "\n",
    "    return flat_payoff_differences_equations"
   ]
  },
  {
   "cell_type": "code",
   "execution_count": 45,
   "id": "820a1290-0885-4669-a3fe-e6c1ba86d8c1",
   "metadata": {},
   "outputs": [],
   "source": [
    "def calculate_jacobian(game):\n",
    "    # Get the flattened payoff difference equations\n",
    "    payoff_differences_equations = calculate_expected_payoff_diff_equations_fj(game)\n",
    "    \n",
    "    n = game.num_players\n",
    "    probabilities = [[sp.Symbol(f'p{i+1}{j+1}') for j in range(game.num_strategies[i])] for i in range(n)]\n",
    "\n",
    "    # Flatten the list of probability variables\n",
    "    flat_probabilities = [p for sublist in probabilities for p in sublist]\n",
    "\n",
    "    # Calculate the Jacobian\n",
    "    jacobian_matrix = sp.Matrix(payoff_differences_equations).jacobian(flat_probabilities)\n",
    "\n",
    "    return jacobian_matrix"
   ]
  },
  {
   "cell_type": "code",
   "execution_count": 10,
   "id": "fc4e745e-8f83-47c6-a915-f0dcdab50821",
   "metadata": {},
   "outputs": [],
   "source": [
    "def calculate_payoff_diff_and_prob_sum_equations(game):\n",
    "    n = game.num_players\n",
    "    probabilities = [[sp.Symbol(f'p{i+1}{j+1}') for j in range(game.num_strategies[i])] for i in range(n)]\n",
    "\n",
    "    # Collect the equations in a list\n",
    "    equations = []\n",
    "    for player_payoff_diff in calculate_expected_payoff_diff_equations(game):\n",
    "        equations.append(sp.poly(player_payoff_diff , *[p for player_probs in probabilities for p in player_probs]))\n",
    "\n",
    "    for player_probs in probabilities:\n",
    "        prob_sum_eq = sum(player_probs) - 1\n",
    "        equations.append(sp.poly(prob_sum_eq, *[p for player_probs in probabilities for p in player_probs]))\n",
    "\n",
    "\n",
    "    return equations"
   ]
  },
  {
   "cell_type": "code",
   "execution_count": 46,
   "id": "6338c59c-f402-4148-bb62-dd903affc7bd",
   "metadata": {},
   "outputs": [
    {
     "data": {
      "text/plain": [
       "(['p21 - p22;', 'p11 - p12;', 'p11 + p12 - 1;', 'p21 + p22 - 1;'],\n",
       " Matrix([\n",
       " [   -p21,    -p22, 1 - p11,    -p12],\n",
       " [   -p21,    -p22,    -p11, 1 - p12],\n",
       " [1 - p21,    -p22,    -p11,    -p12],\n",
       " [   -p21, 1 - p22,    -p11,    -p12]]))"
      ]
     },
     "execution_count": 46,
     "metadata": {},
     "output_type": "execute_result"
    }
   ],
   "source": [
    "calculate_payoff_diff_and_prob_sum_equations(game2), calculate_jacobian(game2)"
   ]
  },
  {
   "cell_type": "code",
   "execution_count": 10,
   "id": "0f14f463-89f7-4369-8f72-ab1efa55c97d",
   "metadata": {},
   "outputs": [
    {
     "data": {
      "text/plain": [
       "([-p11*(p21*p31 + 2*p21*p32 + 3*p22*p31 + 4*p22*p32) - p12*(5*p21*p31 + 6*p21*p32 + 7*p22*p31 + 8*p22*p32) + p21*p31 + 2*p21*p32 + 3*p22*p31 + 4*p22*p32,\n",
       "  -p11*(p21*p31 + 2*p21*p32 + 3*p22*p31 + 4*p22*p32) - p12*(5*p21*p31 + 6*p21*p32 + 7*p22*p31 + 8*p22*p32) + 5*p21*p31 + 6*p21*p32 + 7*p22*p31 + 8*p22*p32,\n",
       "  9*p11*p31 + 10*p11*p32 + 11*p12*p31 + 12*p12*p32 - p21*(9*p11*p31 + 10*p11*p32 + 11*p12*p31 + 12*p12*p32) - p22*(13*p11*p31 + 14*p11*p32 + 15*p12*p31 + 16*p12*p32),\n",
       "  13*p11*p31 + 14*p11*p32 + 15*p12*p31 + 16*p12*p32 - p21*(9*p11*p31 + 10*p11*p32 + 11*p12*p31 + 12*p12*p32) - p22*(13*p11*p31 + 14*p11*p32 + 15*p12*p31 + 16*p12*p32),\n",
       "  17*p11*p21 + 18*p11*p22 + 19*p12*p21 + 20*p12*p22 - p31*(17*p11*p21 + 18*p11*p22 + 19*p12*p21 + 20*p12*p22) - p32*(21*p11*p21 + 22*p11*p22 + 23*p12*p21 + 24*p12*p22),\n",
       "  21*p11*p21 + 22*p11*p22 + 23*p12*p21 + 24*p12*p22 - p31*(17*p11*p21 + 18*p11*p22 + 19*p12*p21 + 20*p12*p22) - p32*(21*p11*p21 + 22*p11*p22 + 23*p12*p21 + 24*p12*p22)],\n",
       " Matrix([\n",
       " [                   -p21*p31 - 2*p21*p32 - 3*p22*p31 - 4*p22*p32,                   -5*p21*p31 - 6*p21*p32 - 7*p22*p31 - 8*p22*p32,          -p11*(p31 + 2*p32) - p12*(5*p31 + 6*p32) + p31 + 2*p32,      -p11*(3*p31 + 4*p32) - p12*(7*p31 + 8*p32) + 3*p31 + 4*p32,         -p11*(p21 + 3*p22) - p12*(5*p21 + 7*p22) + p21 + 3*p22,      -p11*(2*p21 + 4*p22) - p12*(6*p21 + 8*p22) + 2*p21 + 4*p22],\n",
       " [                   -p21*p31 - 2*p21*p32 - 3*p22*p31 - 4*p22*p32,                   -5*p21*p31 - 6*p21*p32 - 7*p22*p31 - 8*p22*p32,        -p11*(p31 + 2*p32) - p12*(5*p31 + 6*p32) + 5*p31 + 6*p32,      -p11*(3*p31 + 4*p32) - p12*(7*p31 + 8*p32) + 7*p31 + 8*p32,       -p11*(p21 + 3*p22) - p12*(5*p21 + 7*p22) + 5*p21 + 7*p22,      -p11*(2*p21 + 4*p22) - p12*(6*p21 + 8*p22) + 6*p21 + 8*p22],\n",
       " [ -p21*(9*p31 + 10*p32) - p22*(13*p31 + 14*p32) + 9*p31 + 10*p32, -p21*(11*p31 + 12*p32) - p22*(15*p31 + 16*p32) + 11*p31 + 12*p32,               -9*p11*p31 - 10*p11*p32 - 11*p12*p31 - 12*p12*p32,              -13*p11*p31 - 14*p11*p32 - 15*p12*p31 - 16*p12*p32,  9*p11 + 11*p12 - p21*(9*p11 + 11*p12) - p22*(13*p11 + 15*p12), 10*p11 + 12*p12 - p21*(10*p11 + 12*p12) - p22*(14*p11 + 16*p12)],\n",
       " [-p21*(9*p31 + 10*p32) - p22*(13*p31 + 14*p32) + 13*p31 + 14*p32, -p21*(11*p31 + 12*p32) - p22*(15*p31 + 16*p32) + 15*p31 + 16*p32,               -9*p11*p31 - 10*p11*p32 - 11*p12*p31 - 12*p12*p32,              -13*p11*p31 - 14*p11*p32 - 15*p12*p31 - 16*p12*p32, 13*p11 + 15*p12 - p21*(9*p11 + 11*p12) - p22*(13*p11 + 15*p12), 14*p11 + 16*p12 - p21*(10*p11 + 12*p12) - p22*(14*p11 + 16*p12)],\n",
       " [17*p21 + 18*p22 - p31*(17*p21 + 18*p22) - p32*(21*p21 + 22*p22),  19*p21 + 20*p22 - p31*(19*p21 + 20*p22) - p32*(23*p21 + 24*p22), 17*p11 + 19*p12 - p31*(17*p11 + 19*p12) - p32*(21*p11 + 23*p12), 18*p11 + 20*p12 - p31*(18*p11 + 20*p12) - p32*(22*p11 + 24*p12),             -17*p11*p21 - 18*p11*p22 - 19*p12*p21 - 20*p12*p22,              -21*p11*p21 - 22*p11*p22 - 23*p12*p21 - 24*p12*p22],\n",
       " [21*p21 + 22*p22 - p31*(17*p21 + 18*p22) - p32*(21*p21 + 22*p22),  23*p21 + 24*p22 - p31*(19*p21 + 20*p22) - p32*(23*p21 + 24*p22), 21*p11 + 23*p12 - p31*(17*p11 + 19*p12) - p32*(21*p11 + 23*p12), 22*p11 + 24*p12 - p31*(18*p11 + 20*p12) - p32*(22*p11 + 24*p12),             -17*p11*p21 - 18*p11*p22 - 19*p12*p21 - 20*p12*p22,              -21*p11*p21 - 22*p11*p22 - 23*p12*p21 - 24*p12*p22]]))"
      ]
     },
     "execution_count": 10,
     "metadata": {},
     "output_type": "execute_result"
    }
   ],
   "source": [
    "calculate_expected_payoff_diff_equations(game), calculate_jacobian(game)"
   ]
  },
  {
   "cell_type": "code",
   "execution_count": 56,
   "id": "47282638-87d8-4ee3-ae86-1ef5f0d15ec5",
   "metadata": {},
   "outputs": [
    {
     "data": {
      "text/plain": [
       "0"
      ]
     },
     "execution_count": 56,
     "metadata": {},
     "output_type": "execute_result"
    },
    {
     "name": "stdout",
     "output_type": "stream",
     "text": [
      " Solve report :\n",
      " --------------\n",
      "   Normal return.\n",
      "   All paths were normally tracked.\n"
     ]
    }
   ],
   "source": [
    "pol = pypolsys.utils.fromSympy(calculate_payoff_diff_and_prob_sum_equations(game2))\n",
    "pypolsys.polsys.init_poly(*pol)\n",
    "# Create homogeneous partition\n",
    "part = pypolsys.utils.make_h_part(4)\n",
    "# Pass it to POLSYS_PLP\n",
    "pypolsys.polsys.init_partition(*part)\n",
    "# Solve\n",
    "bplp = pypolsys.polsys.solve(1e-8, 1e-15, 0.0)\n",
    "# Get the roots, array of size (N+1) x bplp\n",
    "r2 = pypolsys.polsys.myroots\n",
    "# Get status of the solving process\n",
    "pypolsys.polsys.report()"
   ]
  },
  {
   "cell_type": "code",
   "execution_count": 57,
   "id": "11f76d4d-3c69-4fcb-b03d-b975467bdd01",
   "metadata": {},
   "outputs": [
    {
     "data": {
      "text/plain": [
       "array([[0.5       +1.39770306e-13j],\n",
       "       [0.5       -2.06213900e-13j],\n",
       "       [0.5       +2.33466744e-13j],\n",
       "       [0.5       -5.08511819e-13j],\n",
       "       [0.23653383-5.41951312e-01j]])"
      ]
     },
     "execution_count": 57,
     "metadata": {},
     "output_type": "execute_result"
    }
   ],
   "source": [
    "r2"
   ]
  },
  {
   "cell_type": "code",
   "execution_count": 47,
   "id": "cacffb4b-caf2-47e8-bdab-b9a96bda9173",
   "metadata": {},
   "outputs": [
    {
     "ename": "AttributeError",
     "evalue": "module 'phcpy' has no attribute 'solve'",
     "output_type": "error",
     "traceback": [
      "\u001b[0;31m---------------------------------------------------------------------------\u001b[0m",
      "\u001b[0;31mAttributeError\u001b[0m                            Traceback (most recent call last)",
      "Cell \u001b[0;32mIn[47], line 1\u001b[0m\n\u001b[0;32m----> 1\u001b[0m s\u001b[38;5;241m=\u001b[39m\u001b[43mphcpy\u001b[49m\u001b[38;5;241;43m.\u001b[39;49m\u001b[43msolve\u001b[49m(calculate_payoff_diff_and_prob_sum_equations(game2))\n\u001b[1;32m      2\u001b[0m s[\u001b[38;5;241m1\u001b[39m]\n",
      "\u001b[0;31mAttributeError\u001b[0m: module 'phcpy' has no attribute 'solve'"
     ]
    }
   ],
   "source": [
    "s=phcpy.solve(calculate_payoff_diff_and_prob_sum_equations(game2))\n",
    "s[1]"
   ]
  },
  {
   "cell_type": "code",
   "execution_count": 8,
   "id": "521bf44c-a4e2-4baf-b687-33e017c5dab6",
   "metadata": {},
   "outputs": [
    {
     "data": {
      "text/latex": [
       "$\\displaystyle \\operatorname{Poly}{\\left( x^{2} + y + z - 1, x, y, z, domain=\\mathbb{Z} \\right)}$"
      ],
      "text/plain": [
       "Poly(x**2 + y + z - 1, x, y, z, domain='ZZ')"
      ]
     },
     "execution_count": 8,
     "metadata": {},
     "output_type": "execute_result"
    }
   ],
   "source": [
    "x, y, z = sp.symbols('x, y, z')\n",
    "sp.poly(x**2 + y + z - 1, (x, y, z))"
   ]
  },
  {
   "cell_type": "code",
   "execution_count": 53,
   "id": "a5a7807c-fe37-424f-8b7b-bd10e692964e",
   "metadata": {},
   "outputs": [
    {
     "data": {
      "text/plain": [
       "[Poly(p21 - p22, p11, p12, p21, p22, domain='ZZ'),\n",
       " Poly(p11 - p12, p11, p12, p21, p22, domain='ZZ'),\n",
       " Poly(p11 + p12 - 1, p11, p12, p21, p22, domain='ZZ'),\n",
       " Poly(p21 + p22 - 1, p11, p12, p21, p22, domain='ZZ')]"
      ]
     },
     "execution_count": 53,
     "metadata": {},
     "output_type": "execute_result"
    }
   ],
   "source": [
    "calculate_payoff_diff_and_prob_sum_equations(game2)"
   ]
  },
  {
   "cell_type": "code",
   "execution_count": 52,
   "id": "74c68527-2ad4-4f69-a135-dee98e2e856c",
   "metadata": {},
   "outputs": [],
   "source": [
    "def calculate_payoff_diff_and_prob_sum_equations(game):\n",
    "    n = game.num_players\n",
    "    probabilities = [[sp.Symbol(f'p{i+1}{j+1}') for j in range(game.num_strategies[i])] for i in range(n)]\n",
    "\n",
    "    # Collect the equations in a list\n",
    "    equations = []\n",
    "    for player_payoff_diff in calculate_expected_payoff_diff_equations(game):\n",
    "        equations.append(sp.poly(player_payoff_diff , *[p for player_probs in probabilities for p in player_probs]))\n",
    "\n",
    "    for player_probs in probabilities:\n",
    "        prob_sum_eq = sum(player_probs) - 1\n",
    "        equations.append(sp.poly(prob_sum_eq, *[p for player_probs in probabilities for p in player_probs]))\n",
    "\n",
    "\n",
    "    return equations"
   ]
  },
  {
   "cell_type": "code",
   "execution_count": 49,
   "id": "290ee7c5-843f-4a5f-9a29-4c59ee0bb2a9",
   "metadata": {},
   "outputs": [],
   "source": [
    "def calculate_payoff_diff_and_prob_sum_equations(game):\n",
    "    n = game.num_players\n",
    "    probabilities = [[sp.Symbol(f'p{i+1}{j+1}') for j in range(game.num_strategies[i])] for i in range(n)]\n",
    "\n",
    "    # Rest of the code remains the same\n",
    "\n",
    "    # Collect the equations in a list\n",
    "    equations = []\n",
    "    for player_payoff_diff in calculate_expected_payoff_diff_equations(game):\n",
    "        for eq in player_payoff_diff:\n",
    "            equations.append(sp.poly(eq, *[p for player_probs in probabilities for p in player_probs]))\n",
    "\n",
    "    for player_probs in probabilities:\n",
    "        prob_sum_eq = sum(player_probs) - 1\n",
    "        equations.append(sp.poly(prob_sum_eq, *[p for player_probs in probabilities for p in player_probs]))\n",
    "\n",
    "    return equations"
   ]
  },
  {
   "cell_type": "code",
   "execution_count": 19,
   "id": "765e7094-dc98-4a99-ba56-cb6cecaab0b6",
   "metadata": {},
   "outputs": [
    {
     "data": {
      "text/plain": [
       "['-p11*p21 - p12*p22 + p21;',\n",
       " '-p11*p21 - p12*p22 + p22;',\n",
       " '-p11*p21 + p11 - p12*p22;',\n",
       " '-p11*p21 - p12*p22 + p12;',\n",
       " 'p11 + p12 - 1;',\n",
       " 'p21 + p22 - 1;']"
      ]
     },
     "execution_count": 19,
     "metadata": {},
     "output_type": "execute_result"
    }
   ],
   "source": [
    "calculate_payoff_diff_and_prob_sum_equations(game2)"
   ]
  }
 ],
 "metadata": {
  "kernelspec": {
   "display_name": "Python 3 (ipykernel)",
   "language": "python",
   "name": "python3"
  },
  "language_info": {
   "codemirror_mode": {
    "name": "ipython",
    "version": 3
   },
   "file_extension": ".py",
   "mimetype": "text/x-python",
   "name": "python",
   "nbconvert_exporter": "python",
   "pygments_lexer": "ipython3",
   "version": "3.11.2"
  }
 },
 "nbformat": 4,
 "nbformat_minor": 5
}
