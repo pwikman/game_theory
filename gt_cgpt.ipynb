{
 "cells": [
  {
   "cell_type": "markdown",
   "id": "fb53fae2-7af6-4244-9f8c-f7cb57c81e0b",
   "metadata": {
    "tags": []
   },
   "source": [
    "# Imported functions"
   ]
  },
  {
   "cell_type": "code",
   "execution_count": 7,
   "id": "1b508d2d-a7b1-4864-aabf-1b3e139b4565",
   "metadata": {},
   "outputs": [],
   "source": [
    "import sympy as sp\n",
    "import itertools\n",
    "import pypolsys\n",
    "import numpy as np\n",
    "import numpy as np\n",
    "from itertools import chain, combinations, product\n",
    "from typing import List, Iterator, Tuple, Any, Generator"
   ]
  },
  {
   "cell_type": "markdown",
   "id": "58a632cc-4c85-4e2f-bac5-65679da8596c",
   "metadata": {
    "jp-MarkdownHeadingCollapsed": true,
    "tags": []
   },
   "source": [
    "# Defining the game class and a function for creating a game"
   ]
  },
  {
   "cell_type": "code",
   "execution_count": 325,
   "id": "19b05418-edd0-41c8-8f7d-f8177029d446",
   "metadata": {},
   "outputs": [],
   "source": [
    "class Game:\n",
    "    def __init__(self, num_players, num_strategies, payoffs, indices):\n",
    "        self.num_players = num_players\n",
    "        self.num_strategies = num_strategies\n",
    "        self.payoffs = payoffs\n",
    "        self.index = indices\n",
    "        #self.indices_combinations = indices_combinations\n",
    "\n",
    "\n",
    "def create_n_player_game(payoffs):\n",
    "    num_players = len(payoffs)\n",
    "    num_strategies = [len(payoffs[i]) for i in range(num_players)]\n",
    "    indices = get_strategy_indices(payoffs)\n",
    "    #indices_combinations = list(itertools.product(*[range(num_players)] * len(num_strategies)))\n",
    "\n",
    "    return Game(num_players, num_strategies, payoffs, indices)\n",
    "\n",
    "def get_strategy_indices(payoffs):\n",
    "    strategy_indices = []\n",
    "\n",
    "    for player_payoffs in payoffs:\n",
    "        player_strategy_indices = []\n",
    "        for i, strategy in enumerate(player_payoffs):\n",
    "            player_strategy_indices.append(i)\n",
    "        strategy_indices.append(tuple(player_strategy_indices))\n",
    "\n",
    "    return tuple(strategy_indices)\n",
    "        \n",
    "\n",
    "# def is_valid_game_payoffs(payoffs,num_players,num_strategies):\n",
    "#    if not payoffs or not all(isinstance(p, list) and p for p in payoffs):\n",
    "#        raise TypeError(\"Only nested list structures are allowed\")\n",
    "   \n",
    "#    payoffs_flattened = flatten_list(payoffs)\n",
    "#    for payoff in payoffs_flattened:\n",
    "#        if not isinstance(payoff, (int, float)):\n",
    "#            raise TypeError(\"Only integers are allowed\")\n",
    "   \n",
    "#    def deep(payoffs, count):\n",
    "#         if count < p:\n",
    "#             count += 1\n",
    "#             payoff, count = deep(payoffs, player, count)\n",
    "#         else:\n",
    "#             if min(payoff, key=len)!=max(payoff, key=len):\n",
    "#                 raise TypeError(\"Input not corresponding to payoffs of a game\")\n",
    "#             payoff = len(min(payoff, key=len))\n",
    "#         return payoff, count\n",
    "        \n",
    "    \n",
    "#     for p in range(num_players):\n",
    "#         temp = []\n",
    "#         for strategies in num_strategies[p]:\n",
    "#             temp.append(len(strategies))\n",
    "#         return False        \n",
    "    \n",
    "#     return True\n",
    "\n",
    "# def flatten_list(nested_list):\n",
    "#     flat_list = []\n",
    "#     for item in nested_list:\n",
    "#         if isinstance(item, list):\n",
    "#             flat_list.extend(flatten_list(item))\n",
    "#         else:\n",
    "#             flat_list.append(item)\n",
    "#     return flat_list"
   ]
  },
  {
   "cell_type": "markdown",
   "id": "8d339723-b775-4ae7-80d0-d34b5df3b3ee",
   "metadata": {
    "tags": []
   },
   "source": [
    "# Different games"
   ]
  },
  {
   "cell_type": "code",
   "execution_count": 327,
   "id": "05a7cac3-130b-40ca-bf8c-04877519991a",
   "metadata": {},
   "outputs": [
    {
     "data": {
      "text/plain": [
       "(3, [2, 2, 2])"
      ]
     },
     "execution_count": 327,
     "metadata": {},
     "output_type": "execute_result"
    }
   ],
   "source": [
    "payoffs = [\n",
    "    [\n",
    "        [\n",
    "            [9, 0],\n",
    "            [0, 3]\n",
    "        ],\n",
    "        [\n",
    "            [0, 3],\n",
    "            [9, 0]\n",
    "        ]\n",
    "    ],\n",
    "    [\n",
    "        [\n",
    "            [8, 0],\n",
    "            [0, 4]\n",
    "        ],\n",
    "        [\n",
    "            [0, 4],\n",
    "            [8, 0]\n",
    "        ]\n",
    "    ],\n",
    "    [\n",
    "        [\n",
    "            [12, 0],\n",
    "            [0, 2]\n",
    "        ],\n",
    "        [\n",
    "            [0, 6],\n",
    "            [6, 0]\n",
    "        ]\n",
    "    ]\n",
    "    ]\n",
    "\n",
    "game = create_n_player_game(payoffs)\n",
    "game.num_players, game.num_strategies#, game.payoffs"
   ]
  },
  {
   "cell_type": "code",
   "execution_count": 477,
   "id": "5f978568-065e-489f-8567-37e77e9758c5",
   "metadata": {},
   "outputs": [],
   "source": [
    "payoffs_test = [\n",
    "    [\n",
    "        [\n",
    "            [9, 0],\n",
    "            [0, 3]\n",
    "        ],\n",
    "        [\n",
    "            [-10, -3],\n",
    "            [-9, -10]\n",
    "        ]\n",
    "    ],\n",
    "    [\n",
    "        [\n",
    "            [8, 0],\n",
    "            [0, 4]\n",
    "        ],\n",
    "        [\n",
    "            [0, 4],\n",
    "            [8, 0]\n",
    "        ]\n",
    "    ],\n",
    "    [\n",
    "        [\n",
    "            [12, 0],\n",
    "            [0, 2]\n",
    "        ],\n",
    "        [\n",
    "            [0, 6],\n",
    "            [6, 0]\n",
    "        ]\n",
    "    ]\n",
    "    ]\n",
    "\n",
    "game_t = create_n_player_game(payoffs_test)"
   ]
  },
  {
   "cell_type": "code",
   "execution_count": 478,
   "id": "0f875b42-3bc7-4447-8ec8-9e63ad521f8e",
   "metadata": {},
   "outputs": [],
   "source": [
    "payoffs21 = [\n",
    "    [\n",
    "        [1,0],\n",
    "        [0,1]\n",
    "    ],\n",
    "    [\n",
    "        [1,0],\n",
    "        [0,1]\n",
    "    ]\n",
    "]\n",
    "\n",
    "game21 = create_n_player_game(payoffs21)"
   ]
  },
  {
   "cell_type": "code",
   "execution_count": 502,
   "id": "42ec05f6-1ac7-4778-be84-11199105a403",
   "metadata": {},
   "outputs": [
    {
     "data": {
      "text/plain": [
       "(2, [3, 3])"
      ]
     },
     "execution_count": 502,
     "metadata": {},
     "output_type": "execute_result"
    }
   ],
   "source": [
    "payoffs2 = [\n",
    "    [\n",
    "        [\n",
    "            1,\n",
    "            -1,\n",
    "            -2\n",
    "        ],\n",
    "        [\n",
    "            -3,\n",
    "            1,\n",
    "            -4\n",
    "        ],\n",
    "        [\n",
    "            -2,\n",
    "            0,\n",
    "            1\n",
    "        ]\n",
    "    ],\n",
    "    [\n",
    "        [\n",
    "            1,\n",
    "            0,\n",
    "            -1\n",
    "        ],\n",
    "        [\n",
    "            -1,\n",
    "            1,\n",
    "            0\n",
    "        ],\n",
    "        [\n",
    "            0,\n",
    "            -1,\n",
    "            1\n",
    "        ]\n",
    "    ]\n",
    "]\n",
    "\n",
    "game2 = create_n_player_game(payoffs2)\n",
    "game2.num_players, game2.num_strategies#, game2.payoffs"
   ]
  },
  {
   "cell_type": "code",
   "execution_count": 514,
   "id": "22df4bcc-30ef-4112-9305-a1721469777f",
   "metadata": {},
   "outputs": [
    {
     "data": {
      "text/plain": [
       "(3, [3, 2, 2])"
      ]
     },
     "execution_count": 514,
     "metadata": {},
     "output_type": "execute_result"
    }
   ],
   "source": [
    "payoffs3 = [\n",
    "    [\n",
    "        [\n",
    "            [9, 0],\n",
    "            [0, 3]\n",
    "        ],\n",
    "        [\n",
    "            [0, 3],\n",
    "            [9, 0]\n",
    "        ]\n",
    "        ,\n",
    "        [\n",
    "            [-1, 1],\n",
    "            [2, 4]\n",
    "        ]\n",
    "    ],\n",
    "    [\n",
    "        [\n",
    "            [8, 0],\n",
    "            [0, 4],\n",
    "            [2, 3]\n",
    "        ],\n",
    "        [\n",
    "            [0, 4],\n",
    "            [8, 0],\n",
    "            [5, 7]\n",
    "        ]\n",
    "    ],\n",
    "    [\n",
    "        [\n",
    "            [12, 0],\n",
    "            [0, 2],\n",
    "            [1, 1]\n",
    "        ],\n",
    "        [\n",
    "            [0, 6],\n",
    "            [6, 0],\n",
    "            [2, 3]\n",
    "        ]\n",
    "    ]\n",
    "]\n",
    "\n",
    "game3 = create_n_player_game(payoffs3)\n",
    "game3.num_players, game3.num_strategies#, game3.payoffs"
   ]
  },
  {
   "cell_type": "code",
   "execution_count": 481,
   "id": "3c3c0842-ab14-4f2b-90a1-352416cb43ce",
   "metadata": {},
   "outputs": [
    {
     "data": {
      "text/plain": [
       "(4, [2, 2, 2, 2])"
      ]
     },
     "execution_count": 481,
     "metadata": {},
     "output_type": "execute_result"
    }
   ],
   "source": [
    "payoffs4 = [\n",
    "    np.array([\n",
    "        [[[1, 2], [3, 4]], [[5, 6], [7, 8]]],\n",
    "        [[[9, 10], [11, 12]], [[13, 14], [15, 16]]]\n",
    "    ]),\n",
    "    np.array([\n",
    "        [[[17, 18], [19, 20]], [[21, 22], [23, 24]]],\n",
    "        [[[25, 26], [27, 28]], [[29, 30], [31, 32]]]\n",
    "    ]),\n",
    "    np.array([\n",
    "        [[[33, 34], [35, 36]], [[37, 38], [39, 40]]],\n",
    "        [[[41, 42], [43, 44]], [[45, 46], [47, 48]]]\n",
    "    ]),\n",
    "    np.array([\n",
    "        [[[49, 50], [51, 52]], [[53, 54], [55, 56]]],\n",
    "        [[[57, 58], [59, 60]], [[61, 62], [63, 64]]]\n",
    "    ])\n",
    "]\n",
    "game4 = create_n_player_game(payoffs4)\n",
    "game4.num_players, game4.num_strategies#, game4.payoffs"
   ]
  },
  {
   "cell_type": "markdown",
   "id": "1e48b768-6b19-433e-8716-a82fa213b231",
   "metadata": {
    "tags": []
   },
   "source": [
    "# Functions for finidng all Nash equilibria with full support in a game"
   ]
  },
  {
   "cell_type": "code",
   "execution_count": 10,
   "id": "4408125f-bade-417a-804c-8ad572c59ce0",
   "metadata": {},
   "outputs": [],
   "source": [
    "def calculate_expected_payoff_diff_equations(game, probabilities):\n",
    "    n = game.num_players\n",
    "\n",
    "    def expected_payoff(player, strategy):\n",
    "        s = game.num_strategies[player]\n",
    "        payoff = 0\n",
    "\n",
    "        # Create a modified list of strategy ranges, replacing the player's strategy range with [strategy]\n",
    "        strategy_ranges = [range(game.num_strategies[p]) if p != player else [strategy] for p in range(n)]\n",
    "        for indices in itertools.product(*strategy_ranges):\n",
    "            probability_combination = [probabilities[p][indices[p]] if p != player else 1 for p in range(n)]\n",
    "            payoff_value = game.payoffs[player][strategy]\n",
    "            for i, index in enumerate(indices):\n",
    "                if i != player:\n",
    "                    payoff_value = payoff_value[index]\n",
    "            payoff_term = payoff_value * sp.prod(probability_combination)\n",
    "\n",
    "            payoff += payoff_term\n",
    "        return payoff\n",
    "\n",
    "    payoff_differences_equations = []\n",
    "    for player in range(n):\n",
    "        player_payoff_diff = []\n",
    "        for strategy in range(game.num_strategies[player]-1):\n",
    "            diff = expected_payoff(player, strategy) - expected_payoff(player, game.num_strategies[player]-1)\n",
    "            player_payoff_diff.append(diff)\n",
    "        payoff_differences_equations.append(player_payoff_diff)\n",
    "\n",
    "    # Flatten the list of lists\n",
    "    flat_payoff_differences_equations = [diff for sublist in payoff_differences_equations for diff in sublist]\n",
    "\n",
    "    return flat_payoff_differences_equations"
   ]
  },
  {
   "cell_type": "code",
   "execution_count": 11,
   "id": "74c68527-2ad4-4f69-a135-dee98e2e856c",
   "metadata": {},
   "outputs": [],
   "source": [
    "def calculate_payoff_diff_and_prob_sum_equations(game):\n",
    "    n = game.num_players\n",
    "    # Create symbolic probability variables\n",
    "    probabilities = [[sp.Symbol(f'p{i+1}{j+1}') for j in range(game.num_strategies[i])] for i in range(n)]\n",
    "\n",
    "    # Collect the equations in a list\n",
    "    equations = []\n",
    "    for player_payoff_diff in calculate_expected_payoff_diff_equations(game, probabilities):\n",
    "        equations.append(sp.poly(player_payoff_diff , *[p for player_probs in probabilities for p in player_probs]))\n",
    "\n",
    "    for player_probs in probabilities:\n",
    "        prob_sum_eq = sum(player_probs) - 1\n",
    "        equations.append(sp.poly(prob_sum_eq, *[p for player_probs in probabilities for p in player_probs]))\n",
    "\n",
    "\n",
    "    return equations"
   ]
  },
  {
   "cell_type": "code",
   "execution_count": 455,
   "id": "2016c5c2-e0eb-41aa-a5b6-220828c8322a",
   "metadata": {},
   "outputs": [],
   "source": [
    "def nash_solver(game, tol):\n",
    "    D = sum(game.num_strategies)\n",
    "    pol = pypolsys.utils.fromSympy(calculate_payoff_diff_and_prob_sum_equations(game))\n",
    "    pypolsys.polsys.init_poly(*pol)\n",
    "    part = pypolsys.utils.make_h_part(D)\n",
    "    pypolsys.polsys.init_partition(*part)\n",
    "    bplp = pypolsys.polsys.solve(1e-8, 1e-15, 0.0)\n",
    "    r = pypolsys.polsys.myroots\n",
    "    def remove_near_zero_complex(array, tol):\n",
    "        # Check if the imaginary or real part of any element in a row is close to zero\n",
    "        is_complex_close_to_zero = lambda row: any(x.real < tol or abs(x.imag) > tol for x in row)\n",
    "    \n",
    "        # Create a mask to filter out rows with complex elements close to zero\n",
    "        mask = np.array([not is_complex_close_to_zero(row) for row in array])\n",
    "    \n",
    "        # Return the real parts of the filtered array\n",
    "        return np.real(array[mask])\n",
    "    \n",
    "    def subset_list(input_list, lengths):\n",
    "        sublists = []\n",
    "        start = 0\n",
    "\n",
    "        for length in lengths:\n",
    "            sublists.append(input_list[start:start + length])\n",
    "            start += length\n",
    "\n",
    "        return sublists\n",
    "    \n",
    "    ok_sol = remove_near_zero_complex(r[:D,:].transpose(), tol)\n",
    "    output = []\n",
    "    for sol in ok_sol:\n",
    "        output.append(subset_list(sol, game.num_strategies))        \n",
    "    \n",
    "    return output"
   ]
  },
  {
   "cell_type": "code",
   "execution_count": 289,
   "id": "f5535958-303e-4e08-a00d-500fc4a8bb41",
   "metadata": {},
   "outputs": [
    {
     "data": {
      "text/plain": [
       "array([[[0.4  , 0.6  ],\n",
       "        [0.5  , 0.5  ],\n",
       "        [0.333, 0.667]],\n",
       "\n",
       "       [[0.5  , 0.5  ],\n",
       "        [0.4  , 0.6  ],\n",
       "        [0.25 , 0.75 ]]])"
      ]
     },
     "execution_count": 453,
     "metadata": {},
     "output_type": "execute_result"
    }
   ],
   "source": [
    "nash_solver(game, 1e-6)"
   ]
  },
  {
   "cell_type": "markdown",
   "id": "762b325e-2a82-4ec4-9080-11f27a49e577",
   "metadata": {
    "tags": []
   },
   "source": [
    "# Functions for generating block games in right order"
   ]
  },
  {
   "cell_type": "code",
   "execution_count": 292,
   "id": "59e11b46-fb0f-4840-be31-13583f0f5c4b",
   "metadata": {},
   "outputs": [],
   "source": [
    "def powerset(iterable):\n",
    "    s = list(iterable)\n",
    "    return chain.from_iterable(combinations(s, r) for r in range(1, len(s) + 1))\n"
   ]
  },
  {
   "cell_type": "code",
   "execution_count": 305,
   "id": "d749d2e0-5b8a-4c24-bd21-9e942315860d",
   "metadata": {},
   "outputs": [],
   "source": [
    "def potential_support_pairs(game):\n",
    "    num_strategies = game.num_strategies\n",
    "    support_sets = [sorted(list(powerset(range(num))), key=lambda x: (len(x), x)) for num in num_strategies]\n",
    "\n",
    "    combined_supports_list = list(product(*support_sets))\n",
    "    sorted_combined_supports_list = sorted(combined_supports_list, key=lambda x: (sum(len(y) for y in x), max(len(y) for y in x) - min(len(y) for y in x), x))\n",
    "\n",
    "    for sorted_combined_supports in sorted_combined_supports_list:\n",
    "        yield sorted_combined_supports"
   ]
  },
  {
   "cell_type": "code",
   "execution_count": 291,
   "id": "86ac44ea-977f-46d0-a74b-9a6906244d2d",
   "metadata": {},
   "outputs": [],
   "source": [
    "def payoff_player(payoff, indices):\n",
    "    #print(\"Payoffs:\", payoff, \"Indices:\", indices)\n",
    "    indices = list(indices)\n",
    "    index = indices.pop(0)\n",
    "    t_payoff = [payoff[i] for i in index]\n",
    "    for i, pay in enumerate(t_payoff):\n",
    "        if len(indices)>0:\n",
    "            pay_1 = payoff_player(pay, indices)\n",
    "            t_payoff[i] = pay_1\n",
    "        else:\n",
    "            t_payoff[i] = pay\n",
    "    return t_payoff"
   ]
  },
  {
   "cell_type": "code",
   "execution_count": 290,
   "id": "27395a4b-81cb-4481-9001-67756cf90daf",
   "metadata": {},
   "outputs": [],
   "source": [
    "def block_game(payoffs, indices):\n",
    "    block = []\n",
    "    for p, payoff in enumerate(payoffs):\n",
    "        index =  [*indices]\n",
    "        index.pop(p)\n",
    "        indexes = tuple([indices[p], *index])\n",
    "        block_n = payoff_player(payoff, indexes)\n",
    "        block.append(block_n)\n",
    "    return block"
   ]
  },
  {
   "cell_type": "markdown",
   "id": "ff4db596-12e4-4f74-a6c0-cb685c9cd948",
   "metadata": {
    "tags": []
   },
   "source": [
    "# Functions for determing whether a pure strategy is conditionally dominated"
   ]
  },
  {
   "cell_type": "code",
   "execution_count": 447,
   "id": "6f86c422-7bef-4681-aa37-849485b12647",
   "metadata": {
    "tags": []
   },
   "outputs": [],
   "source": [
    "def is_strategy_strictly_dominated(payoffs, player, strategy):\n",
    "    num_players = len(payoffs)\n",
    "    num_strategies = [len(payoffs[i]) for i in range(num_players)]\n",
    "    other_strategies = [i for i in range(num_strategies[player]) if i != strategy]\n",
    "\n",
    "    def get_payoff(payoffs, indices, player, strategy):\n",
    "        payoff = payoffs[player][strategy]\n",
    "        for i, index in enumerate(indices):\n",
    "            if i != player:\n",
    "                payoff = payoff[index]\n",
    "        return payoff\n",
    "    \n",
    "    for other_strategy in other_strategies:\n",
    "        temp = 0\n",
    "        temp2 = 0\n",
    "        for indices in itertools.product(*[range(num_strategies[p]) if p != player else other_strategies for p in range(num_players)]):\n",
    "            temp2 += 1\n",
    "            payoff_current_strategy = get_payoff(payoffs, indices, player, strategy)\n",
    "\n",
    "            payoff_other_strategy = get_payoff(payoffs, indices, player, other_strategy)\n",
    "            \n",
    "            if payoff_current_strategy > payoff_other_strategy:\n",
    "                break\n",
    "            else:\n",
    "                temp += 1\n",
    "        if temp == temp2: return True\n",
    "            \n",
    "    return False\n"
   ]
  },
  {
   "cell_type": "code",
   "execution_count": 154,
   "id": "a1369409-d4ec-4e28-9a04-af9b54b59c7f",
   "metadata": {},
   "outputs": [],
   "source": [
    "def admissible_block(payoffs):\n",
    "    num_players = len(payoffs)\n",
    "    num_strategies = [len(payoffs[i]) for i in range(num_players)]\n",
    "    for p in range(num_players):\n",
    "        for s in range(num_strategies[p]):\n",
    "            if is_strategy_strictly_dominated(payoffs, p, s):\n",
    "                return False\n",
    "    return True"
   ]
  },
  {
   "cell_type": "markdown",
   "id": "8271a8cb-2861-4fa0-9ee7-008cd32aa18b",
   "metadata": {
    "tags": []
   },
   "source": [
    "# Functions to check whether a completely mixed Nash equilibrium of block game is Nash in lager game"
   ]
  },
  {
   "cell_type": "code",
   "execution_count": 448,
   "id": "74f0d2a8-094c-481b-82e4-61007843713f",
   "metadata": {},
   "outputs": [],
   "source": [
    "num_players = len(payoffs21)\n",
    "num_strategies = [len(payoffs21[i]) for i in range(num_players)]\n",
    "probabilities = [[sp.Symbol(f'p{i+1}{j+1}') for j in range(num_strategies[i])] for i in range(num_players)]\n",
    "\n",
    "def expected_payoff(player, strategy):\n",
    "\n",
    "    payoff = 0\n",
    "\n",
    "    # Create a modified list of strategy ranges, replacing the player's strategy range with [strategy]\n",
    "    strategy_ranges = [range(num_strategies[p]) if p != player else [strategy] for p in range(num_players)]\n",
    "    for indices in itertools.product(*strategy_ranges):\n",
    "        probability_combination = [probabilities[p][indices[p]] if p != player else 1 for p in range(num_players)]\n",
    "        payoff_value = payoffs21[player][strategy]\n",
    "\n",
    "        for i, index in enumerate(indices):\n",
    "            if i != player:\n",
    "                payoff_value = payoff_value[index]     \n",
    "        payoff_term = payoff_value * sp.prod(probability_combination)\n",
    "\n",
    "        payoff += payoff_term\n",
    "    return payoff"
   ]
  },
  {
   "cell_type": "code",
   "execution_count": 470,
   "id": "0b3f4882-88b2-4cdd-8e87-f2911fc72c9d",
   "metadata": {},
   "outputs": [],
   "source": [
    "def is_strategy_better(payoffs, mixed_strategy_profile, player, new_strategy):\n",
    "    num_players = len(payoffs)\n",
    "    num_strategies = [len(payoffs[i]) for i in range(num_players)]\n",
    "    # Create symbolic probability variables\n",
    "    probabilities = [[sp.Symbol(f'p{i+1}{j+1}') for j in range(num_strategies[i])] for i in range(num_players)]\n",
    "    \n",
    "    def expected_payoff(player, strategy):\n",
    "\n",
    "        payoff = 0\n",
    "\n",
    "        # Create a modified list of strategy ranges, replacing the player's strategy range with [strategy]\n",
    "        strategy_ranges = [range(num_strategies[p]) if p != player else [strategy] for p in range(num_players)]\n",
    "        for indices in itertools.product(*strategy_ranges):\n",
    "            probability_combination = [probabilities[p][indices[p]] if p != player else 1 for p in range(num_players)]\n",
    "            payoff_value = payoffs[player][strategy]\n",
    "            for i, index in enumerate(indices):\n",
    "                if i != player:\n",
    "                    payoff_value = payoff_value[index]\n",
    "            payoff_term = payoff_value * sp.prod(probability_combination)\n",
    "\n",
    "            payoff += payoff_term\n",
    "        return payoff\n",
    "\n",
    "    def expected_payoff_from_mixed_strategy(player):\n",
    "        total_payoff = 0\n",
    "        for strategy in range(num_strategies[player]):\n",
    "            total_payoff += probabilities[player][strategy] * expected_payoff(player, strategy)\n",
    "        return total_payoff\n",
    "\n",
    "    # Calculate the current expected payoff\n",
    "    current_expected_payoff = expected_payoff_from_mixed_strategy(player)\n",
    "    potential_expected_payoff = expected_payoff(player, new_strategy)\n",
    "    for p in range(num_players):\n",
    "        current_expected_payoff = current_expected_payoff.subs([(probabilities[p][i], mixed_strategy_profile[p][i]) for i in range(num_strategies[p])])\n",
    "    # Calculate the expected payoff if the player switches to the new strategy\n",
    "        potential_expected_payoff = potential_expected_payoff.subs([(probabilities[p][i], mixed_strategy_profile[p][i]) for i in range(num_strategies[p])])\n",
    "    # Check if the new strategy is better\n",
    "    return potential_expected_payoff > current_expected_payoff"
   ]
  },
  {
   "cell_type": "code",
   "execution_count": 361,
   "id": "e303e387-c044-4814-aa13-5815a261ccd3",
   "metadata": {},
   "outputs": [],
   "source": [
    "def stra_em(ne_cand, block_index, index):\n",
    "    full_sp = [\n",
    "        [ne_cand[p][block_index[p].index(s)] if s in block_index[p] else 0 for s in index[p]]\n",
    "        for p in range(len(index))\n",
    "    ]\n",
    "    return full_sp"
   ]
  },
  {
   "cell_type": "markdown",
   "id": "844f459c-a5da-4a52-ae8f-a036e81e1c08",
   "metadata": {
    "tags": []
   },
   "source": [
    "# Nash equilibrium solver"
   ]
  },
  {
   "cell_type": "code",
   "execution_count": 532,
   "id": "dbc2aef4-1461-45ff-8446-ccc06b387b15",
   "metadata": {},
   "outputs": [],
   "source": [
    "def ne_solver(game, index = False):\n",
    "    result = []\n",
    "\n",
    "    for indices in potential_support_pairs(game):\n",
    "        block = block_game(game.payoffs, indices)\n",
    "        bg = create_n_player_game(block)\n",
    "\n",
    "        skip_indices = False\n",
    "        for p in range(game.num_players):\n",
    "            if skip_indices:\n",
    "                break\n",
    "            for s in range(bg.num_strategies[p]):\n",
    "                if is_strategy_strictly_dominated(bg.payoffs, p, s):\n",
    "                    skip_indices = True\n",
    "                    break\n",
    "                    \n",
    "        skip_eq = False\n",
    "        pot_sol = nash_solver(bg, 1e-6)\n",
    "        \n",
    "        for sol in pot_sol:\n",
    "            m_sp = stra_em(sol, indices, game.index)           \n",
    "            for p in range(game.num_players):\n",
    "                if skip_eq:\n",
    "                    break\n",
    "                for s in set(game.index[p]).difference(set(indices[p])):\n",
    "                    if is_strategy_better(game.payoffs, m_sp, p ,s):\n",
    "                        skip_eq = True\n",
    "                        break\n",
    "            if skip_eq:\n",
    "                break\n",
    "            result.append(m_sp)\n",
    "\n",
    "    return result"
   ]
  },
  {
   "cell_type": "code",
   "execution_count": 533,
   "id": "915c6a09-e713-492f-8791-ec729024ecb1",
   "metadata": {},
   "outputs": [
    {
     "data": {
      "text/plain": [
       "[[[1.0000000000000002, 0, 0],\n",
       "  [1.0000000000000002, 0],\n",
       "  [1.0000000000000002, 0]],\n",
       " [[0, 1.0000000000000002, 0],\n",
       "  [1.0000000000000002, 0],\n",
       "  [0, 1.0000000000000002]],\n",
       " [[0, 1.0000000000000002, 0],\n",
       "  [0, 1.0000000000000002],\n",
       "  [1.0000000000000002, 0]],\n",
       " [[0, 0, 1.0000000000000002],\n",
       "  [0, 1.0000000000000002],\n",
       "  [0, 1.0000000000000002]],\n",
       " [[0.3333333333333333, 0.6666666666666666, 0],\n",
       "  [1.0, 0],\n",
       "  [0.25, 0.7499999999999998]],\n",
       " [[0.49999999999999994, 0.5, 0],\n",
       "  [0.4999999999999999, 0.4999999999999999],\n",
       "  [1.0, 0]],\n",
       " [[0, 1.0, 0],\n",
       "  [0.25000000000000006, 0.7499999999999998],\n",
       "  [0.3333333333333333, 0.6666666666666665]],\n",
       " [[0, 0.49999999999999994, 0.4999999999999999],\n",
       "  [0.6666666666666667, 0.3333333333333333],\n",
       "  [0, 1.0000000000000002]],\n",
       " [[0, 0.5, 0.5000000000000001],\n",
       "  [0, 0.9999999999999998],\n",
       "  [0.36363636363636365, 0.6363636363636362]],\n",
       " [[0.3999999999999999, 0.6000000000000002, 0],\n",
       "  [0.5000000000000007, 0.49999999999999933],\n",
       "  [0.3333333333333336, 0.6666666666666657]],\n",
       " [[0, 0.9463972422399008, 0.05360275776009915],\n",
       "  [0.23752193043206934, 0.7624780695679306],\n",
       "  [0.31594497707065905, 0.6840550229293408]],\n",
       " [[0.3937007874015746, 0.5433070866141733, 0.06299212598425215],\n",
       "  [0.5000000000000002, 0.49999999999999983],\n",
       "  [0.19999999999999987, 0.7999999999999999]],\n",
       " [[0.4716417910447758, 0.5164179104477614, 0.011940298507462825],\n",
       "  [0.41666666666666663, 0.5833333333333334],\n",
       "  [0.25, 0.7499999999999999]]]"
      ]
     },
     "execution_count": 533,
     "metadata": {},
     "output_type": "execute_result"
    }
   ],
   "source": [
    "ne_solver(game3)"
   ]
  },
  {
   "cell_type": "markdown",
   "id": "e5ba1142-efee-4e27-b532-5ee568ef2f05",
   "metadata": {
    "tags": []
   },
   "source": [
    "# Functions for calculating index of Nash equilibria in generic game (not finished!)"
   ]
  },
  {
   "cell_type": "code",
   "execution_count": null,
   "id": "b6dd5012-712a-4731-9fc3-16e4eed5d117",
   "metadata": {},
   "outputs": [],
   "source": [
    "def calculate_expected_payoff_diff_equations_fj(game):\n",
    "    n = game.num_players\n",
    "    # Create symbolic probability variables\n",
    "    probabilities = [[sp.Symbol(f'p{i+1}{j+1}') for j in range(game.num_strategies[i])] for i in range(n)]\n",
    "\n",
    "    def expected_payoff(player, strategy):\n",
    "        s = game.num_strategies[player]\n",
    "        payoff = 0\n",
    "\n",
    "        # Create a modified list of strategy ranges, replacing the player's strategy range with [strategy]\n",
    "        strategy_ranges = [range(game.num_strategies[p]) if p != player else [strategy] for p in range(n)]\n",
    "        for indices in itertools.product(*strategy_ranges):\n",
    "            probability_combination = [probabilities[p][indices[p]] if p != player else 1 for p in range(n)]\n",
    "            payoff_value = game.payoffs[player][strategy]\n",
    "            for i, index in enumerate(indices):\n",
    "                if i != player:\n",
    "                    payoff_value = payoff_value[index]\n",
    "            payoff_term = payoff_value * sp.prod(probability_combination)\n",
    "\n",
    "            payoff += payoff_term\n",
    "        return payoff\n",
    "\n",
    "    def expected_payoff_from_mixed_strategy(player):\n",
    "        s = game.num_strategies[player]\n",
    "        total_payoff = 0\n",
    "        for strategy in range(s):\n",
    "            total_payoff += probabilities[player][strategy] * expected_payoff(player, strategy)\n",
    "        return total_payoff\n",
    "\n",
    "    payoff_differences_equations = []\n",
    "    for player in range(n):\n",
    "        player_payoff_diff = []\n",
    "        for strategy in range(game.num_strategies[player]):\n",
    "            diff = expected_payoff(player, strategy) - expected_payoff_from_mixed_strategy(player)\n",
    "            player_payoff_diff.append(diff)\n",
    "        payoff_differences_equations.append(player_payoff_diff)\n",
    "\n",
    "    # Flatten the list of lists\n",
    "    flat_payoff_differences_equations = [diff for sublist in payoff_differences_equations for diff in sublist]\n",
    "\n",
    "    return flat_payoff_differences_equations"
   ]
  },
  {
   "cell_type": "code",
   "execution_count": null,
   "id": "820a1290-0885-4669-a3fe-e6c1ba86d8c1",
   "metadata": {},
   "outputs": [],
   "source": [
    "def calculate_jacobian(game):\n",
    "    # Get the flattened payoff difference equations\n",
    "    payoff_differences_equations = calculate_expected_payoff_diff_equations_fj(game)\n",
    "    \n",
    "    n = game.num_players\n",
    "    probabilities = [[sp.Symbol(f'p{i+1}{j+1}') for j in range(game.num_strategies[i])] for i in range(n)]\n",
    "\n",
    "    # Flatten the list of probability variables\n",
    "    flat_probabilities = [p for sublist in probabilities for p in sublist]\n",
    "\n",
    "    # Calculate the Jacobian\n",
    "    jacobian_matrix = sp.Matrix(payoff_differences_equations).jacobian(flat_probabilities)\n",
    "\n",
    "    return jacobian_matrix"
   ]
  }
 ],
 "metadata": {
  "kernelspec": {
   "display_name": "Python 3 (ipykernel)",
   "language": "python",
   "name": "python3"
  },
  "language_info": {
   "codemirror_mode": {
    "name": "ipython",
    "version": 3
   },
   "file_extension": ".py",
   "mimetype": "text/x-python",
   "name": "python",
   "nbconvert_exporter": "python",
   "pygments_lexer": "ipython3",
   "version": "3.11.2"
  }
 },
 "nbformat": 4,
 "nbformat_minor": 5
}
