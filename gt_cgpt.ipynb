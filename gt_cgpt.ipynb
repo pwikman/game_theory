{
 "cells": [
  {
   "cell_type": "code",
   "execution_count": 216,
   "id": "1b508d2d-a7b1-4864-aabf-1b3e139b4565",
   "metadata": {},
   "outputs": [],
   "source": [
    "import sympy as sp\n",
    "import itertools\n",
    "import pypolsys\n",
    "import numpy as np\n",
    "import numpy as np\n",
    "from itertools import chain, combinations, product\n",
    "from typing import List, Iterator, Tuple, Any, Generator"
   ]
  },
  {
   "cell_type": "code",
   "execution_count": 12,
   "id": "19b05418-edd0-41c8-8f7d-f8177029d446",
   "metadata": {},
   "outputs": [],
   "source": [
    "class Game:\n",
    "    def __init__(self, num_players, num_strategies, payoffs):\n",
    "        self.num_players = num_players\n",
    "        self.num_strategies = num_strategies\n",
    "        self.payoffs = payoffs\n",
    "        #self.indices_combinations = indices_combinations\n",
    "\n",
    "\n",
    "def create_n_player_game(payoffs):\n",
    "    num_players = len(payoffs)\n",
    "    num_strategies = [len(payoffs[i]) for i in range(num_players)]\n",
    "    #indices_combinations = list(itertools.product(*[range(num_players)] * len(num_strategies)))\n",
    "\n",
    "    return Game(num_players, num_strategies, payoffs)"
   ]
  },
  {
   "cell_type": "code",
   "execution_count": 252,
   "id": "05a7cac3-130b-40ca-bf8c-04877519991a",
   "metadata": {},
   "outputs": [
    {
     "data": {
      "text/plain": [
       "(3, [2, 2, 2], [9, 0])"
      ]
     },
     "execution_count": 252,
     "metadata": {},
     "output_type": "execute_result"
    }
   ],
   "source": [
    "payoffs = [\n",
    "    [\n",
    "        [\n",
    "            [9, 0],\n",
    "            [0, 3]\n",
    "        ],\n",
    "        [\n",
    "            [0, 3],\n",
    "            [9, 0]\n",
    "        ]\n",
    "    ],\n",
    "    [\n",
    "        [\n",
    "            [8, 0],\n",
    "            [0, 4]\n",
    "        ],\n",
    "        [\n",
    "            [0, 4],\n",
    "            [8, 0]\n",
    "        ]\n",
    "    ],\n",
    "    [\n",
    "        [\n",
    "            [12, 0],\n",
    "            [0, 2]\n",
    "        ],\n",
    "        [\n",
    "            [0, 6],\n",
    "            [6, 0]\n",
    "        ]\n",
    "    ]\n",
    "    ]\n",
    "\n",
    "game = create_n_player_game(payoffs)\n",
    "game.num_players, game.num_strategies, game.payoffs[0][0][0]"
   ]
  },
  {
   "cell_type": "code",
   "execution_count": 159,
   "id": "ff88c33d-26b5-4229-999b-2879b6bbe470",
   "metadata": {},
   "outputs": [
    {
     "data": {
      "text/plain": [
       "list"
      ]
     },
     "execution_count": 159,
     "metadata": {},
     "output_type": "execute_result"
    }
   ],
   "source": []
  },
  {
   "cell_type": "code",
   "execution_count": 251,
   "id": "42ec05f6-1ac7-4778-be84-11199105a403",
   "metadata": {},
   "outputs": [
    {
     "data": {
      "text/plain": [
       "(2,\n",
       " [3, 3],\n",
       " [[[1, 0, 0], [0, 1, 0], [0, 0, 1]], [[1, 0, 0], [0, 1, 0], [0, 0, 1]]])"
      ]
     },
     "execution_count": 251,
     "metadata": {},
     "output_type": "execute_result"
    }
   ],
   "source": [
    "payoffs2 = [\n",
    "    [\n",
    "        [\n",
    "            1,\n",
    "            0,\n",
    "            0\n",
    "        ],\n",
    "        [\n",
    "            0,\n",
    "            1,\n",
    "            0\n",
    "        ],\n",
    "        [\n",
    "            0,\n",
    "            0,\n",
    "            1\n",
    "        ]\n",
    "    ],\n",
    "    [\n",
    "        [\n",
    "            1,\n",
    "            0,\n",
    "            0\n",
    "        ],\n",
    "        [\n",
    "            0,\n",
    "            1,\n",
    "            0\n",
    "        ],\n",
    "        [\n",
    "            0,\n",
    "            0,\n",
    "            1\n",
    "        ]\n",
    "    ]\n",
    "]\n",
    "\n",
    "game2 = create_n_player_game(payoffs2)\n",
    "game2.num_players, game2.num_strategies, game2.payoffs"
   ]
  },
  {
   "cell_type": "code",
   "execution_count": 29,
   "id": "22df4bcc-30ef-4112-9305-a1721469777f",
   "metadata": {},
   "outputs": [
    {
     "data": {
      "text/plain": [
       "(3, [3, 2, 2], 9)"
      ]
     },
     "execution_count": 29,
     "metadata": {},
     "output_type": "execute_result"
    }
   ],
   "source": [
    "payoffs3 = [\n",
    "    [\n",
    "        [\n",
    "            [9, 0],\n",
    "            [0, 3]\n",
    "        ],\n",
    "        [\n",
    "            [0, 3],\n",
    "            [9, 0]\n",
    "        ]\n",
    "        ,\n",
    "        [\n",
    "            [0, 1],\n",
    "            [2, 3]\n",
    "        ]\n",
    "    ],\n",
    "    [\n",
    "        [\n",
    "            [8, 0],\n",
    "            [0, 4],\n",
    "            [2, 3]\n",
    "        ],\n",
    "        [\n",
    "            [0, 4],\n",
    "            [8, 0],\n",
    "            [5, 7]\n",
    "        ]\n",
    "    ],\n",
    "    [\n",
    "        [\n",
    "            [12, 0],\n",
    "            [0, 2],\n",
    "            [1, 1]\n",
    "        ],\n",
    "        [\n",
    "            [0, 6],\n",
    "            [6, 0],\n",
    "            [2, 3]\n",
    "        ]\n",
    "    ]\n",
    "]\n",
    "\n",
    "game3 = create_n_player_game(payoffs3)\n",
    "game3.num_players, game3.num_strategies, game3.payoffs[0][0][0][0]"
   ]
  },
  {
   "cell_type": "code",
   "execution_count": 30,
   "id": "3c3c0842-ab14-4f2b-90a1-352416cb43ce",
   "metadata": {},
   "outputs": [
    {
     "data": {
      "text/plain": [
       "(4,\n",
       " [2, 2, 2, 2],\n",
       " [array([[[[ 1,  2],\n",
       "           [ 3,  4]],\n",
       "  \n",
       "          [[ 5,  6],\n",
       "           [ 7,  8]]],\n",
       "  \n",
       "  \n",
       "         [[[ 9, 10],\n",
       "           [11, 12]],\n",
       "  \n",
       "          [[13, 14],\n",
       "           [15, 16]]]]),\n",
       "  array([[[[17, 18],\n",
       "           [19, 20]],\n",
       "  \n",
       "          [[21, 22],\n",
       "           [23, 24]]],\n",
       "  \n",
       "  \n",
       "         [[[25, 26],\n",
       "           [27, 28]],\n",
       "  \n",
       "          [[29, 30],\n",
       "           [31, 32]]]]),\n",
       "  array([[[[33, 34],\n",
       "           [35, 36]],\n",
       "  \n",
       "          [[37, 38],\n",
       "           [39, 40]]],\n",
       "  \n",
       "  \n",
       "         [[[41, 42],\n",
       "           [43, 44]],\n",
       "  \n",
       "          [[45, 46],\n",
       "           [47, 48]]]]),\n",
       "  array([[[[49, 50],\n",
       "           [51, 52]],\n",
       "  \n",
       "          [[53, 54],\n",
       "           [55, 56]]],\n",
       "  \n",
       "  \n",
       "         [[[57, 58],\n",
       "           [59, 60]],\n",
       "  \n",
       "          [[61, 62],\n",
       "           [63, 64]]]])])"
      ]
     },
     "execution_count": 30,
     "metadata": {},
     "output_type": "execute_result"
    }
   ],
   "source": [
    "payoffs4 = [\n",
    "    np.array([\n",
    "        [[[1, 2], [3, 4]], [[5, 6], [7, 8]]],\n",
    "        [[[9, 10], [11, 12]], [[13, 14], [15, 16]]]\n",
    "    ]),\n",
    "    np.array([\n",
    "        [[[17, 18], [19, 20]], [[21, 22], [23, 24]]],\n",
    "        [[[25, 26], [27, 28]], [[29, 30], [31, 32]]]\n",
    "    ]),\n",
    "    np.array([\n",
    "        [[[33, 34], [35, 36]], [[37, 38], [39, 40]]],\n",
    "        [[[41, 42], [43, 44]], [[45, 46], [47, 48]]]\n",
    "    ]),\n",
    "    np.array([\n",
    "        [[[49, 50], [51, 52]], [[53, 54], [55, 56]]],\n",
    "        [[[57, 58], [59, 60]], [[61, 62], [63, 64]]]\n",
    "    ])\n",
    "]\n",
    "game4 = create_n_player_game(payoffs4)\n",
    "game4.num_players, game4.num_strategies, game4.payoffs"
   ]
  },
  {
   "cell_type": "code",
   "execution_count": 25,
   "id": "4408125f-bade-417a-804c-8ad572c59ce0",
   "metadata": {},
   "outputs": [],
   "source": [
    "def calculate_expected_payoff_diff_equations(game):\n",
    "    n = game.num_players\n",
    "    # Create symbolic probability variables\n",
    "    probabilities = [[sp.Symbol(f'p{i+1}{j+1}') for j in range(game.num_strategies[i])] for i in range(n)]\n",
    "\n",
    "    def expected_payoff(player, strategy):\n",
    "        s = game.num_strategies[player]\n",
    "        payoff = 0\n",
    "\n",
    "        # Create a modified list of strategy ranges, replacing the player's strategy range with [strategy]\n",
    "        strategy_ranges = [range(game.num_strategies[p]) if p != player else [strategy] for p in range(n)]\n",
    "        for indices in itertools.product(*strategy_ranges):\n",
    "            probability_combination = [probabilities[p][indices[p]] if p != player else 1 for p in range(n)]\n",
    "            payoff_value = game.payoffs[player][strategy]\n",
    "            for i, index in enumerate(indices):\n",
    "                if i != player:\n",
    "                    payoff_value = payoff_value[index]\n",
    "            payoff_term = payoff_value * sp.prod(probability_combination)\n",
    "\n",
    "            payoff += payoff_term\n",
    "        return payoff\n",
    "\n",
    "    payoff_differences_equations = []\n",
    "    for player in range(n):\n",
    "        player_payoff_diff = []\n",
    "        for strategy in range(game.num_strategies[player]-1):\n",
    "            diff = expected_payoff(player, strategy) - expected_payoff(player, game.num_strategies[player]-1)\n",
    "            player_payoff_diff.append(diff)\n",
    "        payoff_differences_equations.append(player_payoff_diff)\n",
    "\n",
    "    # Flatten the list of lists\n",
    "    flat_payoff_differences_equations = [diff for sublist in payoff_differences_equations for diff in sublist]\n",
    "\n",
    "    return flat_payoff_differences_equations"
   ]
  },
  {
   "cell_type": "code",
   "execution_count": 161,
   "id": "b4257d02-4d31-4eee-944e-3f27d93b85f0",
   "metadata": {},
   "outputs": [
    {
     "data": {
      "text/plain": [
       "[Poly(p21 - p23, p11, p12, p13, p21, p22, p23, domain='ZZ'),\n",
       " Poly(p22 - p23, p11, p12, p13, p21, p22, p23, domain='ZZ'),\n",
       " Poly(p11 - p13, p11, p12, p13, p21, p22, p23, domain='ZZ'),\n",
       " Poly(p12 - p13, p11, p12, p13, p21, p22, p23, domain='ZZ'),\n",
       " Poly(p11 + p12 + p13 - 1, p11, p12, p13, p21, p22, p23, domain='ZZ'),\n",
       " Poly(p21 + p22 + p23 - 1, p11, p12, p13, p21, p22, p23, domain='ZZ')]"
      ]
     },
     "execution_count": 161,
     "metadata": {},
     "output_type": "execute_result"
    }
   ],
   "source": [
    "calculate_payoff_diff_and_prob_sum_equations(game2)"
   ]
  },
  {
   "cell_type": "code",
   "execution_count": 20,
   "id": "b6dd5012-712a-4731-9fc3-16e4eed5d117",
   "metadata": {},
   "outputs": [],
   "source": [
    "def calculate_expected_payoff_diff_equations_fj(game):\n",
    "    n = game.num_players\n",
    "    # Create symbolic probability variables\n",
    "    probabilities = [[sp.Symbol(f'p{i+1}{j+1}') for j in range(game.num_strategies[i])] for i in range(n)]\n",
    "\n",
    "    def expected_payoff(player, strategy):\n",
    "        s = game.num_strategies[player]\n",
    "        payoff = 0\n",
    "\n",
    "        # Create a modified list of strategy ranges, replacing the player's strategy range with [strategy]\n",
    "        strategy_ranges = [range(game.num_strategies[p]) if p != player else [strategy] for p in range(n)]\n",
    "        for indices in itertools.product(*strategy_ranges):\n",
    "            probability_combination = [probabilities[p][indices[p]] if p != player else 1 for p in range(n)]\n",
    "            payoff_value = game.payoffs[player][strategy]\n",
    "            for i, index in enumerate(indices):\n",
    "                if i != player:\n",
    "                    payoff_value = payoff_value[index]\n",
    "            payoff_term = payoff_value * sp.prod(probability_combination)\n",
    "\n",
    "            payoff += payoff_term\n",
    "        return payoff\n",
    "\n",
    "    def expected_payoff_from_mixed_strategy(player):\n",
    "        s = game.num_strategies[player]\n",
    "        total_payoff = 0\n",
    "        for strategy in range(s):\n",
    "            total_payoff += probabilities[player][strategy] * expected_payoff(player, strategy)\n",
    "        return total_payoff\n",
    "\n",
    "    payoff_differences_equations = []\n",
    "    for player in range(n):\n",
    "        player_payoff_diff = []\n",
    "        for strategy in range(game.num_strategies[player]):\n",
    "            diff = expected_payoff(player, strategy) - expected_payoff_from_mixed_strategy(player)\n",
    "            player_payoff_diff.append(diff)\n",
    "        payoff_differences_equations.append(player_payoff_diff)\n",
    "\n",
    "    # Flatten the list of lists\n",
    "    flat_payoff_differences_equations = [diff for sublist in payoff_differences_equations for diff in sublist]\n",
    "\n",
    "    return flat_payoff_differences_equations"
   ]
  },
  {
   "cell_type": "code",
   "execution_count": 21,
   "id": "820a1290-0885-4669-a3fe-e6c1ba86d8c1",
   "metadata": {},
   "outputs": [],
   "source": [
    "def calculate_jacobian(game):\n",
    "    # Get the flattened payoff difference equations\n",
    "    payoff_differences_equations = calculate_expected_payoff_diff_equations_fj(game)\n",
    "    \n",
    "    n = game.num_players\n",
    "    probabilities = [[sp.Symbol(f'p{i+1}{j+1}') for j in range(game.num_strategies[i])] for i in range(n)]\n",
    "\n",
    "    # Flatten the list of probability variables\n",
    "    flat_probabilities = [p for sublist in probabilities for p in sublist]\n",
    "\n",
    "    # Calculate the Jacobian\n",
    "    jacobian_matrix = sp.Matrix(payoff_differences_equations).jacobian(flat_probabilities)\n",
    "\n",
    "    return jacobian_matrix"
   ]
  },
  {
   "cell_type": "code",
   "execution_count": 22,
   "id": "74c68527-2ad4-4f69-a135-dee98e2e856c",
   "metadata": {},
   "outputs": [],
   "source": [
    "def calculate_payoff_diff_and_prob_sum_equations(game):\n",
    "    n = game.num_players\n",
    "    probabilities = [[sp.Symbol(f'p{i+1}{j+1}') for j in range(game.num_strategies[i])] for i in range(n)]\n",
    "\n",
    "    # Collect the equations in a list\n",
    "    equations = []\n",
    "    for player_payoff_diff in calculate_expected_payoff_diff_equations(game):\n",
    "        equations.append(sp.poly(player_payoff_diff , *[p for player_probs in probabilities for p in player_probs]))\n",
    "\n",
    "    for player_probs in probabilities:\n",
    "        prob_sum_eq = sum(player_probs) - 1\n",
    "        equations.append(sp.poly(prob_sum_eq, *[p for player_probs in probabilities for p in player_probs]))\n",
    "\n",
    "\n",
    "    return equations"
   ]
  },
  {
   "cell_type": "code",
   "execution_count": 23,
   "id": "2016c5c2-e0eb-41aa-a5b6-220828c8322a",
   "metadata": {},
   "outputs": [],
   "source": [
    "def nash_solver(game, tol):\n",
    "    D = sum(game.num_strategies)\n",
    "    pol = pypolsys.utils.fromSympy(calculate_payoff_diff_and_prob_sum_equations(game))\n",
    "    pypolsys.polsys.init_poly(*pol)\n",
    "    part = pypolsys.utils.make_h_part(D)\n",
    "    pypolsys.polsys.init_partition(*part)\n",
    "    bplp = pypolsys.polsys.solve(1e-8, 1e-15, 0.0)\n",
    "    r = pypolsys.polsys.myroots\n",
    "    def remove_near_zero_complex(array, tol):\n",
    "        # Check if the imaginary or real part of any element in a row is close to zero\n",
    "        is_complex_close_to_zero = lambda row: any(x.real <= 0 or abs(x.imag) > tol for x in row)\n",
    "    \n",
    "        # Create a mask to filter out rows with complex elements close to zero\n",
    "        mask = np.array([not is_complex_close_to_zero(row) for row in array])\n",
    "    \n",
    "        # Return the real parts of the filtered array\n",
    "        return np.real(array[mask])\n",
    "    return remove_near_zero_complex(r[:D,:].transpose(), tol)\n",
    "    "
   ]
  },
  {
   "cell_type": "code",
   "execution_count": 162,
   "id": "f5535958-303e-4e08-a00d-500fc4a8bb41",
   "metadata": {},
   "outputs": [
    {
     "data": {
      "text/plain": [
       "array([[0.33333333, 0.33333333, 0.33333333, 0.33333333, 0.33333333,\n",
       "        0.33333333]])"
      ]
     },
     "execution_count": 162,
     "metadata": {},
     "output_type": "execute_result"
    }
   ],
   "source": [
    "nash_solver(game2, 1e-6)"
   ]
  },
  {
   "cell_type": "code",
   "execution_count": 320,
   "id": "59e11b46-fb0f-4840-be31-13583f0f5c4b",
   "metadata": {},
   "outputs": [],
   "source": [
    "def powerset(iterable):\n",
    "    s = list(iterable)\n",
    "    return chain.from_iterable(combinations(s, r) for r in range(1, len(s) + 1))\n"
   ]
  },
  {
   "cell_type": "code",
   "execution_count": 325,
   "id": "d749d2e0-5b8a-4c24-bd21-9e942315860d",
   "metadata": {},
   "outputs": [],
   "source": [
    "def potential_support_pairs(game):\n",
    "    num_strategies = game.num_strategies\n",
    "    support_sets = [sorted(list(powerset(range(num))), key=lambda x: (len(x), x)) for num in num_strategies]\n",
    "\n",
    "    combined_supports_list = list(product(*support_sets))\n",
    "    sorted_combined_supports_list = sorted(combined_supports_list, key=lambda x: (sum(len(y) for y in x), max(len(y) for y in x) - min(len(y) for y in x), x))\n",
    "\n",
    "    for sorted_combined_supports in sorted_combined_supports_list:\n",
    "        yield sorted_combined_supports"
   ]
  },
  {
   "cell_type": "code",
   "execution_count": 327,
   "id": "b99493a6-55f1-4e94-83d0-4be20e9f85e3",
   "metadata": {},
   "outputs": [
    {
     "name": "stdout",
     "output_type": "stream",
     "text": [
      "((0,), (0,), (0,))\n",
      "((0,), (0,), (1,))\n",
      "((0,), (1,), (0,))\n",
      "((0,), (1,), (1,))\n",
      "((1,), (0,), (0,))\n",
      "((1,), (0,), (1,))\n",
      "((1,), (1,), (0,))\n",
      "((1,), (1,), (1,))\n",
      "((2,), (0,), (0,))\n",
      "((2,), (0,), (1,))\n",
      "((2,), (1,), (0,))\n",
      "((2,), (1,), (1,))\n",
      "((0,), (0,), (0, 1))\n",
      "((0,), (0, 1), (0,))\n",
      "((0,), (0, 1), (1,))\n",
      "((0,), (1,), (0, 1))\n",
      "((0, 1), (0,), (0,))\n",
      "((0, 1), (0,), (1,))\n",
      "((0, 1), (1,), (0,))\n",
      "((0, 1), (1,), (1,))\n",
      "((0, 2), (0,), (0,))\n",
      "((0, 2), (0,), (1,))\n",
      "((0, 2), (1,), (0,))\n",
      "((0, 2), (1,), (1,))\n",
      "((1,), (0,), (0, 1))\n",
      "((1,), (0, 1), (0,))\n",
      "((1,), (0, 1), (1,))\n",
      "((1,), (1,), (0, 1))\n",
      "((1, 2), (0,), (0,))\n",
      "((1, 2), (0,), (1,))\n",
      "((1, 2), (1,), (0,))\n",
      "((1, 2), (1,), (1,))\n",
      "((2,), (0,), (0, 1))\n",
      "((2,), (0, 1), (0,))\n",
      "((2,), (0, 1), (1,))\n",
      "((2,), (1,), (0, 1))\n",
      "((0,), (0, 1), (0, 1))\n",
      "((0, 1), (0,), (0, 1))\n",
      "((0, 1), (0, 1), (0,))\n",
      "((0, 1), (0, 1), (1,))\n",
      "((0, 1), (1,), (0, 1))\n",
      "((0, 2), (0,), (0, 1))\n",
      "((0, 2), (0, 1), (0,))\n",
      "((0, 2), (0, 1), (1,))\n",
      "((0, 2), (1,), (0, 1))\n",
      "((1,), (0, 1), (0, 1))\n",
      "((1, 2), (0,), (0, 1))\n",
      "((1, 2), (0, 1), (0,))\n",
      "((1, 2), (0, 1), (1,))\n",
      "((1, 2), (1,), (0, 1))\n",
      "((2,), (0, 1), (0, 1))\n",
      "((0, 1, 2), (0,), (0,))\n",
      "((0, 1, 2), (0,), (1,))\n",
      "((0, 1, 2), (1,), (0,))\n",
      "((0, 1, 2), (1,), (1,))\n",
      "((0, 1), (0, 1), (0, 1))\n",
      "((0, 2), (0, 1), (0, 1))\n",
      "((1, 2), (0, 1), (0, 1))\n",
      "((0, 1, 2), (0,), (0, 1))\n",
      "((0, 1, 2), (0, 1), (0,))\n",
      "((0, 1, 2), (0, 1), (1,))\n",
      "((0, 1, 2), (1,), (0, 1))\n",
      "((0, 1, 2), (0, 1), (0, 1))\n"
     ]
    }
   ],
   "source": [
    "for i in potential_support_pairs(game3):\n",
    "    print(i)"
   ]
  },
  {
   "cell_type": "code",
   "execution_count": 314,
   "id": "86ac44ea-977f-46d0-a74b-9a6906244d2d",
   "metadata": {},
   "outputs": [],
   "source": [
    "def payoff_player(payoff, indices):\n",
    "    #print(\"Payoffs:\", payoff, \"Indices:\", indices)\n",
    "    indices = list(indices)\n",
    "    index = indices.pop(0)\n",
    "    t_payoff = [payoff[i] for i in index]\n",
    "    for i, pay in enumerate(t_payoff):\n",
    "        if len(indices)>0:\n",
    "            pay_1 = payoff_player(pay, indices)\n",
    "            t_payoff[i] = pay_1\n",
    "        else:\n",
    "            t_payoff[i] = pay\n",
    "    return t_payoff\n",
    "\n",
    "def block_game(payoffs, indices):\n",
    "    block = []\n",
    "    for p, payoff in enumerate(payoffs):\n",
    "        index =  [*indices]\n",
    "        index.pop(p)\n",
    "        indexes = tuple([indices[p], *index])\n",
    "        block_n = payoff_player(payoff, indexes)\n",
    "        block.append(block_n)\n",
    "    return block"
   ]
  },
  {
   "cell_type": "code",
   "execution_count": 313,
   "id": "21044faf-71df-42dd-9022-98f14abc27a3",
   "metadata": {},
   "outputs": [
    {
     "data": {
      "text/plain": [
       "[[[[0], [9]], [[0], [2]]], [[[0], [2]], [[8], [5]]], [[[0, 2], [1, 1]]]]"
      ]
     },
     "execution_count": 313,
     "metadata": {},
     "output_type": "execute_result"
    }
   ],
   "source": [
    "block_game(payoffs3,((1,2,), (0,1),(0,)))"
   ]
  },
  {
   "cell_type": "code",
   "execution_count": 316,
   "id": "59d53a0a-e66d-4123-bc99-17dce79277c8",
   "metadata": {},
   "outputs": [
    {
     "name": "stdout",
     "output_type": "stream",
     "text": [
      "[[[[[1]]]], [[[[17]]]], [[[[33]]]], [[[[49]]]]]\n",
      "[[[[[2]]]], [[[[18]]]], [[[[34]]]], [[[[57]]]]]\n",
      "[[[[[3]]]], [[[[19]]]], [[[[41]]]], [[[[50]]]]]\n",
      "[[[[[4]]]], [[[[20]]]], [[[[42]]]], [[[[58]]]]]\n",
      "[[[[[5]]]], [[[[25]]]], [[[[35]]]], [[[[51]]]]]\n",
      "[[[[[6]]]], [[[[26]]]], [[[[36]]]], [[[[59]]]]]\n",
      "[[[[[7]]]], [[[[27]]]], [[[[43]]]], [[[[52]]]]]\n",
      "[[[[[8]]]], [[[[28]]]], [[[[44]]]], [[[[60]]]]]\n",
      "[[[[[9]]]], [[[[21]]]], [[[[37]]]], [[[[53]]]]]\n",
      "[[[[[10]]]], [[[[22]]]], [[[[38]]]], [[[[61]]]]]\n",
      "[[[[[11]]]], [[[[23]]]], [[[[45]]]], [[[[54]]]]]\n",
      "[[[[[12]]]], [[[[24]]]], [[[[46]]]], [[[[62]]]]]\n",
      "[[[[[13]]]], [[[[29]]]], [[[[39]]]], [[[[55]]]]]\n",
      "[[[[[14]]]], [[[[30]]]], [[[[40]]]], [[[[63]]]]]\n",
      "[[[[[15]]]], [[[[31]]]], [[[[47]]]], [[[[56]]]]]\n",
      "[[[[[16]]]], [[[[32]]]], [[[[48]]]], [[[[64]]]]]\n",
      "[[[[[1, 2]]]], [[[[17, 18]]]], [[[[33, 34]]]], [[[[49]]], [[[57]]]]]\n",
      "[[[[[3, 4]]]], [[[[19, 20]]]], [[[[41, 42]]]], [[[[50]]], [[[58]]]]]\n",
      "[[[[[1], [3]]]], [[[[17], [19]]]], [[[[33]]], [[[41]]]], [[[[49, 50]]]]]\n",
      "[[[[[2], [4]]]], [[[[18], [20]]]], [[[[34]]], [[[42]]]], [[[[57, 58]]]]]\n",
      "[[[[[5, 6]]]], [[[[25, 26]]]], [[[[35, 36]]]], [[[[51]]], [[[59]]]]]\n",
      "[[[[[7, 8]]]], [[[[27, 28]]]], [[[[43, 44]]]], [[[[52]]], [[[60]]]]]\n",
      "[[[[[5], [7]]]], [[[[25], [27]]]], [[[[35]]], [[[43]]]], [[[[51, 52]]]]]\n",
      "[[[[[6], [8]]]], [[[[26], [28]]]], [[[[36]]], [[[44]]]], [[[[59, 60]]]]]\n",
      "[[[[[1]], [[5]]]], [[[[17]]], [[[25]]]], [[[[33], [35]]]], [[[[49], [51]]]]]\n",
      "[[[[[2]], [[6]]]], [[[[18]]], [[[26]]]], [[[[34], [36]]]], [[[[57], [59]]]]]\n",
      "[[[[[3]], [[7]]]], [[[[19]]], [[[27]]]], [[[[41], [43]]]], [[[[50], [52]]]]]\n",
      "[[[[[4]], [[8]]]], [[[[20]]], [[[28]]]], [[[[42], [44]]]], [[[[58], [60]]]]]\n",
      "[[[[[9, 10]]]], [[[[21, 22]]]], [[[[37, 38]]]], [[[[53]]], [[[61]]]]]\n",
      "[[[[[11, 12]]]], [[[[23, 24]]]], [[[[45, 46]]]], [[[[54]]], [[[62]]]]]\n",
      "[[[[[9], [11]]]], [[[[21], [23]]]], [[[[37]]], [[[45]]]], [[[[53, 54]]]]]\n",
      "[[[[[10], [12]]]], [[[[22], [24]]]], [[[[38]]], [[[46]]]], [[[[61, 62]]]]]\n",
      "[[[[[13, 14]]]], [[[[29, 30]]]], [[[[39, 40]]]], [[[[55]]], [[[63]]]]]\n",
      "[[[[[15, 16]]]], [[[[31, 32]]]], [[[[47, 48]]]], [[[[56]]], [[[64]]]]]\n",
      "[[[[[13], [15]]]], [[[[29], [31]]]], [[[[39]]], [[[47]]]], [[[[55, 56]]]]]\n",
      "[[[[[14], [16]]]], [[[[30], [32]]]], [[[[40]]], [[[48]]]], [[[[63, 64]]]]]\n",
      "[[[[[9]], [[13]]]], [[[[21]]], [[[29]]]], [[[[37], [39]]]], [[[[53], [55]]]]]\n",
      "[[[[[10]], [[14]]]], [[[[22]]], [[[30]]]], [[[[38], [40]]]], [[[[61], [63]]]]]\n",
      "[[[[[11]], [[15]]]], [[[[23]]], [[[31]]]], [[[[45], [47]]]], [[[[54], [56]]]]]\n",
      "[[[[[12]], [[16]]]], [[[[24]]], [[[32]]]], [[[[46], [48]]]], [[[[62], [64]]]]]\n",
      "[[[[[1]]], [[[9]]]], [[[[17]], [[21]]]], [[[[33]], [[37]]]], [[[[49]], [[53]]]]]\n",
      "[[[[[2]]], [[[10]]]], [[[[18]], [[22]]]], [[[[34]], [[38]]]], [[[[57]], [[61]]]]]\n",
      "[[[[[3]]], [[[11]]]], [[[[19]], [[23]]]], [[[[41]], [[45]]]], [[[[50]], [[54]]]]]\n",
      "[[[[[4]]], [[[12]]]], [[[[20]], [[24]]]], [[[[42]], [[46]]]], [[[[58]], [[62]]]]]\n",
      "[[[[[5]]], [[[13]]]], [[[[25]], [[29]]]], [[[[35]], [[39]]]], [[[[51]], [[55]]]]]\n",
      "[[[[[6]]], [[[14]]]], [[[[26]], [[30]]]], [[[[36]], [[40]]]], [[[[59]], [[63]]]]]\n",
      "[[[[[7]]], [[[15]]]], [[[[27]], [[31]]]], [[[[43]], [[47]]]], [[[[52]], [[56]]]]]\n",
      "[[[[[8]]], [[[16]]]], [[[[28]], [[32]]]], [[[[44]], [[48]]]], [[[[60]], [[64]]]]]\n",
      "[[[[[1, 2], [3, 4]]]], [[[[17, 18], [19, 20]]]], [[[[33, 34]]], [[[41, 42]]]], [[[[49, 50]]], [[[57, 58]]]]]\n",
      "[[[[[5, 6], [7, 8]]]], [[[[25, 26], [27, 28]]]], [[[[35, 36]]], [[[43, 44]]]], [[[[51, 52]]], [[[59, 60]]]]]\n",
      "[[[[[1, 2]], [[5, 6]]]], [[[[17, 18]]], [[[25, 26]]]], [[[[33, 34], [35, 36]]]], [[[[49], [51]]], [[[57], [59]]]]]\n",
      "[[[[[3, 4]], [[7, 8]]]], [[[[19, 20]]], [[[27, 28]]]], [[[[41, 42], [43, 44]]]], [[[[50], [52]]], [[[58], [60]]]]]\n",
      "[[[[[1], [3]], [[5], [7]]]], [[[[17], [19]]], [[[25], [27]]]], [[[[33], [35]]], [[[41], [43]]]], [[[[49, 50], [51, 52]]]]]\n",
      "[[[[[2], [4]], [[6], [8]]]], [[[[18], [20]]], [[[26], [28]]]], [[[[34], [36]]], [[[42], [44]]]], [[[[57, 58], [59, 60]]]]]\n",
      "[[[[[9, 10], [11, 12]]]], [[[[21, 22], [23, 24]]]], [[[[37, 38]]], [[[45, 46]]]], [[[[53, 54]]], [[[61, 62]]]]]\n",
      "[[[[[13, 14], [15, 16]]]], [[[[29, 30], [31, 32]]]], [[[[39, 40]]], [[[47, 48]]]], [[[[55, 56]]], [[[63, 64]]]]]\n",
      "[[[[[9, 10]], [[13, 14]]]], [[[[21, 22]]], [[[29, 30]]]], [[[[37, 38], [39, 40]]]], [[[[53], [55]]], [[[61], [63]]]]]\n",
      "[[[[[11, 12]], [[15, 16]]]], [[[[23, 24]]], [[[31, 32]]]], [[[[45, 46], [47, 48]]]], [[[[54], [56]]], [[[62], [64]]]]]\n",
      "[[[[[9], [11]], [[13], [15]]]], [[[[21], [23]]], [[[29], [31]]]], [[[[37], [39]]], [[[45], [47]]]], [[[[53, 54], [55, 56]]]]]\n",
      "[[[[[10], [12]], [[14], [16]]]], [[[[22], [24]]], [[[30], [32]]]], [[[[38], [40]]], [[[46], [48]]]], [[[[61, 62], [63, 64]]]]]\n",
      "[[[[[1, 2]]], [[[9, 10]]]], [[[[17, 18]], [[21, 22]]]], [[[[33, 34]], [[37, 38]]]], [[[[49]], [[53]]], [[[57]], [[61]]]]]\n",
      "[[[[[3, 4]]], [[[11, 12]]]], [[[[19, 20]], [[23, 24]]]], [[[[41, 42]], [[45, 46]]]], [[[[50]], [[54]]], [[[58]], [[62]]]]]\n",
      "[[[[[1], [3]]], [[[9], [11]]]], [[[[17], [19]], [[21], [23]]]], [[[[33]], [[37]]], [[[41]], [[45]]]], [[[[49, 50]], [[53, 54]]]]]\n",
      "[[[[[2], [4]]], [[[10], [12]]]], [[[[18], [20]], [[22], [24]]]], [[[[34]], [[38]]], [[[42]], [[46]]]], [[[[57, 58]], [[61, 62]]]]]\n",
      "[[[[[5, 6]]], [[[13, 14]]]], [[[[25, 26]], [[29, 30]]]], [[[[35, 36]], [[39, 40]]]], [[[[51]], [[55]]], [[[59]], [[63]]]]]\n",
      "[[[[[7, 8]]], [[[15, 16]]]], [[[[27, 28]], [[31, 32]]]], [[[[43, 44]], [[47, 48]]]], [[[[52]], [[56]]], [[[60]], [[64]]]]]\n",
      "[[[[[5], [7]]], [[[13], [15]]]], [[[[25], [27]], [[29], [31]]]], [[[[35]], [[39]]], [[[43]], [[47]]]], [[[[51, 52]], [[55, 56]]]]]\n",
      "[[[[[6], [8]]], [[[14], [16]]]], [[[[26], [28]], [[30], [32]]]], [[[[36]], [[40]]], [[[44]], [[48]]]], [[[[59, 60]], [[63, 64]]]]]\n",
      "[[[[[1]], [[5]]], [[[9]], [[13]]]], [[[[17]], [[21]]], [[[25]], [[29]]]], [[[[33], [35]], [[37], [39]]]], [[[[49], [51]], [[53], [55]]]]]\n",
      "[[[[[2]], [[6]]], [[[10]], [[14]]]], [[[[18]], [[22]]], [[[26]], [[30]]]], [[[[34], [36]], [[38], [40]]]], [[[[57], [59]], [[61], [63]]]]]\n",
      "[[[[[3]], [[7]]], [[[11]], [[15]]]], [[[[19]], [[23]]], [[[27]], [[31]]]], [[[[41], [43]], [[45], [47]]]], [[[[50], [52]], [[54], [56]]]]]\n",
      "[[[[[4]], [[8]]], [[[12]], [[16]]]], [[[[20]], [[24]]], [[[28]], [[32]]]], [[[[42], [44]], [[46], [48]]]], [[[[58], [60]], [[62], [64]]]]]\n",
      "[[[[[1, 2], [3, 4]], [[5, 6], [7, 8]]]], [[[[17, 18], [19, 20]]], [[[25, 26], [27, 28]]]], [[[[33, 34], [35, 36]]], [[[41, 42], [43, 44]]]], [[[[49, 50], [51, 52]]], [[[57, 58], [59, 60]]]]]\n",
      "[[[[[9, 10], [11, 12]], [[13, 14], [15, 16]]]], [[[[21, 22], [23, 24]]], [[[29, 30], [31, 32]]]], [[[[37, 38], [39, 40]]], [[[45, 46], [47, 48]]]], [[[[53, 54], [55, 56]]], [[[61, 62], [63, 64]]]]]\n",
      "[[[[[1, 2], [3, 4]]], [[[9, 10], [11, 12]]]], [[[[17, 18], [19, 20]], [[21, 22], [23, 24]]]], [[[[33, 34]], [[37, 38]]], [[[41, 42]], [[45, 46]]]], [[[[49, 50]], [[53, 54]]], [[[57, 58]], [[61, 62]]]]]\n",
      "[[[[[5, 6], [7, 8]]], [[[13, 14], [15, 16]]]], [[[[25, 26], [27, 28]], [[29, 30], [31, 32]]]], [[[[35, 36]], [[39, 40]]], [[[43, 44]], [[47, 48]]]], [[[[51, 52]], [[55, 56]]], [[[59, 60]], [[63, 64]]]]]\n",
      "[[[[[1, 2]], [[5, 6]]], [[[9, 10]], [[13, 14]]]], [[[[17, 18]], [[21, 22]]], [[[25, 26]], [[29, 30]]]], [[[[33, 34], [35, 36]], [[37, 38], [39, 40]]]], [[[[49], [51]], [[53], [55]]], [[[57], [59]], [[61], [63]]]]]\n",
      "[[[[[3, 4]], [[7, 8]]], [[[11, 12]], [[15, 16]]]], [[[[19, 20]], [[23, 24]]], [[[27, 28]], [[31, 32]]]], [[[[41, 42], [43, 44]], [[45, 46], [47, 48]]]], [[[[50], [52]], [[54], [56]]], [[[58], [60]], [[62], [64]]]]]\n",
      "[[[[[1], [3]], [[5], [7]]], [[[9], [11]], [[13], [15]]]], [[[[17], [19]], [[21], [23]]], [[[25], [27]], [[29], [31]]]], [[[[33], [35]], [[37], [39]]], [[[41], [43]], [[45], [47]]]], [[[[49, 50], [51, 52]], [[53, 54], [55, 56]]]]]\n",
      "[[[[[2], [4]], [[6], [8]]], [[[10], [12]], [[14], [16]]]], [[[[18], [20]], [[22], [24]]], [[[26], [28]], [[30], [32]]]], [[[[34], [36]], [[38], [40]]], [[[42], [44]], [[46], [48]]]], [[[[57, 58], [59, 60]], [[61, 62], [63, 64]]]]]\n",
      "[[[[[1, 2], [3, 4]], [[5, 6], [7, 8]]], [[[9, 10], [11, 12]], [[13, 14], [15, 16]]]], [[[[17, 18], [19, 20]], [[21, 22], [23, 24]]], [[[25, 26], [27, 28]], [[29, 30], [31, 32]]]], [[[[33, 34], [35, 36]], [[37, 38], [39, 40]]], [[[41, 42], [43, 44]], [[45, 46], [47, 48]]]], [[[[49, 50], [51, 52]], [[53, 54], [55, 56]]], [[[57, 58], [59, 60]], [[61, 62], [63, 64]]]]]\n"
     ]
    }
   ],
   "source": [
    "for block in potential_support_pairs(game4):\n",
    "    print(block_game(payoffs4, block))"
   ]
  },
  {
   "cell_type": "code",
   "execution_count": null,
   "id": "b960ed78-7198-4986-920a-f4472cce2972",
   "metadata": {
    "jupyter": {
     "source_hidden": true
    },
    "tags": []
   },
   "outputs": [],
   "source": []
  }
 ],
 "metadata": {
  "kernelspec": {
   "display_name": "Python 3 (ipykernel)",
   "language": "python",
   "name": "python3"
  },
  "language_info": {
   "codemirror_mode": {
    "name": "ipython",
    "version": 3
   },
   "file_extension": ".py",
   "mimetype": "text/x-python",
   "name": "python",
   "nbconvert_exporter": "python",
   "pygments_lexer": "ipython3",
   "version": "3.11.2"
  }
 },
 "nbformat": 4,
 "nbformat_minor": 5
}
