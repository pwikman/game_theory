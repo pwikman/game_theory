{
 "cells": [
  {
   "cell_type": "code",
   "execution_count": 2,
   "metadata": {},
   "outputs": [],
   "source": [
    "import nashpy as nash\n",
    "import numpy as np"
   ]
  },
  {
   "cell_type": "code",
   "execution_count": 4,
   "metadata": {},
   "outputs": [],
   "source": [
    "A = np.array([[1, -1], [-1, 1]])\n",
    "game = nash.Game(A)"
   ]
  },
  {
   "cell_type": "code",
   "execution_count": 9,
   "metadata": {},
   "outputs": [],
   "source": [
    "A = np.array([[2, 2], [3, 0], [0, 1]])\n",
    "B = np.array([[2, 2], [1, 0], [0, 3]])\n",
    "game2 = nash.Game(A,B)"
   ]
  },
  {
   "cell_type": "code",
   "execution_count": 12,
   "metadata": {},
   "outputs": [
    {
     "ename": "TypeError",
     "evalue": "Game.lemke_howson() missing 1 required positional argument: 'initial_dropped_label'",
     "output_type": "error",
     "traceback": [
      "\u001b[0;31m---------------------------------------------------------------------------\u001b[0m",
      "\u001b[0;31mTypeError\u001b[0m                                 Traceback (most recent call last)",
      "\u001b[1;32m/home/peter/Dropbox/Research/Projects/Solution/python/game_blocks/notebooks/dev.ipynb Cell 4\u001b[0m line \u001b[0;36m1\n\u001b[0;32m----> <a href='vscode-notebook-cell:/home/peter/Dropbox/Research/Projects/Solution/python/game_blocks/notebooks/dev.ipynb#W2sZmlsZQ%3D%3D?line=0'>1</a>\u001b[0m equilibria \u001b[39m=\u001b[39m game2\u001b[39m.\u001b[39;49mlemke_howson()\n\u001b[1;32m      <a href='vscode-notebook-cell:/home/peter/Dropbox/Research/Projects/Solution/python/game_blocks/notebooks/dev.ipynb#W2sZmlsZQ%3D%3D?line=1'>2</a>\u001b[0m \u001b[39mfor\u001b[39;00m eq \u001b[39min\u001b[39;00m equilibria:\n\u001b[1;32m      <a href='vscode-notebook-cell:/home/peter/Dropbox/Research/Projects/Solution/python/game_blocks/notebooks/dev.ipynb#W2sZmlsZQ%3D%3D?line=2'>3</a>\u001b[0m     \u001b[39mprint\u001b[39m(eq)\n",
      "\u001b[0;31mTypeError\u001b[0m: Game.lemke_howson() missing 1 required positional argument: 'initial_dropped_label'"
     ]
    }
   ],
   "source": [
    "equilibria = game2.lemke_howson()\n",
    "for eq in equilibria:\n",
    "    print(eq)\n"
   ]
  }
 ],
 "metadata": {
  "kernelspec": {
   "display_name": "denv",
   "language": "python",
   "name": "python3"
  },
  "language_info": {
   "codemirror_mode": {
    "name": "ipython",
    "version": 3
   },
   "file_extension": ".py",
   "mimetype": "text/x-python",
   "name": "python",
   "nbconvert_exporter": "python",
   "pygments_lexer": "ipython3",
   "version": "3.11.2"
  },
  "orig_nbformat": 4
 },
 "nbformat": 4,
 "nbformat_minor": 2
}
