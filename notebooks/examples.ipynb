{
 "cells": [
  {
   "cell_type": "code",
   "execution_count": 43,
   "metadata": {},
   "outputs": [
    {
     "name": "stdout",
     "output_type": "stream",
     "text": [
      "The autoreload extension is already loaded. To reload it, use:\n",
      "  %reload_ext autoreload\n"
     ]
    }
   ],
   "source": [
    "# OPTIONAL: Load the \"autoreload\" extension so that code can change\n",
    "%load_ext autoreload\n",
    "\n",
    "# OPTIONAL: always reload modules so that as you change code in src, it gets loaded\n",
    "%autoreload 2\n",
    "from src.models.game_class import Game, create_n_player_game\n",
    "from src.models.gt_get_all_ne_generic import ne_solver\n",
    "from src.models.gt_min_gb_generic import min_game_blocks\n",
    "from src.data.gt_simulations import simulations, simulations2"
   ]
  },
  {
   "cell_type": "markdown",
   "metadata": {},
   "source": [
    "# Example of games"
   ]
  },
  {
   "cell_type": "code",
   "execution_count": null,
   "metadata": {},
   "outputs": [],
   "source": [
    "payoffs_test = [\n",
    "    [\n",
    "        [\n",
    "            [9, 0],\n",
    "            [0, 3]\n",
    "        ],\n",
    "        [\n",
    "            [-10, -3],\n",
    "            [-9, -10]\n",
    "        ]\n",
    "    ],\n",
    "    [\n",
    "        [\n",
    "            [8, 0],\n",
    "            [0, 4]\n",
    "        ],\n",
    "        [\n",
    "            [0, 4],\n",
    "            [8, 0]\n",
    "        ]\n",
    "    ],\n",
    "    [\n",
    "        [\n",
    "            [12, 0],\n",
    "            [0, 2]\n",
    "        ],\n",
    "        [\n",
    "            [0, 6],\n",
    "            [6, 0]\n",
    "        ]\n",
    "    ]\n",
    "    ]\n",
    "\n",
    "game_t = create_n_player_game(payoffs_test)"
   ]
  },
  {
   "cell_type": "code",
   "execution_count": null,
   "metadata": {},
   "outputs": [],
   "source": [
    "payoffs22 = [\n",
    "    [\n",
    "        [1,0],\n",
    "        [0,1],\n",
    "        [-1,-1]\n",
    "    ],\n",
    "    [\n",
    "        [1,0,4],\n",
    "        [0,1,3]\n",
    "    ]\n",
    "]\n",
    "\n",
    "game22 = create_n_player_game(payoffs22)"
   ]
  },
  {
   "cell_type": "code",
   "execution_count": null,
   "metadata": {},
   "outputs": [
    {
     "data": {
      "text/plain": [
       "(2, [3, 3])"
      ]
     },
     "metadata": {},
     "output_type": "display_data"
    }
   ],
   "source": [
    "payoffs2 = [\n",
    "    [\n",
    "        [\n",
    "            1,\n",
    "            -1,\n",
    "            -2\n",
    "        ],\n",
    "        [\n",
    "            -3,\n",
    "            1,\n",
    "            -4\n",
    "        ],\n",
    "        [\n",
    "            -2,\n",
    "            0,\n",
    "            1\n",
    "        ]\n",
    "    ],\n",
    "    [\n",
    "        [\n",
    "            1,\n",
    "            0,\n",
    "            -1\n",
    "        ],\n",
    "        [\n",
    "            -1,\n",
    "            1,\n",
    "            0\n",
    "        ],\n",
    "        [\n",
    "            0,\n",
    "            -1,\n",
    "            1\n",
    "        ]\n",
    "    ]\n",
    "]\n",
    "\n",
    "game2 = create_n_player_game(payoffs2)\n",
    "game2.num_players, game2.num_strategies#, game2.payoffs"
   ]
  },
  {
   "cell_type": "code",
   "execution_count": null,
   "metadata": {},
   "outputs": [
    {
     "data": {
      "text/plain": [
       "(3, [3, 2, 2])"
      ]
     },
     "metadata": {},
     "output_type": "display_data"
    }
   ],
   "source": [
    "payoffs3 = [\n",
    "    [\n",
    "        [\n",
    "            [9, 0],\n",
    "            [0, 3]\n",
    "        ],\n",
    "        [\n",
    "            [0, 3],\n",
    "            [9, 0]\n",
    "        ]\n",
    "        ,\n",
    "        [\n",
    "            [-1, 1],\n",
    "            [2, 4]\n",
    "        ]\n",
    "    ],\n",
    "    [\n",
    "        [\n",
    "            [8, 0],\n",
    "            [0, 4],\n",
    "            [2, 3]\n",
    "        ],\n",
    "        [\n",
    "            [0, 4],\n",
    "            [8, 0],\n",
    "            [5, 7]\n",
    "        ]\n",
    "    ],\n",
    "    [\n",
    "        [\n",
    "            [12, 0],\n",
    "            [0, 2],\n",
    "            [1, 1]\n",
    "        ],\n",
    "        [\n",
    "            [0, 6],\n",
    "            [6, 0],\n",
    "            [2, 3]\n",
    "        ]\n",
    "    ]\n",
    "]\n",
    "\n",
    "game3 = create_n_player_game(payoffs3)\n",
    "game3.num_players, game3.num_strategies#, game3.payoffs"
   ]
  },
  {
   "cell_type": "code",
   "execution_count": null,
   "metadata": {},
   "outputs": [
    {
     "data": {
      "text/plain": [
       "(4,\n",
       " [2, 2, 2, 2],\n",
       " [[[[[1, 2], [3, 4]], [[5, 6], [7, 8]]],\n",
       "   [[[9, 10], [11, 12]], [[13, 14], [15, 16]]]],\n",
       "  [[[[17, 18], [19, 20]], [[21, 22], [23, 24]]],\n",
       "   [[[25, 26], [27, 28]], [[29, 30], [31, 32]]]],\n",
       "  [[[[33, 34], [35, 36]], [[37, 38], [39, 40]]],\n",
       "   [[[41, 42], [43, 44]], [[45, 46], [47, 48]]]],\n",
       "  [[[[49, 50], [51, 52]], [[53, 54], [55, 56]]],\n",
       "   [[[57, 58], [59, 60]], [[61, 62], [63, 64]]]]],\n",
       " [[p11, p12], [p21, p22], [p31, p32], [p41, p42]],\n",
       " ((0, 1), (0, 1), (0, 1), (0, 1)))"
      ]
     },
     "metadata": {},
     "output_type": "display_data"
    }
   ],
   "source": [
    "payoffs4 = [\n",
    "    [\n",
    "        [[[1, 2], [3, 4]], [[5, 6], [7, 8]]],\n",
    "        [[[9, 10], [11, 12]], [[13, 14], [15, 16]]]\n",
    "    ],\n",
    "    [\n",
    "        [[[17, 18], [19, 20]], [[21, 22], [23, 24]]],\n",
    "        [[[25, 26], [27, 28]], [[29, 30], [31, 32]]]\n",
    "    ],\n",
    "    [\n",
    "        [[[33, 34], [35, 36]], [[37, 38], [39, 40]]],\n",
    "        [[[41, 42], [43, 44]], [[45, 46], [47, 48]]]\n",
    "    ],\n",
    "    [\n",
    "        [[[49, 50], [51, 52]], [[53, 54], [55, 56]]],\n",
    "        [[[57, 58], [59, 60]], [[61, 62], [63, 64]]]\n",
    "    ]\n",
    "]\n",
    "game4 = create_n_player_game(payoffs4)\n",
    "game4.num_players, game4.num_strategies, game4.payoffs, game4.proba, game4.index"
   ]
  },
  {
   "cell_type": "code",
   "execution_count": 28,
   "metadata": {},
   "outputs": [
    {
     "data": {
      "text/plain": [
       "(3, [3, 2, 2])"
      ]
     },
     "execution_count": 28,
     "metadata": {},
     "output_type": "execute_result"
    }
   ],
   "source": [
    "payoffs3 = [\n",
    "    [\n",
    "        [\n",
    "            [9, 0],\n",
    "            [0, 3]\n",
    "        ],\n",
    "        [\n",
    "            [0, 3],\n",
    "            [9, 0]\n",
    "        ]\n",
    "        ,\n",
    "        [\n",
    "            [-1, 1],\n",
    "            [2, 4]\n",
    "        ]\n",
    "    ],\n",
    "    [\n",
    "        [\n",
    "            [8, 0],\n",
    "            [0, 4],\n",
    "            [2, 3]\n",
    "        ],\n",
    "        [\n",
    "            [0, 4],\n",
    "            [8, 0],\n",
    "            [5, 7]\n",
    "        ]\n",
    "    ],\n",
    "    [\n",
    "        [\n",
    "            [12, 0],\n",
    "            [0, 2],\n",
    "            [1, 1]\n",
    "        ],\n",
    "        [\n",
    "            [0, 6],\n",
    "            [6, 0],\n",
    "            [2, 3]\n",
    "        ]\n",
    "    ]\n",
    "]\n",
    "\n",
    "game3 = create_n_player_game(payoffs3)\n",
    "game3.num_players, game3.num_strategies#, game3.payoffs"
   ]
  },
  {
   "cell_type": "code",
   "execution_count": 31,
   "metadata": {},
   "outputs": [
    {
     "data": {
      "text/plain": [
       "[[p11, p12], [p21, p22]]"
      ]
     },
     "execution_count": 31,
     "metadata": {},
     "output_type": "execute_result"
    }
   ],
   "source": [
    "payoffs21 = [\n",
    "    [\n",
    "        [1,0],\n",
    "        [0,1]\n",
    "    ],\n",
    "    [\n",
    "        [1,0],\n",
    "        [0,1]\n",
    "    ]\n",
    "]\n",
    "\n",
    "game21 = create_n_player_game(payoffs21)\n",
    "game21.proba"
   ]
  },
  {
   "cell_type": "markdown",
   "metadata": {},
   "source": [
    "# Showcasing functions"
   ]
  },
  {
   "cell_type": "code",
   "execution_count": 47,
   "metadata": {},
   "outputs": [
    {
     "name": "stdout",
     "output_type": "stream",
     "text": [
      "[[[1.0, 0], [1.0, 0]], [[0, 1.0], [0, 1.0]], [[0.5, 0.5000000000000001], [0.4999999999999999, 0.5000000000000002]]]\n",
      "(((0,), (0,), (0,)), [[([array([1., 0., 0.]), array([1., 0.]), array([1., 0.])], 1.0)]])\n",
      "(((1,), (0,), (1,)), [[([array([0., 1., 0.]), array([1., 0.]), array([0., 1.])], 1.0)]])\n",
      "(((1,), (1,), (0,)), [[([array([0., 1., 0.]), array([0., 1.]), array([1., 0.])], 1.0)]])\n",
      "(((2,), (1,), (1,)), [[([array([0., 0., 1.]), array([0., 1.]), array([0., 1.])], 1.0)]])\n"
     ]
    }
   ],
   "source": [
    "print (ne_solver(game21))\n",
    "for gb in min_game_blocks(game3):\n",
    "    print(gb)"
   ]
  },
  {
   "cell_type": "code",
   "execution_count": null,
   "metadata": {},
   "outputs": [],
   "source": [
    "da = simulations(300, 3, 2)"
   ]
  },
  {
   "cell_type": "code",
   "execution_count": null,
   "metadata": {},
   "outputs": [],
   "source": [
    "do = simulations2(200, 3, 2)"
   ]
  }
 ],
 "metadata": {
  "kernelspec": {
   "display_name": "denv",
   "language": "python",
   "name": "python3"
  },
  "language_info": {
   "codemirror_mode": {
    "name": "ipython",
    "version": 3
   },
   "file_extension": ".py",
   "mimetype": "text/x-python",
   "name": "python",
   "nbconvert_exporter": "python",
   "pygments_lexer": "ipython3",
   "version": "3.11.2"
  },
  "orig_nbformat": 4
 },
 "nbformat": 4,
 "nbformat_minor": 2
}
