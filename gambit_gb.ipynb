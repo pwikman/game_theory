{
 "cells": [
  {
   "cell_type": "code",
   "execution_count": 1,
   "id": "8a4b4a68-e313-4790-aa54-29b8d4d53f03",
   "metadata": {},
   "outputs": [],
   "source": [
    "import warnings\n",
    "from itertools import chain, combinations, product\n",
    "import numpy as np\n",
    "import numpy.typing as npt\n",
    "from typing import Generator, Any, Iterator, Tuple, Union\n",
    "import pandas as pd\n",
    "import time"
   ]
  },
  {
   "cell_type": "code",
   "execution_count": 2,
   "id": "b6ccc7ad-2443-415a-9e18-b8ac02dba1d7",
   "metadata": {
    "tags": []
   },
   "outputs": [],
   "source": [
    "def powerset(n: int) -> Iterator[Tuple[Any, ...]]:\n",
    "    \"\"\"\n",
    "    A power set of range(n)\n",
    "\n",
    "    Based on recipe from python itertools documentation:\n",
    "\n",
    "    https://docs.python.org/2/library/itertools.html#recipes\n",
    "\n",
    "    Parameters\n",
    "    ----------\n",
    "    n : int\n",
    "        The defining parameter of the powerset.\n",
    "\n",
    "    Returns\n",
    "    -------\n",
    "    Iterator\n",
    "        The powerset\n",
    "    \"\"\"\n",
    "    return chain.from_iterable(combinations(range(n), r) for r in range(n + 1))"
   ]
  },
  {
   "cell_type": "code",
   "execution_count": 4,
   "id": "e584dd07-c5fd-4e6d-9376-a3d4635e5f47",
   "metadata": {
    "tags": []
   },
   "outputs": [],
   "source": [
    "def potential_support_pairs(A: npt.NDArray, B: npt.NDArray, non_degenerate: bool = False) -> Generator[tuple, Any, None]:\n",
    "    \"\"\"\n",
    "    A generator for the potential support pairs\n",
    "\n",
    "\n",
    "    Parameters\n",
    "    ----------\n",
    "    A : array\n",
    "        The row player utility matrix.\n",
    "    B : array\n",
    "        The column player utility matrix\n",
    "    non_degenerate : bool\n",
    "        Whether or not to consider supports of equal size. By default\n",
    "        (False) only considers supports of equal size.\n",
    "\n",
    "    Yields\n",
    "    -------\n",
    "    Generator\n",
    "        A pair of possible supports.\n",
    "    \"\"\"\n",
    "    p1_num_strategies, p2_num_strategies = A.shape\n",
    "    for support1 in (s for s in powerset(p1_num_strategies) if len(s) > 0):\n",
    "        for support2 in (\n",
    "            s \n",
    "            for s in powerset(p2_num_strategies) \n",
    "            if (len(s) > 0 and non_degenerate) or len(s) == len(support1)\n",
    "        ):\n",
    "            \n",
    "            yield support1, support2"
   ]
  },
  {
   "cell_type": "code",
   "execution_count": 3,
   "id": "8f7cce2f-8b48-49bb-a7b0-594e6a15caa4",
   "metadata": {
    "tags": []
   },
   "outputs": [],
   "source": [
    "def solve_indifference(A, rows=None, columns=None) -> Union[bool, Any]:\n",
    "    \"\"\"\n",
    "    Solve the indifference for a payoff matrix assuming support for the\n",
    "    strategies given by columns\n",
    "\n",
    "    Finds vector of probabilities that makes player indifferent between\n",
    "    rows.  (So finds probability vector for corresponding column player)\n",
    "\n",
    "    Parameters\n",
    "    ----------\n",
    "    A : array\n",
    "        The row player utility matrix.\n",
    "    rows : array\n",
    "        Array of integers corresponding to rows to consider.\n",
    "    columns : array\n",
    "        Array of integers corresponding to columns to consider.\n",
    "\n",
    "    Returns\n",
    "    -------\n",
    "    Union\n",
    "        The solution to the indifference equations.\n",
    "    \"\"\"\n",
    "    # Ensure differences between pairs of pure strategies are the same\n",
    "    M = (A[np.array(rows)] - np.roll(A[np.array(rows)], 1, axis=0))[:-1]\n",
    "    # Columns that must be played with prob 0\n",
    "    zero_columns = set(range(A.shape[1])) - set(columns)\n",
    "\n",
    "    if zero_columns != set():\n",
    "        M = np.append(\n",
    "            M,\n",
    "            [[int(i == j) for i, col in enumerate(M.T)] for j in zero_columns],\n",
    "            axis=0,\n",
    "        )\n",
    "\n",
    "    # Ensure have probability vector\n",
    "    M = np.append(M, np.ones((1, M.shape[1])), axis=0)\n",
    "    b = np.append(np.zeros(len(M) - 1), [1])\n",
    "\n",
    "    try:\n",
    "        prob = np.linalg.solve(M, b)\n",
    "        if all(prob >= 0):\n",
    "            return prob\n",
    "        return False\n",
    "    except np.linalg.LinAlgError:\n",
    "        return False"
   ]
  },
  {
   "cell_type": "code",
   "execution_count": 29,
   "id": "b3073c2c-90b2-44fc-b3e7-052aabfc85b9",
   "metadata": {
    "tags": []
   },
   "outputs": [],
   "source": [
    "def indifference_strategies(A: npt.NDArray, B: npt.NDArray, pair, non_degenerate: bool = False, tol: float = 10**-16) ->Tuple[ Any, Any]:\n",
    "    \"\"\"\n",
    "    A function that returns a pair of strategies that consitutes a completely mixed Nash equilibrium of the block game\n",
    "    \n",
    "    Parameters\n",
    "    ----------\n",
    "    A : array\n",
    "        The row player utility matrix.\n",
    "    B : array\n",
    "        The column player utility matrix\n",
    "    pair : tuple\n",
    "        a 2-tuple of numpy arrays of integers.\n",
    "    non_degenerate : bool\n",
    "        Whether or not to consider supports of equal size. By default\n",
    "        (False) only considers supports of equal size.\n",
    "    tol : float\n",
    "        A tolerance parameter for equality.\n",
    "\n",
    "    Yields\n",
    "    ------\n",
    "    Return\n",
    "        A a pair of strategies that are indifferent on each\n",
    "        potential support. Return False if they are not valid (not a\n",
    "        probability vector OR not fully on the given support).\n",
    "    \"\"\"\n",
    "    if non_degenerate:\n",
    "        tol = min(tol, 0)\n",
    "\n",
    "    s1 = solve_indifference(B.T, *(pair[::-1]))\n",
    "    s2 = solve_indifference(A, *pair)\n",
    "\n",
    "    if obey_support(s1, pair[0], tol=tol) and obey_support(s2, pair[1], tol=tol):\n",
    "        return s1, s2\n",
    "    else:\n",
    "        return None, None"
   ]
  },
  {
   "cell_type": "code",
   "execution_count": 6,
   "id": "ac4fd60b-3b2e-4105-a791-8103171557df",
   "metadata": {
    "tags": []
   },
   "outputs": [],
   "source": [
    "def obey_support(strategy, support: npt.NDArray, tol: float = 10**-16) -> bool:\n",
    "    \"\"\"\n",
    "    Test if a strategy obeys its support\n",
    "\n",
    "    Parameters\n",
    "    ----------\n",
    "    strategy: array\n",
    "        A given strategy vector\n",
    "    support: array\n",
    "        A strategy support\n",
    "    tol : float\n",
    "        A tolerance parameter for equality.\n",
    "\n",
    "    Returns\n",
    "    -------\n",
    "    bool\n",
    "        whether or not that strategy does indeed have the given support\n",
    "    \"\"\"\n",
    "    if strategy is False:\n",
    "        return False\n",
    "    if not all(\n",
    "        (i in support and value > tol) or (i not in support and value <= tol)\n",
    "        for i, value in enumerate(strategy)\n",
    "    ):\n",
    "        return False\n",
    "    return True"
   ]
  },
  {
   "cell_type": "code",
   "execution_count": 30,
   "id": "6ea8311e-db2e-4ebf-a52d-74152dc1cd74",
   "metadata": {
    "tags": []
   },
   "outputs": [],
   "source": [
    "def is_ne_ind(strategy_pair: tuple, support_pair: Tuple[npt.NDArray, npt.NDArray], payoff_matrices: Tuple[npt.NDArray, npt.NDArray],) -> (bool, int):\n",
    "    \"\"\"\n",
    "    Test if a given strategy pair is a pair of best responses and if true calculates its index\n",
    "\n",
    "    Parameters\n",
    "    ----------\n",
    "    strategy_pair: tuple\n",
    "        a 2-tuple of numpy arrays.\n",
    "    support_pair: tuple\n",
    "        a 2-tuple of numpy arrays of integers.\n",
    "    payoff_matrices: tuple\n",
    "        a 2-tuple of numpy array of payoff matrices.\n",
    "\n",
    "    Returns\n",
    "    -------\n",
    "    bool\n",
    "        True if a given strategy pair is a pair of best responses.\n",
    "    int\n",
    "        If pair is consitutes a Nash equilibrium, return its index.\n",
    "    \"\"\"\n",
    "    if strategy_pair[0] is None:\n",
    "        return (bool(0), 0)\n",
    "    \n",
    "    A, B = payoff_matrices\n",
    "    # Payoff against opponents strategies:\n",
    "    u = strategy_pair[1].reshape(strategy_pair[1].size, 1)\n",
    "    row_payoffs = np.dot(A, u)\n",
    "\n",
    "    v = strategy_pair[0].reshape(strategy_pair[0].size, 1)\n",
    "    column_payoffs = np.dot(B.T, v)\n",
    "\n",
    "    # Pure payoffs on current support:\n",
    "    row_support_payoffs = row_payoffs[np.array(support_pair[0])]\n",
    "    column_support_payoffs = column_payoffs[np.array(support_pair[1])]\n",
    "\n",
    "    A_sup = A[np.array(support_pair[0])].T [np.array(support_pair[1])].T\n",
    "    B_sup = B[np.array(support_pair[0])].T [np.array(support_pair[1])].T\n",
    "    \n",
    "    if row_payoffs.max() == row_support_payoffs.max() and column_payoffs.max() == column_support_payoffs.max():\n",
    "        index = np.sign((-1)**(1+len(support_pair[0]))*np.linalg.det(A_sup)*np.linalg.det(B_sup)) # Govindan and Wilson (1997)\n",
    "        return (bool(1), index)\n",
    "    else: \n",
    "        return (bool(0), 0)\n",
    "    return "
   ]
  },
  {
   "cell_type": "code",
   "execution_count": 47,
   "id": "4bddf9f7-89f6-4c7e-856d-798a2d17ed01",
   "metadata": {
    "tags": []
   },
   "outputs": [],
   "source": [
    "def calc_index_block(blocks_w_index, pair, ne_index) -> Union[Tuple[Any, Any], int, Any]:\n",
    "    \"\"\"\n",
    "    Tests if a given block contains a block from a given set of blocks\n",
    "\n",
    "    Parameters\n",
    "    ----------\n",
    "    pair: tuple\n",
    "        a 2-tuple of numpy arrays of integers.\n",
    "    min_gbs: array\n",
    "        a numpy array of 2-tuple of numpy arrays of integers.\n",
    "    ne_index: tuple\n",
    "        a pair of strategy profiles with their index\n",
    "\n",
    "    Returns\n",
    "    -------\n",
    "    tuple: To be simplified and described\n",
    " \n",
    "    \"\"\"\n",
    "    gb = bool(0)\n",
    "    temp = 0\n",
    "    ne_indices = []\n",
    "    for block, ne_index_b in blocks_w_index:\n",
    "        if set(block[0][0]) <= set(pair[0]) and set(block[0][1]) <= set(pair[1]):\n",
    "            temp =+ block[1]\n",
    "            if ne_index_b[0] is not None:\n",
    "                ne_indices.append(ne_index_b)\n",
    "    index = ne_index[1] + temp\n",
    "    ne_indices.append(ne_index)\n",
    "    if index==1:\n",
    "        gb=bool(1)\n",
    "    return [pair, ne_index[1]], ne_indices, gb "
   ]
  },
  {
   "cell_type": "code",
   "execution_count": 44,
   "id": "e2bf1d39-2eb1-423b-b6ba-3e9ab6e2611b",
   "metadata": {
    "tags": []
   },
   "outputs": [],
   "source": [
    "def is_nested(pair, min_gbs) -> bool:\n",
    "    \"\"\"\n",
    "    Tests if a given block contains a block from a given set of blocks\n",
    "\n",
    "    Parameters\n",
    "    ----------\n",
    "    pair: tuple\n",
    "        a 2-tuple of numpy arrays of integers.\n",
    "    min_gbs: array\n",
    "        a numpy array of 2-tuple of numpy arrays of integers.\n",
    "\n",
    "    Returns\n",
    "    -------\n",
    "    bool\n",
    "        True if a given block properly contains a block from the given set.\n",
    "    \"\"\"\n",
    "    for mgb in min_gbs:\n",
    "            if set(mgb[0]) <= set(pair[0]) and set(mgb[1]) <= set(pair[1]):\n",
    "                return bool(1)\n",
    "    return bool(0)"
   ]
  },
  {
   "cell_type": "code",
   "execution_count": 16,
   "id": "ea37a964-db20-4c6c-94cc-ab2db795c84d",
   "metadata": {
    "tags": []
   },
   "outputs": [],
   "source": [
    "def support_enumeration(A: npt.NDArray, B: npt.NDArray, non_degenerate: bool = False, tol: float = 10**-16):# -> Generator[Tuple[bool, bool], Any, None]:\n",
    "    \"\"\"\n",
    "    Obtain the Nash equilibria using support enumeration.\n",
    "\n",
    "    Algorithm implemented here is a modified version of Algorithm 3.4 of [Nisan2007] that gives minimal game blocks and solid outcomes \n",
    "\n",
    "    See algorithm described elsewhere\n",
    "\n",
    "    Parameters\n",
    "    ----------\n",
    "    A : array\n",
    "        The row player utility matrix.\n",
    "    B : array\n",
    "        The column player utility matrix\n",
    "    non_degenerate : bool\n",
    "        Whether or not to consider supports of equal size. By default\n",
    "        (False) only considers supports of equal size.\n",
    "    tol : float\n",
    "        A tolerance parameter for equality.\n",
    "\n",
    "    Yields\n",
    "    -------\n",
    "    Generator\n",
    "        The minimal game block with its combined index and the equilibria with their corresponding indices.\n",
    "    \"\"\"\n",
    "    blocks_w_index = []\n",
    "    min_gameb = []\n",
    "    solid_outcomes = []\n",
    "    for pair in potential_support_pairs(A, B, non_degenerate=non_degenerate):\n",
    "        if is_nested(pair, min_gameb):\n",
    "            continue\n",
    "        else:\n",
    "            s1, s2 = indifference_strategies(A, B, pair, non_degenerate=non_degenerate, tol=tol)\n",
    "            ne, index = is_ne_ind((s1, s2), pair, (A, B))\n",
    "            if ne:\n",
    "                ne_index = [s1,s2], index\n",
    "            else:\n",
    "                ne_index = [None, 0]\n",
    "            block_w_index, ne_indices, gb = calc_index_block(blocks_w_index, pair, ne_index)\n",
    "            blocks_w_index.append([block_w_index, ne_index])\n",
    "            if gb:\n",
    "                min_gameb.append(pair)\n",
    "                yield block_w_index[0], ne_indices[0]"
   ]
  },
  {
   "cell_type": "code",
   "execution_count": 52,
   "id": "8b2d355a-bf75-4f25-8040-bd32424b621b",
   "metadata": {
    "tags": []
   },
   "outputs": [
    {
     "name": "stdout",
     "output_type": "stream",
     "text": [
      "[[0.31470082 0.31621274 0.7628385  0.70884285 0.29368735]\n",
      " [0.43446093 0.2313267  0.58232856 0.68021306 0.14821953]\n",
      " [0.08936838 0.24902682 0.26011335 0.42299947 0.69500044]\n",
      " [0.77848303 0.92778289 0.26487824 0.03698962 0.6641087 ]\n",
      " [0.07981482 0.64286412 0.76703548 0.83456927 0.60313477]]\n",
      "[[0.60545001 0.55795111 0.0196754  0.75590621 0.24393973]\n",
      " [0.74056941 0.62750744 0.18701071 0.31953603 0.2628513 ]\n",
      " [0.16483105 0.71571907 0.28823627 0.28275728 0.52879504]\n",
      " [0.82734265 0.36212731 0.31374401 0.73361349 0.37413965]\n",
      " [0.90760232 0.98852551 0.0247682  0.42758515 0.10557889]]\n",
      "block: ((3,), (0,)) NE: [array([0., 0., 0., 1., 0.]), array([1., 0., 0., 0., 0.])] index: 1.0\n"
     ]
    }
   ],
   "source": [
    "m, n = np.random.rand(5,5), np.random.rand(5,5)\n",
    "print(m)\n",
    "print(n)\n",
    "for i, j in support_enumeration(m,n):\n",
    "    print(\"block:\", i, \"NE:\", j[0], \"index:\", j[1])"
   ]
  },
  {
   "cell_type": "code",
   "execution_count": 51,
   "id": "5c987a69-abea-4ee6-8e52-7a06f357bd8f",
   "metadata": {
    "tags": []
   },
   "outputs": [
    {
     "name": "stdout",
     "output_type": "stream",
     "text": [
      "[[0.23829679 0.8745105  0.75425932 0.55634938]\n",
      " [0.05582288 0.1056687  0.91071992 0.5043406 ]\n",
      " [0.98741089 0.21975027 0.90555963 0.53885173]\n",
      " [0.92343284 0.58710128 0.64017278 0.58807912]]\n",
      "[[0.47666705 0.803487   0.67365332 0.16357639]\n",
      " [0.39155968 0.03095863 0.74201943 0.40907269]\n",
      " [0.3773084  0.65782603 0.15010643 0.49308804]\n",
      " [0.18742591 0.0201202  0.36952566 0.24705012]]\n",
      "block: ((0,), (1,)) NE: [array([1., 0., 0., 0.]), array([0., 1., 0., 0.])] index: 1.0\n",
      "block: ((1,), (2,)) NE: [array([0., 1., 0., 0.]), array([0., 0., 1., 0.])] index: 1.0\n",
      "block: ((2, 3), (2, 3)) NE: [array([0.        , 0.        , 0.26312957, 0.73687043]), array([0.        , 0.        , 0.15646905, 0.84353095])] index: 1.0\n"
     ]
    }
   ],
   "source": [
    "print(save)\n",
    "print(it)\n",
    "for i, j in support_enumeration(save,it):\n",
    "    print(\"block:\", i, \"NE:\", j[0], \"index:\", j[1])"
   ]
  },
  {
   "cell_type": "code",
   "execution_count": null,
   "id": "7be34851-eada-495d-a0ad-1b103f51689e",
   "metadata": {
    "tags": []
   },
   "outputs": [],
   "source": [
    "n = 10000\n",
    "df2 = []\n",
    "for j in range(6):\n",
    "    df = []\n",
    "    for k in range(6):\n",
    "        n_ne = 0\n",
    "        r, c = j + 2, k + 2\n",
    "        for i in range(n):\n",
    "            l, m = np.random.rand(r,c), np.random.rand(r,c)\n",
    "            for _, _ in enumerate(support_enumeration(l,m)):\n",
    "                n_ne +=  1\n",
    "        df.append(n_ne / n)\n",
    "    df2.append(df)\n",
    "    print(df2)"
   ]
  },
  {
   "cell_type": "code",
   "execution_count": null,
   "id": "858d9f37-23c6-4bfb-82ff-abab8426e36f",
   "metadata": {
    "tags": []
   },
   "outputs": [],
   "source": [
    "n = 100000\n",
    "\n",
    "n_ne = 0\n",
    "tic = time.perf_counter()\n",
    "for i in range(n):\n",
    "\n",
    "    l, m = np.random.rand(2,2), np.random.rand(2,2)\n",
    "    for _, _ in enumerate(support_enumeration(l,m)):\n",
    "        n_ne +=  1\n",
    "    if i%500==0:\n",
    "        toc = time.perf_counter()\n",
    "        print(np.round(toc -tic,1) , i / n)\n",
    "        \n",
    "n_ne / n"
   ]
  },
  {
   "cell_type": "code",
   "execution_count": 58,
   "id": "f78e7f46-6a92-4790-b694-7c975ea77a6e",
   "metadata": {
    "tags": []
   },
   "outputs": [],
   "source": [
    "a = [[1.1269, 1.183, 1.2243, 1.2492, 1.2788, 1.2965], [1.1824, 1.2859, 1.3613, 1.4135, 1.4672, 1.5115], [1.2294, 1.3579, 1.4684, 1.5566, 1.6217, 1.6898], \n",
    "     [1.2524, 1.4258, 1.5346, 1.6621, 1.7622, 1.8395], [1.2841, 1.4762, 1.616, 1.7557, 1.8743, 2.0174 ], [\"?\", \"?\", \"?\", \"?\", \"?\", 2.1612 ]]"
   ]
  },
  {
   "cell_type": "code",
   "execution_count": 59,
   "id": "1c677b72-19a7-4aae-a2b8-13669453a54c",
   "metadata": {
    "tags": []
   },
   "outputs": [
    {
     "data": {
      "text/plain": [
       "[[1.1269, 1.183, 1.2243, 1.2492, 1.2788, 1.2965],\n",
       " [1.1824, 1.2859, 1.3613, 1.4135, 1.4672, 1.5115],\n",
       " [1.2294, 1.3579, 1.4684, 1.5566, 1.6217, 1.6898],\n",
       " [1.2524, 1.4258, 1.5346, 1.6621, 1.7622, 1.8395],\n",
       " [1.2841, 1.4762, 1.616, 1.7557, 1.8743, 2.0174],\n",
       " ['?', '?', '?', '?', '?', 2.1612]]"
      ]
     },
     "execution_count": 59,
     "metadata": {},
     "output_type": "execute_result"
    }
   ],
   "source": [
    "a"
   ]
  }
 ],
 "metadata": {
  "kernelspec": {
   "display_name": "Python 3 (ipykernel)",
   "language": "python",
   "name": "python3"
  },
  "language_info": {
   "codemirror_mode": {
    "name": "ipython",
    "version": 3
   },
   "file_extension": ".py",
   "mimetype": "text/x-python",
   "name": "python",
   "nbconvert_exporter": "python",
   "pygments_lexer": "ipython3",
   "version": "3.11.2"
  }
 },
 "nbformat": 4,
 "nbformat_minor": 5
}
